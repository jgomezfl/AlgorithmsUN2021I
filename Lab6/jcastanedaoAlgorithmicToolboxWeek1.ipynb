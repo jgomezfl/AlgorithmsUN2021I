{
  "nbformat": 4,
  "nbformat_minor": 0,
  "metadata": {
    "colab": {
      "name": "jcastanedaoAlgorithmicToolboxWeek1.ipynb",
      "provenance": [],
      "collapsed_sections": []
    },
    "kernelspec": {
      "name": "python3",
      "display_name": "Python 3"
    },
    "language_info": {
      "name": "python"
    }
  },
  "cells": [
    {
      "cell_type": "markdown",
      "metadata": {
        "id": "N1ok_-56OjB1"
      },
      "source": [
        "# I Solving the Sum of Two Digits Programming Challenge"
      ]
    },
    {
      "cell_type": "markdown",
      "metadata": {
        "id": "MMY7kmDSO0KM"
      },
      "source": [
        "## C++"
      ]
    },
    {
      "cell_type": "code",
      "metadata": {
        "colab": {
          "base_uri": "https://localhost:8080/"
        },
        "id": "2pGGf9BkPNIk",
        "outputId": "a99dfd46-148e-4b6c-ee32-34164c5a135a"
      },
      "source": [
        "%%writefile AplusB.cpp\n",
        "#include <iostream>\n",
        "\n",
        "int sum_of_two_digits(int first_digit, int second_digit) {\n",
        "    return first_digit + second_digit;\n",
        "}\n",
        "\n",
        "int main() {\n",
        "    int a = 0;\n",
        "    int b = 0;\n",
        "    std::cin >> a;\n",
        "    std::cin >> b;\n",
        "    std::cout << sum_of_two_digits(a, b);\n",
        "    return 0;\n",
        "}"
      ],
      "execution_count": null,
      "outputs": [
        {
          "output_type": "stream",
          "text": [
            "Writing AplusB.cpp\n"
          ],
          "name": "stdout"
        }
      ]
    },
    {
      "cell_type": "code",
      "metadata": {
        "colab": {
          "base_uri": "https://localhost:8080/"
        },
        "id": "0G3ZKOYAPXSU",
        "outputId": "559d0230-9a4d-48d9-8852-a65ce732b2a5"
      },
      "source": [
        "!g++ AplusB.cpp -o sum\n",
        "!./sum"
      ],
      "execution_count": null,
      "outputs": [
        {
          "output_type": "stream",
          "text": [
            "5 9\n",
            "14"
          ],
          "name": "stdout"
        }
      ]
    },
    {
      "cell_type": "code",
      "metadata": {
        "colab": {
          "base_uri": "https://localhost:8080/"
        },
        "id": "7wedlX2La30G",
        "outputId": "c0c33d72-18f6-4203-8a45-5d9257b352bc"
      },
      "source": [
        "!g++ AplusB.cpp -o sum\n",
        "!./sum"
      ],
      "execution_count": null,
      "outputs": [
        {
          "output_type": "stream",
          "text": [
            "15 89\n",
            "104"
          ],
          "name": "stdout"
        }
      ]
    },
    {
      "cell_type": "markdown",
      "metadata": {
        "id": "iNkG2HqfTl9c"
      },
      "source": [
        "### Test input output files"
      ]
    },
    {
      "cell_type": "code",
      "metadata": {
        "colab": {
          "base_uri": "https://localhost:8080/"
        },
        "id": "aTzU2efzMxly",
        "outputId": "6b54c30a-6063-40f0-eb24-70fde361799a"
      },
      "source": [
        "%%writefile input1.txt\n",
        "4 8"
      ],
      "execution_count": null,
      "outputs": [
        {
          "output_type": "stream",
          "text": [
            "Writing input1.txt\n"
          ],
          "name": "stdout"
        }
      ]
    },
    {
      "cell_type": "code",
      "metadata": {
        "colab": {
          "base_uri": "https://localhost:8080/"
        },
        "id": "zBJ0Gc0NQRet",
        "outputId": "1bb146d5-fa1f-48db-9833-c8d00de3d4ec"
      },
      "source": [
        "%%writefile output1.txt\n",
        "12"
      ],
      "execution_count": null,
      "outputs": [
        {
          "output_type": "stream",
          "text": [
            "Writing output1.txt\n"
          ],
          "name": "stdout"
        }
      ]
    },
    {
      "cell_type": "code",
      "metadata": {
        "colab": {
          "base_uri": "https://localhost:8080/"
        },
        "id": "IjEcIx63PJAN",
        "outputId": "54da416f-19d9-46c5-9dd2-40fda079972c"
      },
      "source": [
        "%%writefile input2.txt\n",
        "-5 9"
      ],
      "execution_count": null,
      "outputs": [
        {
          "output_type": "stream",
          "text": [
            "Writing input2.txt\n"
          ],
          "name": "stdout"
        }
      ]
    },
    {
      "cell_type": "code",
      "metadata": {
        "colab": {
          "base_uri": "https://localhost:8080/"
        },
        "id": "Up9gOrxURTmd",
        "outputId": "b870f7be-3ff7-425b-e449-b6f70301e973"
      },
      "source": [
        "%%writefile output2.txt\n",
        "4"
      ],
      "execution_count": null,
      "outputs": [
        {
          "output_type": "stream",
          "text": [
            "Writing output2.txt\n"
          ],
          "name": "stdout"
        }
      ]
    },
    {
      "cell_type": "code",
      "metadata": {
        "colab": {
          "base_uri": "https://localhost:8080/"
        },
        "id": "PST6G-s-Pwgc",
        "outputId": "d40784f5-4536-406d-e886-63bfca102741"
      },
      "source": [
        "!./sum < input1.txt"
      ],
      "execution_count": null,
      "outputs": [
        {
          "output_type": "stream",
          "text": [
            "12"
          ],
          "name": "stdout"
        }
      ]
    },
    {
      "cell_type": "code",
      "metadata": {
        "colab": {
          "base_uri": "https://localhost:8080/"
        },
        "id": "cKxZOjSlRfIN",
        "outputId": "8c0a5957-fe3b-4915-ee4e-40c532de7ade"
      },
      "source": [
        "!./sum < input2.txt"
      ],
      "execution_count": null,
      "outputs": [
        {
          "output_type": "stream",
          "text": [
            "4"
          ],
          "name": "stdout"
        }
      ]
    },
    {
      "cell_type": "markdown",
      "metadata": {
        "id": "Qw2TQWCCUwqk"
      },
      "source": [
        "### Comparing files with grep\n",
        "\n",
        "https://askubuntu.com/questions/546796/comparing-two-text-files"
      ]
    },
    {
      "cell_type": "code",
      "metadata": {
        "id": "WVIaAmMKU4QM"
      },
      "source": [
        "!grep -xvFf output1.txt output1.txt "
      ],
      "execution_count": null,
      "outputs": []
    },
    {
      "cell_type": "code",
      "metadata": {
        "colab": {
          "base_uri": "https://localhost:8080/"
        },
        "id": "MQU8gPPjQuYO",
        "outputId": "4979cce7-cb95-41f4-839d-f9e407aa3fc8"
      },
      "source": [
        "!grep -xvFf output1.txt output2.txt "
      ],
      "execution_count": null,
      "outputs": [
        {
          "output_type": "stream",
          "text": [
            "4\n"
          ],
          "name": "stdout"
        }
      ]
    },
    {
      "cell_type": "code",
      "metadata": {
        "colab": {
          "base_uri": "https://localhost:8080/"
        },
        "id": "jYL9OuYBTD_l",
        "outputId": "342d1b72-2f38-43d3-cd14-bdfe2d7b26ed"
      },
      "source": [
        "!grep -xvFf output2.txt output1.txt "
      ],
      "execution_count": null,
      "outputs": [
        {
          "output_type": "stream",
          "text": [
            "12\n"
          ],
          "name": "stdout"
        }
      ]
    },
    {
      "cell_type": "code",
      "metadata": {
        "id": "Jlja0Xm4TX9M"
      },
      "source": [
        "!./sum < input1.txt> ctest1.txt\n",
        "!grep -xvFf output1.txt ctest1.txt"
      ],
      "execution_count": null,
      "outputs": []
    },
    {
      "cell_type": "code",
      "metadata": {
        "id": "g9OIUZA_QLCQ"
      },
      "source": [
        "!./sum < input2.txt > ctest2.txt\n",
        "!grep -xvFf output2.txt ctest2.txt"
      ],
      "execution_count": null,
      "outputs": []
    },
    {
      "cell_type": "markdown",
      "metadata": {
        "id": "3BgOaDjUVJk6"
      },
      "source": [
        "## Python"
      ]
    },
    {
      "cell_type": "code",
      "metadata": {
        "colab": {
          "base_uri": "https://localhost:8080/"
        },
        "id": "DBvl-T0CTN_8",
        "outputId": "077e959e-8385-4d02-9909-37c624211a6e"
      },
      "source": [
        "%%writefile sum.py\n",
        "# python3\n",
        "\n",
        "\n",
        "def sum_of_two_digits(first_digit, second_digit):\n",
        "    return first_digit + second_digit\n",
        "\n",
        "if __name__ == '__main__':\n",
        "    a, b = map(int, input().split())\n",
        "    print(sum_of_two_digits(a, b))"
      ],
      "execution_count": null,
      "outputs": [
        {
          "output_type": "stream",
          "text": [
            "Writing sum.py\n"
          ],
          "name": "stdout"
        }
      ]
    },
    {
      "cell_type": "code",
      "metadata": {
        "colab": {
          "base_uri": "https://localhost:8080/"
        },
        "id": "QKoKM11_WGyF",
        "outputId": "26494bc2-c79f-453a-ba10-ef6788514d71"
      },
      "source": [
        "!python sum.py"
      ],
      "execution_count": null,
      "outputs": [
        {
          "output_type": "stream",
          "text": [
            "4 8\n",
            "12\n"
          ],
          "name": "stdout"
        }
      ]
    },
    {
      "cell_type": "code",
      "metadata": {
        "id": "cocFbPRTWrqt"
      },
      "source": [
        "!python sum.py  < input1.txt> ptest1.txt\n",
        "!grep -xvFf output1.txt ptest1.txt"
      ],
      "execution_count": null,
      "outputs": []
    },
    {
      "cell_type": "code",
      "metadata": {
        "id": "MorKTa-XXASN"
      },
      "source": [
        "!python sum.py  < input2.txt> ptest2.txt\n",
        "!grep -xvFf output2.txt ptest2.txt"
      ],
      "execution_count": null,
      "outputs": []
    },
    {
      "cell_type": "markdown",
      "metadata": {
        "id": "uvP-mOubW_5F"
      },
      "source": [
        "# II Solving The Maximum Pairwise Product Programming Challenge in C++"
      ]
    },
    {
      "cell_type": "markdown",
      "metadata": {
        "id": "C12yoFR6Xonl"
      },
      "source": [
        "## C++"
      ]
    },
    {
      "cell_type": "markdown",
      "metadata": {
        "id": "z1mhYDuTa97D"
      },
      "source": [
        "Brute force"
      ]
    },
    {
      "cell_type": "code",
      "metadata": {
        "colab": {
          "base_uri": "https://localhost:8080/"
        },
        "id": "YL4qJX3tXxdd",
        "outputId": "54bfb302-3eb6-4d44-8203-36aa07f07458"
      },
      "source": [
        "%%writefile max_pairwise_product1.cpp\n",
        "#include <iostream>\n",
        "#include <vector>\n",
        "#include <algorithm>\n",
        "\n",
        "int MaxPairwiseProduct(const std::vector<int>& numbers) {\n",
        "    int max_product = 0;\n",
        "    int n = numbers.size();\n",
        "\n",
        "    for (int first = 0; first < n; ++first) {\n",
        "        for (int second = first + 1; second < n; ++second) {\n",
        "            max_product = std::max(max_product,\n",
        "                numbers[first] * numbers[second]);\n",
        "        }\n",
        "    }\n",
        "\n",
        "    return max_product;\n",
        "}\n",
        "\n",
        "int main() {\n",
        "    int n;\n",
        "    std::cin >> n;\n",
        "    std::vector<int> numbers(n);\n",
        "    for (int i = 0; i < n; ++i) {\n",
        "        std::cin >> numbers[i];\n",
        "    }\n",
        "\n",
        "    std::cout << MaxPairwiseProduct(numbers) << \"\\n\";\n",
        "    return 0;\n",
        "}\n"
      ],
      "execution_count": 150,
      "outputs": [
        {
          "output_type": "stream",
          "text": [
            "Writing max_pairwise_product1.cpp\n"
          ],
          "name": "stdout"
        }
      ]
    },
    {
      "cell_type": "code",
      "metadata": {
        "colab": {
          "base_uri": "https://localhost:8080/"
        },
        "id": "KGxaEjvWX__O",
        "outputId": "cb88b350-4d20-48f7-f11b-fe6308d0aa62"
      },
      "source": [
        "!g++ max_pairwise_product1.cpp -o max_pairwise_product1\n",
        "!./max_pairwise_product1"
      ],
      "execution_count": 155,
      "outputs": [
        {
          "output_type": "stream",
          "text": [
            "8\n",
            "24 68 93 49 3109 4912 134 12\n",
            "15271408\n"
          ],
          "name": "stdout"
        }
      ]
    },
    {
      "cell_type": "markdown",
      "metadata": {
        "id": "IeZ3kTjpYmR9"
      },
      "source": [
        "### Test 1: lagest input numbers 200000 200000 in the input"
      ]
    },
    {
      "cell_type": "code",
      "metadata": {
        "colab": {
          "base_uri": "https://localhost:8080/"
        },
        "id": "LQNlZqaqYt7U",
        "outputId": "3a7d349b-1eab-49c7-f921-4606da9096b2"
      },
      "source": [
        "%%writefile input1.txt\n",
        "5\n",
        "1 3 200000 9 200000 23"
      ],
      "execution_count": 3,
      "outputs": [
        {
          "output_type": "stream",
          "text": [
            "Writing input1.txt\n"
          ],
          "name": "stdout"
        }
      ]
    },
    {
      "cell_type": "code",
      "metadata": {
        "colab": {
          "base_uri": "https://localhost:8080/"
        },
        "id": "2Wad2VZUZDxR",
        "outputId": "39824500-91c4-4f8b-f661-1fe84862424b"
      },
      "source": [
        "!./max_pairwise_product1 < input1.txt"
      ],
      "execution_count": null,
      "outputs": [
        {
          "output_type": "stream",
          "text": [
            "1345294336\n"
          ],
          "name": "stdout"
        }
      ]
    },
    {
      "cell_type": "markdown",
      "metadata": {
        "id": "RZyAoDTBZtva"
      },
      "source": [
        "Fixing integer overflow"
      ]
    },
    {
      "cell_type": "code",
      "metadata": {
        "colab": {
          "base_uri": "https://localhost:8080/"
        },
        "id": "MPcmsxiQZSfE",
        "outputId": "467eeff4-d7f8-46e6-9300-a6053a294ed9"
      },
      "source": [
        "%%writefile max_pairwise_product2.cpp\n",
        "#include <iostream>\n",
        "#include <vector>\n",
        "#include <algorithm>\n",
        "#include <chrono>\n",
        "\n",
        "using namespace std;\n",
        "using namespace std::chrono;\n",
        "\n",
        "long long MaxPairwiseProduct(const std::vector<int>& numbers) {\n",
        "    long long max_product = 0LL;\n",
        "\t  long long aux_product = 0LL;\n",
        "    int n = numbers.size();\n",
        "\n",
        "    for (int first = 0; first < n; ++first) {\n",
        "        for (int second = first + 1; second < n; ++second) {\n",
        "\t\t\t       aux_product =  (long long) numbers[first] * numbers[second];\n",
        "            if ( max_product < aux_product)  {\n",
        "\t\t\t\t        max_product = aux_product;\n",
        "             }\n",
        "        }\n",
        "    }\n",
        "\n",
        "    return max_product;\n",
        "}\n",
        "\n",
        "int main() {\n",
        "    int n;\n",
        "\n",
        "    auto start = high_resolution_clock::now();\n",
        "\n",
        "    cin >> n;\n",
        "    vector<int> numbers(n);\n",
        "    for (int i = 0; i < n; ++i) {\n",
        "        cin >> numbers[i];\n",
        "    }\n",
        "\n",
        "    cout << MaxPairwiseProduct(numbers) << \"\\n\";\n",
        "\n",
        "    auto stop = high_resolution_clock::now();\n",
        "\n",
        "    auto duration = duration_cast<microseconds>(stop - start);\n",
        "  \n",
        "    cout << \"Time taken by function: \"\n",
        "         << duration.count() << \" microseconds\" << endl;\n",
        "\n",
        "    return 0;\n",
        "}\n"
      ],
      "execution_count": 158,
      "outputs": [
        {
          "output_type": "stream",
          "text": [
            "Overwriting max_pairwise_product2.cpp\n"
          ],
          "name": "stdout"
        }
      ]
    },
    {
      "cell_type": "code",
      "metadata": {
        "colab": {
          "base_uri": "https://localhost:8080/"
        },
        "id": "I5pCeOG1Zm7s",
        "outputId": "affc0f16-4cd8-42d1-ea25-b2a690d5d268"
      },
      "source": [
        "!g++ max_pairwise_product2.cpp -o max_pairwise_product2\n",
        "!./max_pairwise_product2 < input1.txt"
      ],
      "execution_count": 159,
      "outputs": [
        {
          "output_type": "stream",
          "text": [
            "40000000000\n",
            "Time taken by function: 56 microseconds\n"
          ],
          "name": "stdout"
        }
      ]
    },
    {
      "cell_type": "markdown",
      "metadata": {
        "id": "1ETvu7fEdKso"
      },
      "source": [
        "### Integer overflow Stress Test"
      ]
    },
    {
      "cell_type": "code",
      "metadata": {
        "colab": {
          "base_uri": "https://localhost:8080/"
        },
        "id": "pwGx5hzDdTJZ",
        "outputId": "74b7ba97-1910-4743-ce86-3154b99e7824"
      },
      "source": [
        "%%writefile StressTest.cpp\n",
        "\n",
        "#include <cstdlib>\n",
        "#include <iostream>\n",
        "#include <vector>\n",
        "#include <stdio.h>\n",
        "\n",
        "using std::vector;\n",
        "using std::cout;\n",
        "\n",
        "vector <int> a;\n",
        "\n",
        "int MaxPairwiseProduct1(const std::vector<int>& numbers) {\n",
        "    int max_product = 0;\n",
        "    int n = numbers.size();\n",
        "\n",
        "    for (int first = 0; first < n; ++first) {\n",
        "        for (int second = first + 1; second < n; ++second) {\n",
        "            max_product = std::max(max_product,\n",
        "                numbers[first] * numbers[second]);\n",
        "        }\n",
        "    }\n",
        "\n",
        "    return max_product;\n",
        "}\n",
        "\n",
        "long long MaxPairwiseProduct2(const std::vector<int>& numbers) {\n",
        "    long long max_product = 0LL;\n",
        "\t  long long aux_product = 0LL;\n",
        "    int n = numbers.size();\n",
        "\n",
        "    for (int first = 0; first < n; ++first) {\n",
        "        for (int second = first + 1; second < n; ++second) {\n",
        "\t\t\t       aux_product =  (long long) numbers[first] * numbers[second];\n",
        "            if ( max_product < aux_product)  {\n",
        "\t\t\t\t        max_product = aux_product;\n",
        "             }\n",
        "        }\n",
        "    }\n",
        "\n",
        "    return max_product;\n",
        "}\n",
        "\n",
        "int main() {\n",
        "\n",
        "    while (true) {\n",
        "\n",
        "        int n = rand() % 10 + 2;\n",
        "        cout << n << \"\\n\";\n",
        "        vector <int> a;\n",
        "\n",
        "        for (int i=0; i<n; i++) {\n",
        "            a.push_back(rand() % 200000 + 10000);\n",
        "        }\n",
        "\n",
        "        for (int i=0; i<n; i++) {\n",
        "            cout << a[i] << \" \";\n",
        "        }\n",
        "\n",
        "        cout << \"\\n\";\n",
        "\n",
        "        int res1 = MaxPairwiseProduct1(a);\n",
        "        long long res2 = MaxPairwiseProduct2(a);\n",
        "\n",
        "        if (res1 != res2) {\n",
        "            cout << \"Wrong answer: \" << res1 << \" \" << res2 << \"\\n\";\n",
        "            break;\n",
        "        }\n",
        "        else {\n",
        "            cout << \"OK\\n\";\n",
        "        }\n",
        "\n",
        "    }\n",
        "\n",
        "\n",
        "}"
      ],
      "execution_count": 153,
      "outputs": [
        {
          "output_type": "stream",
          "text": [
            "Overwriting StressTest.cpp\n"
          ],
          "name": "stdout"
        }
      ]
    },
    {
      "cell_type": "code",
      "metadata": {
        "colab": {
          "base_uri": "https://localhost:8080/"
        },
        "id": "9O2MudImdwHE",
        "outputId": "42c80020-ea57-463e-8c7f-018e997551eb"
      },
      "source": [
        "!g++ StressTest.cpp -o stresst\n",
        "!./stresst"
      ],
      "execution_count": 154,
      "outputs": [
        {
          "output_type": "stream",
          "text": [
            "5\n",
            "140886 102777 46915 157793 48335 \n",
            "Wrong answer: 1594938534 22230824598\n"
          ],
          "name": "stdout"
        }
      ]
    },
    {
      "cell_type": "markdown",
      "metadata": {
        "id": "9z9yr5QkeyJF"
      },
      "source": [
        "### Test 2  generate a tests file with the maximun n 200000 numbres and measure time"
      ]
    },
    {
      "cell_type": "code",
      "metadata": {
        "colab": {
          "base_uri": "https://localhost:8080/"
        },
        "id": "C8mRr4y1QaVY",
        "outputId": "afb9c592-f63f-4848-ef48-0c88bc71f879"
      },
      "source": [
        "%%writefile generate_Test1.cpp\n",
        "\n",
        "#include <cstdlib>\n",
        "#include <iostream>\n",
        "#include <vector>\n",
        "#include <stdio.h>\n",
        "\n",
        "using std::vector;\n",
        "\n",
        "FILE *outfile;\n",
        "vector <int> a;\n",
        "\n",
        "int main() {\n",
        "\n",
        "    int n = 200000;\n",
        "\n",
        "    outfile = fopen(\"Test1.txt\", \"w\");\n",
        "\n",
        "    fprintf(outfile, \"%d\\n\", n);\n",
        "\n",
        "    fprintf(outfile, \"%d \", 200000);\n",
        "    fprintf(outfile, \"%d \", 200000);\n",
        "\n",
        "    for (long long i=0; i<198000; i++) {\n",
        "        fprintf(outfile, \"%d \", (rand() % 200000 + 1));\n",
        "\n",
        "    }\n",
        "\n",
        "    return 0;\n",
        "\n",
        "\n",
        "}"
      ],
      "execution_count": 7,
      "outputs": [
        {
          "output_type": "stream",
          "text": [
            "Overwriting generate_Test1.cpp\n"
          ],
          "name": "stdout"
        }
      ]
    },
    {
      "cell_type": "code",
      "metadata": {
        "id": "YgN3_PzJYQNe"
      },
      "source": [
        "!g++ generate_Test1.cpp -o genst\n",
        "!./genst"
      ],
      "execution_count": 9,
      "outputs": []
    },
    {
      "cell_type": "code",
      "metadata": {
        "colab": {
          "base_uri": "https://localhost:8080/"
        },
        "id": "F-Q9EaNGYoKs",
        "outputId": "a0028b8b-fff1-4a03-e5f2-6cbe188278f3"
      },
      "source": [
        "!g++ max_pairwise_product2.cpp -o max_pairwise_product2\n",
        "!./max_pairwise_product2 < Test1.txt"
      ],
      "execution_count": 10,
      "outputs": [
        {
          "output_type": "stream",
          "text": [
            "40000000000\n",
            "Time taken by function: 126411968 microseconds\n"
          ],
          "name": "stdout"
        }
      ]
    },
    {
      "cell_type": "markdown",
      "metadata": {
        "id": "36Yd5IZBbz1o"
      },
      "source": [
        "### Efficient solution"
      ]
    },
    {
      "cell_type": "code",
      "metadata": {
        "colab": {
          "base_uri": "https://localhost:8080/"
        },
        "id": "ftobVFIHb1pg",
        "outputId": "a2b6fdb1-6e7d-429f-9028-efb50b50ebaf"
      },
      "source": [
        "%%writefile max_pairwise_product_ef.cpp\n",
        "#include <cstdlib>\n",
        "#include <iostream>\n",
        "#include <vector>\n",
        "#include <chrono>\n",
        "\n",
        "using namespace std;\n",
        "using namespace std::chrono;\n",
        "\n",
        "long long MaxPairwiseProductFast(const vector<int> &numbers) {\n",
        "    int n = numbers.size();\n",
        "\n",
        "    int max_index1 = -1;\n",
        "    for (int i = 0; i < n; ++i)\n",
        "        if ((max_index1 == -1) || (numbers[i] > numbers[max_index1]))\n",
        "            max_index1 = i;\n",
        "\n",
        "    int max_index2 = -1;\n",
        "    for (int j = 0; j < n; ++j)\n",
        "        if ((j != max_index1) && ((max_index2 == -1) || (numbers[j] > numbers[max_index2])))\n",
        "            max_index2 = j;\n",
        "\n",
        "    return ((long long) (numbers[max_index1])) * numbers[max_index2];\n",
        "}\n",
        "\n",
        "int main() {\n",
        "    \n",
        "    auto start = high_resolution_clock::now();\n",
        "    \n",
        "    int n;\n",
        "    cin >> n;\n",
        "    vector<int> numbers(n);\n",
        "    for (int i = 0; i < n; ++i) {\n",
        "        cin >> numbers[i];\n",
        "    }\n",
        "\n",
        "    long long result = MaxPairwiseProductFast(numbers);\n",
        "    cout << result << \"\\n\";\n",
        "\n",
        "    auto stop = high_resolution_clock::now();\n",
        "\n",
        "    auto duration = duration_cast<microseconds>(stop - start);\n",
        "  \n",
        "    cout << \"Time taken by function: \"\n",
        "         << duration.count() << \" microseconds\" << endl;\n",
        "\n",
        "    return 0;\n",
        "    \n",
        "}"
      ],
      "execution_count": 34,
      "outputs": [
        {
          "output_type": "stream",
          "text": [
            "Overwriting max_pairwise_product_ef.cpp\n"
          ],
          "name": "stdout"
        }
      ]
    },
    {
      "cell_type": "markdown",
      "metadata": {
        "id": "tFcBKE8LdB9H"
      },
      "source": [
        "Measure with test file of the maximun n 200000 numbers"
      ]
    },
    {
      "cell_type": "code",
      "metadata": {
        "colab": {
          "base_uri": "https://localhost:8080/"
        },
        "id": "QuzuSWh2dBNW",
        "outputId": "201b537c-63f4-415c-c7f6-56678a42ac09"
      },
      "source": [
        "!g++ max_pairwise_product_ef.cpp -o max_pairwise_product_ef\n",
        "!./max_pairwise_product_ef < Test1.txt"
      ],
      "execution_count": 35,
      "outputs": [
        {
          "output_type": "stream",
          "text": [
            "40000000000\n",
            "Time taken by function: 59840 microseconds\n"
          ],
          "name": "stdout"
        }
      ]
    },
    {
      "cell_type": "markdown",
      "metadata": {
        "id": "sc9nOLQrfTm0"
      },
      "source": [
        "### Final super efficient solution "
      ]
    },
    {
      "cell_type": "code",
      "metadata": {
        "colab": {
          "base_uri": "https://localhost:8080/"
        },
        "id": "-XaxsUh0NeoY",
        "outputId": "6055012d-c553-44d1-bd58-f906469755b2"
      },
      "source": [
        "%%writefile max_pairwise_product_superef.cpp\n",
        "\n",
        "#include <cstdlib>\n",
        "#include <iostream>\n",
        "#include <vector>\n",
        "#include <chrono>\n",
        "\n",
        "using namespace std;\n",
        "using namespace std::chrono;\n",
        "\n",
        "int main() {\n",
        "    \n",
        "    auto start = high_resolution_clock::now();\n",
        "    \n",
        "    int n;\n",
        "    int actual_num;\n",
        "    int aux;\n",
        "    int max1 = -1;\n",
        "    int max2 = -1;\n",
        "    cin >> n;\n",
        "\n",
        "    for (int i = 0; i < n; ++i) {\n",
        "        cin >> actual_num;\n",
        "\n",
        "        if (max1 == -1) {\n",
        "            max1 = actual_num;\n",
        "        }\n",
        "        \n",
        "        else if (actual_num > max1) {\n",
        "            aux = max1;\n",
        "            max1 = actual_num;\n",
        "            max2 = aux;\n",
        "        }\n",
        "        \n",
        "        else if ((actual_num == -1) || (actual_num > max2)) {\n",
        "            max2 = actual_num;\n",
        "        }\n",
        "        \n",
        "    }\n",
        "\n",
        "    cout << (long long) max1*max2 << \"\\n\";\n",
        "\n",
        "    auto stop = high_resolution_clock::now();\n",
        "\n",
        "    auto duration = duration_cast<microseconds>(stop - start);\n",
        "  \n",
        "    cout << \"Time taken by function: \"\n",
        "         << duration.count() << \" microseconds\" << endl;\n",
        "\n",
        "    return 0;\n",
        "    \n",
        "}"
      ],
      "execution_count": 22,
      "outputs": [
        {
          "output_type": "stream",
          "text": [
            "Writing max_pairwise_product_superef.cpp\n"
          ],
          "name": "stdout"
        }
      ]
    },
    {
      "cell_type": "markdown",
      "metadata": {
        "id": "fHErydLpZ880"
      },
      "source": [
        "Measure with test file of the maximun n 200000 numbers"
      ]
    },
    {
      "cell_type": "code",
      "metadata": {
        "colab": {
          "base_uri": "https://localhost:8080/"
        },
        "id": "_5WiEk47OrKk",
        "outputId": "9f959f0a-0c2b-4d0f-e923-f8866a177351"
      },
      "source": [
        "!g++ max_pairwise_product_superef.cpp -o max_pairwise_product_superef\n",
        "!./max_pairwise_product_superef < Test1.txt"
      ],
      "execution_count": 16,
      "outputs": [
        {
          "output_type": "stream",
          "text": [
            "40000000000\n",
            "Time taken by function: 54687 microseconds\n"
          ],
          "name": "stdout"
        }
      ]
    },
    {
      "cell_type": "markdown",
      "metadata": {
        "id": "bhqiKQG6fjKM"
      },
      "source": [
        "### Stress Test (Brute force vs Super efficient solution)"
      ]
    },
    {
      "cell_type": "code",
      "metadata": {
        "colab": {
          "base_uri": "https://localhost:8080/"
        },
        "id": "0qqBwDtLXY5c",
        "outputId": "469a4373-a16c-4d12-c8b4-bea594e2c38c"
      },
      "source": [
        "%%writefile StressTest1.cpp\n",
        "\n",
        "#include <cstdlib>\n",
        "#include <iostream>\n",
        "#include <vector>\n",
        "#include <stdio.h>\n",
        "\n",
        "using namespace std;\n",
        "\n",
        "vector <int> a;\n",
        "\n",
        "long long MaxPairwiseProduct(const std::vector<int>& numbers) {\n",
        "    long long max_product = 0LL;\n",
        "\t  long long aux_product = 0LL;\n",
        "    int n = numbers.size();\n",
        "\n",
        "    for (int first = 0; first < n; ++first) {\n",
        "        for (int second = first + 1; second < n; ++second) {\n",
        "\t\t\t       aux_product =  (long long) numbers[first] * numbers[second];\n",
        "            if ( max_product < aux_product)  {\n",
        "\t\t\t\t        max_product = aux_product;\n",
        "             }\n",
        "        }\n",
        "    }\n",
        "\n",
        "    return max_product;\n",
        "}\n",
        "\n",
        "int main() {\n",
        "    \n",
        "      int n;\n",
        "      vector <int> a;\n",
        "      int actual_num;\n",
        "      int aux;\n",
        "    \n",
        "      for (int i=0; i<2; i++) {\n",
        "          \n",
        "          if (i == 0) {\n",
        "              n = rand() % 10 + 1;\n",
        "          }\n",
        "          else {\n",
        "              n = 200000;\n",
        "          }\n",
        "\n",
        "          int max1 = -1;\n",
        "          int max2 = -1;\n",
        "\n",
        "          cout << \"Number of cases: \" << n << \"\\n\";\n",
        "          a.clear();\n",
        "\n",
        "\n",
        "          for (int j=0; j<n; j++) {\n",
        "              \n",
        "              if (j == 0 || j == n-1) {\n",
        "                  actual_num = 200000;\n",
        "              }\n",
        "              \n",
        "              else {\n",
        "                  actual_num = rand() % 200000 + 1;\n",
        "              }\n",
        "\n",
        "              a.push_back(actual_num);\n",
        "\n",
        "              if (max1 == -1) {\n",
        "                  max1 = actual_num;\n",
        "              }\n",
        "              \n",
        "              else if (actual_num > max1) {\n",
        "                  aux = max1;\n",
        "                  max1 = actual_num;\n",
        "                  max2 = aux;\n",
        "              }\n",
        "              \n",
        "              else if ((actual_num == -1) || (actual_num > max2)) {\n",
        "                  max2 = actual_num;\n",
        "              }\n",
        "          }\n",
        "\n",
        "          long long res1 = MaxPairwiseProduct(a);\n",
        "          long long res2 = (long long) max1*max2;\n",
        "\n",
        "          if (res1 != res2) {\n",
        "              cout << \"Wrong answer: \" << res1 << \" \" << res2 << \"\\n\";\n",
        "              break;\n",
        "          }\n",
        "          else {\n",
        "              cout << \"Answer1: \" << res1 << \" \" << \"Answer2: \" << res2 << \"\\n\";\n",
        "              cout << \"OK\\n\\n\";\n",
        "          }   \n",
        "      }\n",
        "\n",
        "\n",
        "}"
      ],
      "execution_count": 144,
      "outputs": [
        {
          "output_type": "stream",
          "text": [
            "Overwriting StressTest1.cpp\n"
          ],
          "name": "stdout"
        }
      ]
    },
    {
      "cell_type": "code",
      "metadata": {
        "colab": {
          "base_uri": "https://localhost:8080/"
        },
        "id": "dBOAokqjXpa_",
        "outputId": "0d86d405-b392-4bc5-f9d7-6ff5b23d8ae3"
      },
      "source": [
        "!g++ StressTest1.cpp -o StressTest1\n",
        "!./StressTest1"
      ],
      "execution_count": 145,
      "outputs": [
        {
          "output_type": "stream",
          "text": [
            "Number of cases: 4\n",
            "Answer1: 40000000000 Answer2: 40000000000\n",
            "OK\n",
            "\n",
            "Number of cases: 200000\n",
            "Answer1: 40000000000 Answer2: 40000000000\n",
            "OK\n",
            "\n"
          ],
          "name": "stdout"
        }
      ]
    },
    {
      "cell_type": "markdown",
      "metadata": {
        "id": "rydCU4bFfrhG"
      },
      "source": [
        "## Python"
      ]
    },
    {
      "cell_type": "code",
      "metadata": {
        "id": "jFzmbSFsWszF",
        "colab": {
          "base_uri": "https://localhost:8080/"
        },
        "outputId": "c133420f-ce14-4cc1-a9e3-26f1d963623f"
      },
      "source": [
        "%%writefile max_pairwise_productp.py\n",
        "\n",
        "import time\n",
        "\n",
        "def max_pairwise_product(n, a):\n",
        "\n",
        "    result = 0\n",
        "\n",
        "    for i in range(0, n):\n",
        "        for j in range(i + 1, n):\n",
        "            if a[i] * a[j] > result:\n",
        "                result = a[i] * a[j]\n",
        "    return result\n",
        "\n",
        "\n",
        "if __name__ == '__main__':\n",
        "\n",
        "    start = time.time()\n",
        "\n",
        "    n = int(input())\n",
        "    a = [int(x) for x in input().split()]\n",
        "\n",
        "    print(max_pairwise_product(n, a))\n",
        "\n",
        "    end = time.time()\n",
        "\n",
        "    print(\"Time taken:\", end-start, \"seconds\")"
      ],
      "execution_count": 134,
      "outputs": [
        {
          "output_type": "stream",
          "text": [
            "Overwriting max_pairwise_productp.py\n"
          ],
          "name": "stdout"
        }
      ]
    },
    {
      "cell_type": "code",
      "metadata": {
        "colab": {
          "base_uri": "https://localhost:8080/"
        },
        "id": "YKvN6LHzx8oU",
        "outputId": "23f97f1e-5a26-47a0-e581-518afd398340"
      },
      "source": [
        "!python max_pairwise_productp.py"
      ],
      "execution_count": 135,
      "outputs": [
        {
          "output_type": "stream",
          "text": [
            "4\n",
            "92348 27348 2842 424\n",
            "2525533104\n",
            "Time taken: 5.16373872756958 seconds\n"
          ],
          "name": "stdout"
        }
      ]
    },
    {
      "cell_type": "markdown",
      "metadata": {
        "id": "Dth2OOuYyZ6S"
      },
      "source": [
        "### Test 1: lagest input numbers 200000 200000 in the input"
      ]
    },
    {
      "cell_type": "code",
      "metadata": {
        "colab": {
          "base_uri": "https://localhost:8080/"
        },
        "id": "t1-O87f3ybBW",
        "outputId": "0920f92b-ecba-48f2-9533-e9258ec9eb50"
      },
      "source": [
        "%%writefile input1.txt\n",
        "7\n",
        "13 36 124 200000 9 200000 23"
      ],
      "execution_count": 160,
      "outputs": [
        {
          "output_type": "stream",
          "text": [
            "Overwriting input1.txt\n"
          ],
          "name": "stdout"
        }
      ]
    },
    {
      "cell_type": "code",
      "metadata": {
        "colab": {
          "base_uri": "https://localhost:8080/"
        },
        "id": "j5vkpdHMyllO",
        "outputId": "409af586-e249-43a7-fec6-5c3ac692095a"
      },
      "source": [
        "!python max_pairwise_productp.py < input1.txt"
      ],
      "execution_count": 161,
      "outputs": [
        {
          "output_type": "stream",
          "text": [
            "40000000000\n",
            "Time taken: 8.845329284667969e-05 seconds\n"
          ],
          "name": "stdout"
        }
      ]
    },
    {
      "cell_type": "markdown",
      "metadata": {
        "id": "_9pbSOeqyxAX"
      },
      "source": [
        "### Test 2  generate a tests file with the maximun n 200000 numbres and measure time"
      ]
    },
    {
      "cell_type": "code",
      "metadata": {
        "id": "ZKT4g64qzM8Z"
      },
      "source": [
        "from random import randint\n",
        "\n",
        "test = open(\"Test2.txt\", \"w\")\n",
        "\n",
        "n = 200000\n",
        "\n",
        "test.write(str(n) + \"\\n\")\n",
        "\n",
        "test.write(str(200000) + \" \")\n",
        "test.write(str(200000) + \" \")\n",
        "\n",
        "for i in range(n-2):\n",
        "    test.write(str(randint(1, 200000)) + \" \")"
      ],
      "execution_count": 129,
      "outputs": []
    },
    {
      "cell_type": "code",
      "metadata": {
        "colab": {
          "base_uri": "https://localhost:8080/"
        },
        "id": "H2TfY3Ur9nFL",
        "outputId": "a62f6cb7-89bd-4176-fbf4-506a208d5fca"
      },
      "source": [
        "!python max_pairwise_productp.py < Test2.txt"
      ],
      "execution_count": 132,
      "outputs": [
        {
          "output_type": "stream",
          "text": [
            "40000000000\n",
            "Time taken: 2416.6974835395813 seconds\n"
          ],
          "name": "stdout"
        }
      ]
    },
    {
      "cell_type": "markdown",
      "metadata": {
        "id": "waLcIL5FzH-z"
      },
      "source": [
        "##Efficient solution"
      ]
    },
    {
      "cell_type": "code",
      "metadata": {
        "colab": {
          "base_uri": "https://localhost:8080/"
        },
        "id": "lehv4-TXyx8V",
        "outputId": "0fab7469-ea73-4e85-a898-37ecf04534b2"
      },
      "source": [
        "%%writefile max_pairwise_product_fastp.py\n",
        "import time\n",
        "\n",
        "def max_pairwise_product_fast(n, numbers):\n",
        "    max_index1 = -1\n",
        "    for i in range(n):\n",
        "        if max_index1 == -1 or numbers[i] > numbers[max_index1]:\n",
        "            max_index1 = i\n",
        "\n",
        "    max_index2 = -1\n",
        "    for i in range(n):\n",
        "        if i != max_index1 and (max_index2 == -1 or numbers[i] > numbers[max_index2]):\n",
        "            max_index2 = i\n",
        "\n",
        "    return numbers[max_index1] * numbers[max_index2]\n",
        "\n",
        "\n",
        "if __name__ == '__main__':\n",
        "\n",
        "    start = time.time()\n",
        "\n",
        "    n = int(input())\n",
        "    a = [int(x) for x in input().split()]\n",
        "\n",
        "    print(max_pairwise_product_fast(n, a))\n",
        "\n",
        "    end = time.time()\n",
        "\n",
        "    print(\"Time taken:\", end-start, \"seconds\")"
      ],
      "execution_count": null,
      "outputs": [
        {
          "output_type": "stream",
          "text": [
            "Overwriting max_pairwise_product_fastp.py\n"
          ],
          "name": "stdout"
        }
      ]
    },
    {
      "cell_type": "markdown",
      "metadata": {
        "id": "lCzNdXVnJNy4"
      },
      "source": [
        "Measure with test file of the maximun n 200000 numbers"
      ]
    },
    {
      "cell_type": "code",
      "metadata": {
        "colab": {
          "base_uri": "https://localhost:8080/"
        },
        "id": "mCBsv_zIFea4",
        "outputId": "6dd0bf36-97a3-4d4c-e25c-188f06ab8956"
      },
      "source": [
        "!python max_pairwise_product_fastp.py < Test2.txt"
      ],
      "execution_count": 133,
      "outputs": [
        {
          "output_type": "stream",
          "text": [
            "40000000000\n",
            "Time taken: 0.3554689884185791 seconds\n"
          ],
          "name": "stdout"
        }
      ]
    },
    {
      "cell_type": "markdown",
      "metadata": {
        "id": "R5YMhH6zI5Ln"
      },
      "source": [
        "### Final super efficient solution"
      ]
    },
    {
      "cell_type": "code",
      "metadata": {
        "colab": {
          "base_uri": "https://localhost:8080/"
        },
        "id": "fnhDWphEI4xp",
        "outputId": "2564a34f-3044-44db-97ec-f9d61ba93e46"
      },
      "source": [
        "%%writefile max_pairwise_product_superefp.py\n",
        "\n",
        "import time\n",
        "\n",
        "if __name__ == '__main__':\n",
        "\n",
        "    start = time.time()\n",
        "\n",
        "    n = int(input())\n",
        "    a = [int(x) for x in input().split()]\n",
        "    max1 = -1\n",
        "    max2 = -1\n",
        "\n",
        "    for actual_num in a:\n",
        "        if max1 == -1:\n",
        "            max1 = actual_num\n",
        "        \n",
        "        elif actual_num > max1:\n",
        "            aux = max1\n",
        "            max1 = actual_num\n",
        "            max2 = aux\n",
        "        \n",
        "        elif (actual_num == -1) or (actual_num > max2):\n",
        "            max2 = actual_num\n",
        "\n",
        "    print(max1*max2)\n",
        "\n",
        "    end = time.time()\n",
        "\n",
        "    print(\"Time taken:\", end-start, \"seconds\")\n"
      ],
      "execution_count": 138,
      "outputs": [
        {
          "output_type": "stream",
          "text": [
            "Overwriting max_pairwise_product_superefp.py\n"
          ],
          "name": "stdout"
        }
      ]
    },
    {
      "cell_type": "markdown",
      "metadata": {
        "id": "iOewjUyJOJ0a"
      },
      "source": [
        "Measure with test file of the maximun n 200000 numbers"
      ]
    },
    {
      "cell_type": "code",
      "metadata": {
        "colab": {
          "base_uri": "https://localhost:8080/"
        },
        "id": "OfoZSpcONvbh",
        "outputId": "877514c7-c1e0-4233-be7b-ea6ac6d27a57"
      },
      "source": [
        "!python max_pairwise_product_superefp.py"
      ],
      "execution_count": 141,
      "outputs": [
        {
          "output_type": "stream",
          "text": [
            "40000000000\n",
            "Time taken: 0.3484072685241699 seconds\n"
          ],
          "name": "stdout"
        }
      ]
    },
    {
      "cell_type": "markdown",
      "metadata": {
        "id": "_pJMixHIawi5"
      },
      "source": [
        "### Stress Test (Brute force vs Super efficient solution)"
      ]
    },
    {
      "cell_type": "code",
      "metadata": {
        "colab": {
          "base_uri": "https://localhost:8080/"
        },
        "id": "JrFYv4AnTDJk",
        "outputId": "7960c78a-0da3-447a-f6e8-e15dea2f14b2"
      },
      "source": [
        "from random import randint\n",
        "\n",
        "def max_pairwise_product(n, a):\n",
        "\n",
        "    result = 0\n",
        "\n",
        "    for i in range(0, n):\n",
        "        for j in range(i + 1, n):\n",
        "            if a[i] * a[j] > result:\n",
        "                result = a[i] * a[j]\n",
        "    return result\n",
        "\n",
        "if __name__ == '__main__':\n",
        "\n",
        "    for i in range(2):\n",
        "      \n",
        "      if i==0:\n",
        "          n = randint(2, 10)\n",
        "      \n",
        "      elif i==1:\n",
        "          n = 200000\n",
        "\n",
        "      print(\"Number of cases:\", n)\n",
        "\n",
        "      a = []\n",
        "      max1 = -1\n",
        "      max2 = -1\n",
        "\n",
        "      for j in range(n):\n",
        "\n",
        "          if j==0 or j==n-1:\n",
        "              actual_num = 200000\n",
        "          else:\n",
        "              actual_num = randint(1, 200000)\n",
        "\n",
        "          a.append(actual_num)\n",
        "\n",
        "          if max1 == -1:\n",
        "              max1 = actual_num\n",
        "          \n",
        "          elif actual_num > max1:\n",
        "              aux = max1\n",
        "              max1 = actual_num\n",
        "              max2 = aux\n",
        "          \n",
        "          elif (actual_num == -1) or (actual_num > max2):\n",
        "              max2 = actual_num\n",
        "\n",
        "      res1 = max_pairwise_product(n, a)\n",
        "      res2 = max1*max2\n",
        "\n",
        "      if res1 != res2:\n",
        "          print(\"Wrong answer:\", res1, res2, \"\\n\")\n",
        "          break\n",
        "\n",
        "      else:\n",
        "          print(\"Answer1:\", res1, \"Answer2:\", res2)\n",
        "          print(\"OK \\n\\n\")\n",
        "\n",
        "\n",
        "\n"
      ],
      "execution_count": 149,
      "outputs": [
        {
          "output_type": "stream",
          "text": [
            "Number of cases: 9\n",
            "Answer1: 40000000000 Answer2: 40000000000\n",
            "OK \n",
            "\n",
            "\n",
            "Number of cases: 200000\n",
            "Answer1: 40000000000 Answer2: 40000000000\n",
            "OK \n",
            "\n",
            "\n"
          ],
          "name": "stdout"
        }
      ]
    },
    {
      "cell_type": "markdown",
      "metadata": {
        "id": "07tfCb7ZgIO-"
      },
      "source": [
        "##Submmit Week 1"
      ]
    },
    {
      "cell_type": "markdown",
      "metadata": {
        "id": "fQOH4lZ2gvFk"
      },
      "source": [
        "Sum of Two Digits:"
      ]
    },
    {
      "cell_type": "markdown",
      "metadata": {
        "id": "v7p9iAjCgaEk"
      },
      "source": [
        "![imagen_2021-03-25_172948.png](data:image/png;base64,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)"
      ]
    },
    {
      "cell_type": "markdown",
      "metadata": {
        "id": "UzwWLXW7gi9s"
      },
      "source": [
        "Maximum Pairwise Product:"
      ]
    },
    {
      "cell_type": "markdown",
      "metadata": {
        "id": "3ioZXTJEgyFL"
      },
      "source": [
        "![imagen_2021-03-25_173101.png](data:image/png;base64,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)"
      ]
    }
  ]
}