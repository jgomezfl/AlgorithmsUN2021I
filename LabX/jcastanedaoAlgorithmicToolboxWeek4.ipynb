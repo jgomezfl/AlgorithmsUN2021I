{
  "nbformat": 4,
  "nbformat_minor": 0,
  "metadata": {
    "colab": {
      "name": "jcastanedaoAlgorithmicToolboxWeek4.ipynb",
      "provenance": [],
      "collapsed_sections": []
    },
    "kernelspec": {
      "name": "python3",
      "display_name": "Python 3"
    },
    "language_info": {
      "name": "python"
    }
  },
  "cells": [
    {
      "cell_type": "markdown",
      "metadata": {
        "id": "uYTU1qFFMZb4"
      },
      "source": [
        "#Week 4: Divide and Conquer\n",
        "\n",
        "Integrantes:\n",
        "\n",
        "- Juan Diego Castañeda Oviedo\n",
        "- Sebastian Camilo Casas Rojas\n",
        "- Daniel Santiago Gaitan Gaitan"
      ]
    },
    {
      "cell_type": "markdown",
      "metadata": {
        "id": "6szocISJNSkL"
      },
      "source": [
        "##4-1:Binary Search"
      ]
    },
    {
      "cell_type": "code",
      "metadata": {
        "colab": {
          "base_uri": "https://localhost:8080/"
        },
        "id": "4R8xMp0oMKYm",
        "outputId": "32efb392-5009-4d10-df88-cd919909e023"
      },
      "source": [
        "%%writefile ex4_1.py\n",
        "\n",
        "def bs(s, t, r):\n",
        "    l = 0\n",
        "\n",
        "    while l<=r: \n",
        "\n",
        "        m = (l+r)//2\n",
        "\n",
        "        if t > s[m]:\n",
        "            l = m + 1\n",
        "        elif t < s[m]:\n",
        "            r = m - 1\n",
        "        else:\n",
        "            return m\n",
        "\n",
        "    return -1\n",
        "\n",
        "s = list(map(int, input().split()))\n",
        "ss = list(map(int, input().split()))\n",
        "\n",
        "n = s[0]\n",
        "s = s[1:]\n",
        "t = True\n",
        "\n",
        "ln = []\n",
        "x = ss[1:]\n",
        "\n",
        "for i in x:\n",
        "    ln.append(bs(s, i, n-1))\n",
        "\n",
        "print(' '.join([str(i) for i in ln]))"
      ],
      "execution_count": null,
      "outputs": [
        {
          "output_type": "stream",
          "text": [
            "Writing ex4_1.py\n"
          ],
          "name": "stdout"
        }
      ]
    },
    {
      "cell_type": "code",
      "metadata": {
        "colab": {
          "base_uri": "https://localhost:8080/"
        },
        "id": "0Nx7imwaNa9B",
        "outputId": "055d888a-1b5b-4fe8-ce39-8897a6b01875"
      },
      "source": [
        "!python ex4_1.py"
      ],
      "execution_count": null,
      "outputs": [
        {
          "output_type": "stream",
          "text": [
            "5 1 5 8 12 13\n",
            "5 8 1 23 1 11\n",
            "2 0 -1 0 -1\n"
          ],
          "name": "stdout"
        }
      ]
    },
    {
      "cell_type": "markdown",
      "metadata": {
        "id": "BJqsIGNCNbU_"
      },
      "source": [
        "##4-2: Majority Element"
      ]
    },
    {
      "cell_type": "code",
      "metadata": {
        "colab": {
          "base_uri": "https://localhost:8080/"
        },
        "id": "tGVGqwXgNfOz",
        "outputId": "fcbc3f49-de1e-43b1-cb08-485cf5403c4d"
      },
      "source": [
        "%%writefile ex4_2.py\n",
        "\n",
        "def df(l, r, s):\n",
        "    \n",
        "    if l+1==r:\n",
        "        return s[l]\n",
        "    elif l+2==r:\n",
        "        return s[l]\n",
        "\n",
        "    m = (l+r)//2\n",
        "\n",
        "    c1 = 0\n",
        "    c2 = 0\n",
        "\n",
        "    left = df(l, m, s)\n",
        "    right = df(m, r, s)\n",
        "\n",
        "    for i in s[l:r]:\n",
        "        if i == left:\n",
        "            c1 = c1 + 1\n",
        "        elif i == right:\n",
        "            c2 = c2 + 1\n",
        "\n",
        "    if c1>(r-l)//2 and left != -1:\n",
        "        return left\n",
        "    elif c2>(r-l)//2 and right != -1:\n",
        "        return right\n",
        "    else: \n",
        "        return -1\n",
        "\n",
        "n = int(input())\n",
        "s = list(map(int, input().split()))\n",
        "\n",
        "if df(0, n, s) != -1:\n",
        "    print(1)\n",
        "else:\n",
        "    print(0)"
      ],
      "execution_count": null,
      "outputs": [
        {
          "output_type": "stream",
          "text": [
            "Writing ex4_2.py\n"
          ],
          "name": "stdout"
        }
      ]
    },
    {
      "cell_type": "code",
      "metadata": {
        "colab": {
          "base_uri": "https://localhost:8080/"
        },
        "id": "yr-eira1NfiX",
        "outputId": "7e5b7f05-c3dd-451d-c98c-202796a55232"
      },
      "source": [
        "!python ex4_2.py"
      ],
      "execution_count": null,
      "outputs": [
        {
          "output_type": "stream",
          "text": [
            "5\n",
            "2 3 9 2 2\n",
            "1\n"
          ],
          "name": "stdout"
        }
      ]
    },
    {
      "cell_type": "code",
      "metadata": {
        "colab": {
          "base_uri": "https://localhost:8080/"
        },
        "id": "y-hxQTEJNhro",
        "outputId": "635ef8a8-f21b-4a94-dcb7-75e15dd2d967"
      },
      "source": [
        "!python ex4_2.py"
      ],
      "execution_count": null,
      "outputs": [
        {
          "output_type": "stream",
          "text": [
            "4\n",
            "1 2 3 4\n",
            "0\n"
          ],
          "name": "stdout"
        }
      ]
    },
    {
      "cell_type": "code",
      "metadata": {
        "colab": {
          "base_uri": "https://localhost:8080/"
        },
        "id": "33jYE89pNh93",
        "outputId": "041ebe20-299a-4208-ecee-de63623488c2"
      },
      "source": [
        "!python ex4_2.py"
      ],
      "execution_count": null,
      "outputs": [
        {
          "output_type": "stream",
          "text": [
            "4\n",
            "1 2 3 1\n",
            "0\n"
          ],
          "name": "stdout"
        }
      ]
    },
    {
      "cell_type": "markdown",
      "metadata": {
        "id": "jQZATfMdNsXy"
      },
      "source": [
        "##4-3: Improving Quick Sort"
      ]
    },
    {
      "cell_type": "code",
      "metadata": {
        "colab": {
          "base_uri": "https://localhost:8080/"
        },
        "id": "G9xd4vRsNy-R",
        "outputId": "5d976b16-3214-4cfb-adf0-24d7b3caadb6"
      },
      "source": [
        "%%writefile ex4_3.py\n",
        "\n",
        "import random\n",
        "\n",
        "def p(a, l, r):\n",
        "    \n",
        "    x = a[l]\n",
        "    m1 = l\n",
        "    m2 = l\n",
        "    for i in range(l + 1, r + 1):\n",
        "    \tif a[i] < x:\n",
        "        \ta[i],a[m1] = a[m1],a[i]\n",
        "        \tm1+=1\n",
        "        \tm2+=1\n",
        "        \ta[i],a[m2] = a[m2],a[i]\n",
        "    \telif a[i] == x:\n",
        "        \tm2+=1\n",
        "        \ta[i],a[m2] = a[m2],a[i]\n",
        "\n",
        "    return m1,m2\n",
        "\n",
        "\n",
        "def sort_quick(a, l, r):\n",
        "\n",
        "    if l >= r:\n",
        "        return\n",
        "\n",
        "    k = random.randint(l, r)\n",
        "    a[l], a[k] = a[k], a[l]\n",
        "    j,k = p(a, l, r)\n",
        "    sort_quick(a, l, j-1)\n",
        "    sort_quick(a, k+1, r)\n",
        "\n",
        "\n",
        "n = int(input())\n",
        "\n",
        "a = list(map(int, input().split()))\n",
        "\n",
        "sort_quick(a, 0, n - 1)\n",
        "\n",
        "for x in a:\n",
        "    print(x, end=' ')"
      ],
      "execution_count": null,
      "outputs": [
        {
          "output_type": "stream",
          "text": [
            "Writing ex4_3.py\n"
          ],
          "name": "stdout"
        }
      ]
    },
    {
      "cell_type": "code",
      "metadata": {
        "colab": {
          "base_uri": "https://localhost:8080/"
        },
        "id": "kq77JMgpNzIg",
        "outputId": "a13f6cdc-971c-4774-958d-8ec5aef0850d"
      },
      "source": [
        "!python ex4_3.py"
      ],
      "execution_count": null,
      "outputs": [
        {
          "output_type": "stream",
          "text": [
            "5\n",
            "2 3 9 2 2\n",
            "2 2 2 3 9 "
          ],
          "name": "stdout"
        }
      ]
    },
    {
      "cell_type": "markdown",
      "metadata": {
        "id": "hnYQirH9N1CC"
      },
      "source": [
        "##4-4: Number of Inversions"
      ]
    },
    {
      "cell_type": "code",
      "metadata": {
        "colab": {
          "base_uri": "https://localhost:8080/"
        },
        "id": "0XkibvKaN5y9",
        "outputId": "0f401e59-d8e3-4260-e8e6-ae5a89c28ba2"
      },
      "source": [
        "%%writefile ex4_4.py\n",
        "\n",
        "def merge(l, r):\n",
        "\n",
        "    final = []\n",
        "    j = 0\n",
        "    ic = 0\n",
        "    i = 0\n",
        "\n",
        "    while i < len(l) and j< len(r):\n",
        "\n",
        "        if l[i] <= r[j]:\n",
        "            final.append(l[i])\n",
        "            i += 1\n",
        "        else:\n",
        "            final.append(r[j])\n",
        "            ic += len(l) - i\n",
        "            j += 1\n",
        "\n",
        "    final += l[i:]\n",
        "    final += r[j:]\n",
        "        \n",
        "    return [final, ic]\n",
        "\n",
        "def merge_sort(arr):\n",
        "\n",
        "    global tc\n",
        "    \n",
        "    if len(arr) <= 1:\n",
        "        return arr\n",
        "\n",
        "    l = merge_sort(arr[:len(arr)//2])\n",
        "    r = merge_sort(arr[len(arr)//2:])\n",
        "\n",
        "    y = merge(l, r)\n",
        "    sorted_arr = y[0]\n",
        "    temp = y[1]\n",
        "\n",
        "    tc += temp\n",
        "\n",
        "    return sorted_arr\n",
        "\n",
        "tc = 0\n",
        "\n",
        "n = int(input())\n",
        "s = list(map(int, input().split()))\n",
        "\n",
        "merge_sort(s)\n",
        "print(tc)"
      ],
      "execution_count": null,
      "outputs": [
        {
          "output_type": "stream",
          "text": [
            "Writing ex4_4.py\n"
          ],
          "name": "stdout"
        }
      ]
    },
    {
      "cell_type": "code",
      "metadata": {
        "colab": {
          "base_uri": "https://localhost:8080/"
        },
        "id": "MG7VNgzNN6Kw",
        "outputId": "a0194120-bf11-4514-d8ef-c123bb736d0c"
      },
      "source": [
        "!python ex4_4.py"
      ],
      "execution_count": null,
      "outputs": [
        {
          "output_type": "stream",
          "text": [
            "5\n",
            "2 3 9 2 9\n",
            "2\n"
          ],
          "name": "stdout"
        }
      ]
    },
    {
      "cell_type": "markdown",
      "metadata": {
        "id": "j4NCbEv6N85Y"
      },
      "source": [
        "##4-5: Organizing a Lottery"
      ]
    },
    {
      "cell_type": "code",
      "metadata": {
        "colab": {
          "base_uri": "https://localhost:8080/"
        },
        "id": "A1SGMSCqN_qD",
        "outputId": "c28b1194-a0ab-4f7b-fdc0-cb4bd6e0fbfb"
      },
      "source": [
        "%%writefile ex4_5.py\n",
        "\n",
        "def result(s, p, ml):\n",
        "    \n",
        "    for i in range(s):\n",
        "        a, b = [int(i) for i in input().split()]\n",
        "        ml.append((a,'l'))\n",
        "        ml.append((b,'r'))\n",
        "\n",
        "    points = input().split()\n",
        "    for i in points:\n",
        "        ml.append((int(i),'p'))\n",
        "\n",
        "    ml.sort()\n",
        "\n",
        "    segment_count = 0\n",
        "    point_segment_map = dict()\n",
        "    for i in ml:\n",
        "        if i[1] == 'l': segment_count += 1\n",
        "        elif i[1] == 'r': segment_count -= 1\n",
        "        else:\n",
        "            point_segment_map[i[0]] = segment_count\n",
        "\n",
        "    temp = ''\n",
        "    for i in points:\n",
        "        temp += str(point_segment_map[int(i)]) + ' '\n",
        "\n",
        "    return temp[:-1]\n",
        "\n",
        "s, p = list(map(int, input().split()))\n",
        "\n",
        "ml = []\n",
        "\n",
        "print(result(s, p, ml))"
      ],
      "execution_count": null,
      "outputs": [
        {
          "output_type": "stream",
          "text": [
            "Writing ex4_5.py\n"
          ],
          "name": "stdout"
        }
      ]
    },
    {
      "cell_type": "code",
      "metadata": {
        "colab": {
          "base_uri": "https://localhost:8080/"
        },
        "id": "m2avH55RN_8g",
        "outputId": "7422e75f-6ecd-4eea-9657-6f474cdde3e3"
      },
      "source": [
        "!python ex4_5.py"
      ],
      "execution_count": null,
      "outputs": [
        {
          "output_type": "stream",
          "text": [
            "2 3\n",
            "0 5\n",
            "7 10\n",
            "1 6 11\n",
            "1 0 0\n"
          ],
          "name": "stdout"
        }
      ]
    },
    {
      "cell_type": "code",
      "metadata": {
        "colab": {
          "base_uri": "https://localhost:8080/"
        },
        "id": "02AII7HvOCZd",
        "outputId": "60d5fe05-27a0-4ea4-c9e4-00b214e907a3"
      },
      "source": [
        "!python ex4_5.py"
      ],
      "execution_count": null,
      "outputs": [
        {
          "output_type": "stream",
          "text": [
            "1 3\n",
            "-10 10\n",
            "-100 100 0\n",
            "0 0 1\n"
          ],
          "name": "stdout"
        }
      ]
    },
    {
      "cell_type": "code",
      "metadata": {
        "colab": {
          "base_uri": "https://localhost:8080/"
        },
        "id": "_YC59okeOCyr",
        "outputId": "3d6f2225-a6c8-42bd-90d5-0fd37e05caa8"
      },
      "source": [
        "!python ex4_5.py"
      ],
      "execution_count": null,
      "outputs": [
        {
          "output_type": "stream",
          "text": [
            "3 2\n",
            "0 5\n",
            "-3 2\n",
            "7 10\n",
            "1 6\n",
            "2 0\n"
          ],
          "name": "stdout"
        }
      ]
    },
    {
      "cell_type": "markdown",
      "metadata": {
        "id": "CdN7NxxfOFzP"
      },
      "source": [
        "##4-6: Closest Points"
      ]
    },
    {
      "cell_type": "code",
      "metadata": {
        "colab": {
          "base_uri": "https://localhost:8080/"
        },
        "id": "mkeLJUxPOJx7",
        "outputId": "ded6a6c6-7332-406b-871a-80b11d8a8dac"
      },
      "source": [
        "%%writefile ex4_6.py\n",
        "\n",
        "def dist(p1, p2):\n",
        "\n",
        "    return ((p1[0] - p2[0]) ** 2 + (p1[1] - p2[1]) ** 2)**(0.5)\n",
        "\n",
        "def closest_split_pair(p_x, p_y, delta, best_pair):\n",
        "\n",
        "    ln_x = len(p_x)\n",
        "    mx_x = p_x[ln_x // 2][0]\n",
        "\n",
        "    s_y = [x for x in p_y if mx_x - delta <= x[0] <= mx_x + delta]\n",
        "\n",
        "    best = delta\n",
        "    ln_y = len(s_y)\n",
        "\n",
        "    for i in range(ln_y - 1):\n",
        "        for j in range(i+1, min(i + 5, ln_y)):\n",
        "            p, q = s_y[i], s_y[j]\n",
        "            dst = dist(p, q)\n",
        "            if dst < best:\n",
        "                best_pair = p, q\n",
        "                best = dst\n",
        "\n",
        "    return best_pair[0], best_pair[1], best\n",
        "\n",
        "\n",
        "def brute(ax):\n",
        "\n",
        "    mi = dist(ax[0], ax[1])\n",
        "    p2 = ax[1]\n",
        "    ln_ax = len(ax)\n",
        "    p1 = ax[0]\n",
        "\n",
        "    if ln_ax == 2:\n",
        "        return p1, p2, mi\n",
        "\n",
        "    for i in range(ln_ax-1):\n",
        "        for j in range(i + 1, ln_ax):\n",
        "            if i != 0 and j != 1:\n",
        "                d = dist(ax[i], ax[j])\n",
        "                if d < mi:\n",
        "                    mi = d\n",
        "                    p1, p2 = ax[i], ax[j]\n",
        "    return p1, p2, mi\n",
        "\n",
        "\n",
        "def closest_pair(ax, ay):\n",
        "    ln_ax = len(ax)\n",
        "\n",
        "    if ln_ax <= 3:\n",
        "        return brute(ax)\n",
        "\n",
        "    mid = ln_ax // 2\n",
        "    Qx = ax[:mid]\n",
        "    Rx = ax[mid:]\n",
        "\n",
        "    midpoint = ax[mid][0]\n",
        "    Qy = list()\n",
        "    Ry = list()\n",
        "\n",
        "    for x in ay:\n",
        "        if x[0] < midpoint:\n",
        "           Qy.append(x)\n",
        "        else:\n",
        "           Ry.append(x)\n",
        "    \n",
        "    (p1, q1, mi1) = closest_pair(Qx, Qy)\n",
        "    (p2, q2, mi2) = closest_pair(Rx, Ry)\n",
        "\n",
        "\n",
        "    if mi1 <= mi2:\n",
        "        d = mi1\n",
        "        mn = (p1, q1)\n",
        "    else:\n",
        "        d = mi2\n",
        "        mn = (p2, q2)\n",
        "\n",
        "    \n",
        "    (p3, q3, mi3) = closest_split_pair(ax, ay, d, mn)\n",
        "    \n",
        "    if d <= mi3:\n",
        "        return mn[0], mn[1], d\n",
        "    else:\n",
        "        return p3, q3, mi3\n",
        "\n",
        "\n",
        "def sol(a):\n",
        "    ax = sorted(a, key=lambda x: x[0])\n",
        "    ay = sorted(a, key=lambda x: (x[1], x[0]))\n",
        "    p1, p2, mi = closest_pair(ax, ay)\n",
        "    return mi\n",
        "\n",
        "\n",
        "\n",
        "pnts = list()\n",
        "n = int(input())\n",
        "for i in range(n):\n",
        "    pnts.append(list(map(int, input().split())))\n",
        "\n",
        "print(sol(pnts))"
      ],
      "execution_count": null,
      "outputs": [
        {
          "output_type": "stream",
          "text": [
            "Writing ex4_6.py\n"
          ],
          "name": "stdout"
        }
      ]
    },
    {
      "cell_type": "code",
      "metadata": {
        "colab": {
          "base_uri": "https://localhost:8080/"
        },
        "id": "qc3jhxgOOJ-L",
        "outputId": "0ce7a674-dc86-4819-bb56-64e24e3bcc21"
      },
      "source": [
        "!python ex4_6.py"
      ],
      "execution_count": null,
      "outputs": [
        {
          "output_type": "stream",
          "text": [
            "2\n",
            "0 0\n",
            "3 4\n",
            "5.0\n"
          ],
          "name": "stdout"
        }
      ]
    },
    {
      "cell_type": "code",
      "metadata": {
        "colab": {
          "base_uri": "https://localhost:8080/"
        },
        "id": "CUErZl9_OKK0",
        "outputId": "5a84c167-7613-4b2b-9344-775b9d8f7d6b"
      },
      "source": [
        "!python ex4_6.py"
      ],
      "execution_count": null,
      "outputs": [
        {
          "output_type": "stream",
          "text": [
            "4\n",
            "7 7\n",
            "1 100\n",
            "4 8\n",
            "7 7\n",
            "0.0\n"
          ],
          "name": "stdout"
        }
      ]
    },
    {
      "cell_type": "code",
      "metadata": {
        "colab": {
          "base_uri": "https://localhost:8080/"
        },
        "id": "cot8mJTVOKZD",
        "outputId": "a330f7d6-a358-49c0-fd5c-ccea2c9071ed"
      },
      "source": [
        "!python ex4_6.py"
      ],
      "execution_count": null,
      "outputs": [
        {
          "output_type": "stream",
          "text": [
            "11\n",
            "4 4\n",
            "-2 -2\n",
            "-3 -4\n",
            "-1 3\n",
            "2 3\n",
            "-4 0\n",
            "1 1\n",
            "-1 -1\n",
            "3 -1\n",
            "-4 2\n",
            "-2 4\n",
            "1.4142135623730951\n"
          ],
          "name": "stdout"
        }
      ]
    },
    {
      "cell_type": "markdown",
      "metadata": {
        "id": "JfRZotVUOUfq"
      },
      "source": [
        "##Results:"
      ]
    },
    {
      "cell_type": "markdown",
      "metadata": {
        "id": "8x27cu73RaNA"
      },
      "source": [
        "![image.png](data:image/png;base64,iVBORw0KGgoAAAANSUhEUgAABQwAAAJnCAYAAADSjh4VAAAgAElEQVR4Aezd/5cdVZ3vf/6Dz+c/6Fnr87mr1/r8MncNmWlnMkw0Okbm3jsJMtij92PaUdsoZAzXqMFWJmREOkAkOEKHbzHCjUQJGGjAEFQSiEMjSjfGQCTENBJISwcIEbSbkPC+672rdtXeu+p8/1anz/Os1Zw69WV/eezqcM6rd506R3gggAACCCCAAAIIIIAAAggggAACCCCAAAKxwDlIIIAAAggggAACCCCAAAIIIIAAAggggAACVoDA0ErwjAACCCCAAAIIIIAAAggggAACCCCAAAJCYMhJgAACCCCAAAIIIIAAAggggAACCCCAAAKJAIFhQsECAggggAACCCCAAAIIIIAAAgh0WuB3v/ud6E9RHyffPiM/felN+favT8hlT7wsQ4/8Tj54/xHzo8tfeeK42ab7nHr7bFG7QbsQKCtAYFiWh40IIIAAAggggAACCCCAAAIIINBOgSIGhifmzshNz5yQj//0BVm863BNP//yyO/klmdfFS2DBwLdIkBg2C0jRTsRQAABBBBAAAEEEEAAAQQQ6AGBIgWGGvJ968CsvO++52sKCfNCRS1DyyI47IGTeAF0kcBwAQwiXUAAAQQQQAABBBBAAAEEEEBgoQgUITBsZlAYhoc2ONRLm3kgUFQBAsOijgztQgABBBBAAAEEEEAAAQQQQKAHBTodGJ4++65cM/VKwzMKw6AwfK11aF08ECiiAIFhEUeFNrVV4N13+Qe6reBUhgACCCCAAAIIIIAAAgiUEehkYPjG22dk1aMvtjwstOGh1qV18kCgaAIEhkUbkR5pz09/+lPRn04+NCg8eza9Y9WZM/wj3cnxoG4EEEAAAQQQQAABBBBAQAU6FRi+c/Zd+cy+9oWFNjT87KMvitbNA4EiCRAYFmk0eqgtnQoMNSQ8c/aMnD2bhoOvvfp6Im9CxHfPyNl30yAx2cgCAggggAACCCCAAAIIIIBAywU6FRi24zJkGxKGz1o3DwSKJEBgWKTR6KG2dCIwDC89PvbyMfnV5AHZff8emXr2afn5r3/ujUC4v7eRFwgggAACCCCAAAIIIIAAAi0R6ERguOvoG3VfhnzJ/mOy9dBr5keXwzCw2tfaBh4IFEWAwLAoI9Fj7Wh3YGjDvz/+6S1Zv/2/y8SzP5Tv3Xm7fOVLX5OLL/5X+fxX1sjnv/Z5+dVzT8kNd10sj0zdaUbk7LvpTMReGaK33npLTp48Ka+88oocO3bM/OiyrtNtPBBAAAEEEEAAAQQQQACBVgq0OzB8de4d0TsXVxvs2f3+ac+0TJ74U4ZC1+k2u1+1z9qGE3PvZMpjBQKdEGgoMJyanpNLv3tc3nvFb+XPLjkk//cnDprlT9x4THRbtY97nzwleoyWY8tYce0Lcv2DJ+TkW6UDm217X5crdr6S/OjrUo/p2dPJfvYYXacP+9o+7z0YhSK7njwl2o5zPnJA1t/1e69obbNu037rdv35r186bPqh26p52DZpv62hPqtpOT9tn22rfdb6tDw9Vtv0fw0dzG2Ca637aX1qb/usB9ky7XNuQQ2ubHdgeOZM+o/upjs/I+tu/O9y3eZr5KorR+Vjn/qkfOmrX5brrrlKbr3163L5dy6QZ1/4penh6XfeFhs2Ntjlwh+u3+f4+9//Xl5//XV544035E9/+pPo9zrqjy7rOt2m4aH73Y+F7xgNRAABBBBAAAEEEEAAga4SaHdgWM+lyMseOCLH/xhlCnm4h9+YF92n2rDQ7nf9gdm84liHQNsF6goMNZjSoMkGZaWeNUCzoVxezzSQcwO3vHI0QNTgKu+xZL3fBn1d6qGBWFi+DcnC9RoOaojmrrf7aoBZTd91n1J91zLC8t267HKpMrR9dh/7rO1TK/s6tNAAUsfDbs97tsFhuK2UaSPr2xkYvvNO9I/44d9NycSvd8s1u1bLZVs/JVde+3W5ZM2lcsXVV8sXLv+KXLzms3Ljd74uX7j5/fLIr34gj/zi+0kX35XoC2hteKjP5ZZ1mw3Vyu2rFdj9kso6sDA3Nycvvvii6HOlh4aH1e5bqSy2I4AAAggggAACCCCAAAKhQDsDw5feOi3n7Tpcc7D3rQMnwmZnXus+Ngis9plZhhlGVnRIoObAUIMnN5gKw6Xwte6bN/NPZ8KF+5Z7rWFXONuwVYFhXv9s3dWEhbYfWo49zo5vNcGdPV6ftYxwtmFeYBi22Z0RGYaJbvnhcl6Aa9vezOd2BYb25iaHfvtLueaO/ylf/vb75dNX/q1ce9tlcsOW6+SrX7tcfjbxc7njBzvkssv/l3xv503ymdG/l7X/sVwuv+W/yc6J6+UP838wXbcBYTMc8srKW9eMuiqVoSGhzhqs9aHHVBMw1lou+yOAAAIIIIAAAggggEBvC7QzMLzyqd/XHOpp+DeVcylyOGq6T7VBobsfN0AJJXndCYGaAsNaw0IbRoWhV17gZfct96xhnftoVWAYtqHv4kOmWp0RGW7T13r5b956Xbdm28tJkzU8rDTLL6+cMHisxk/bqo96x8xtR9KBJi60IzC0Adzp06fl1p3/Ll+/+Xy59fYvyY7br5Q999wi99yxTXbfd79ct/lbsu3278q99/xA7th2o2y98ybZtvNmueSqD8gXtiyVp59/wvRcy3v79Nty+p3TMj//trlU96yue/ttc8mu7qQBml62Oz8/by7h1ct57eW9OpPwjZNvmNe6rx6nj5mZGVOWLts2mw1t+I+2SWcL1vvQY4swQ7Le9nMcAggggAACCCCAAAIIFE+gnYHhR39c+3cNtjow1DbxQKDTAjUFhqVm1w3deMzMItz8wAnR5TBA+/MvHU6+I08DLDeMsssaymkQpkGXPodhoN1Pt9lHuI++LvXQWXa2DPtsLzMOy7HbtS67j5arr+02++zO/tN9tR+6TZ/DmZV5x6uVrUeP1/7ntUdd7SOvHK3TOruXQpcbMx2vUmNm+6fPrXi0IzC0Qdavj0zJV6///+XW/z0i3/i3j8u6Zf+vfOcLn5PrPj0s3/jEKvn26DVy5Ve/Kl/89Cfkii99QT71yWE5/6K/lxtvv0pGt/1P2fHQaELw0JMPmTsqP7b/Z3LLrbfJ4xNPyBNP/FweffRR+clPfiITExNy3333yQsvvCBXX321PP/883LfrnvlN7/5jTz++OOy95FH5IH7H5DDhw/LzTffLC+99JLcc889snfvXlNHuwND/c7CRmYJ6uXJ9cxOTEBZQAABBBBAAAEEEEAAAQQCgXYFhi+8+XZdMwA1MNx66NWg1dmXuo87c7CWZW0bDwQ6KVB1YKhhlhsi2YDKDadsR3Sdhlcahmkg5T6WXxPdRMQtyw3D3H01cHP302V3tl0YrDUzMAzDPm2XtjNsT9h/DRDzjtXZheFlw2oUXrJs+1+urrzAMK/veTMitU435LT1aTt0W9g/fd2KRzsCQ223DQ0PHZmUazZdJF8Z+hu540OL5PHlF8pjH/yo3PYXH5JvXvRJGT7vA7Ly/e+Vyz4zLCP/+mVZ9oH3yBc3LJfNP1hpuv/OO9FNUyaefFzuu/9+efbZQ/LAAz+S++67X6ampuTIkd/K97//A3PTEA0Ajx49Krfffru5w7CGgfv27pXJyUn58cM/lp/t32/Cw+9///smYHzooT0yOTll6tHAUNtsg0N3udnjoHc81tmQjT5ee+017p7cKCLHI4AAAggggAACCCCAQCLQrsDwjuderzvQ+8ZT6WSmpOHBwleeOF53+do2Ht0kcEA2nXuunHvuubJJY5QDm2T1uJ+HVdubA5vOrfvYauuoZr+qA8NyAVZeRRpAhWGYvg4DKQ0Qyz00cAyPsZfbtiow1OAs75HXFg0B9aYseSGcW0ZeeBeGje7+uhzO1LTha15gaE3cMvLGrFw7dXzCOrs9MHznbBT0/fLXe+WWseXyrUs/JuPvG5CppR+Wn593odz5538vox+6UP7lvPfKpsu/KhP7HpOxa26WTw19VK4a+7hcsXOpIX333bMJ7R/+8GayrMHemTPRNl3WnzffTLdr0Kgz+M7EgaM90AaZ+lovWbYPd70NDXWbu2z3bfT55MmTXt22vPsffMguZp7ztmn7tSweCCCAAAIIIIAAAggggEAzBNoVGF7+ZP2B3j/tqXzZsO5Ty6xCd19tW7WP9gdMJ2R8dRSOaUBmfkxKlrb4xPhqOffcTdKaKUhpPd7SiXFZbdtzbqOhmwaANbQ/CQitzWqpMy+U9o+np5i8qDowDL97T8OoWh95sxTLBVi2fHuZrw0ONTDTR6sCw1IhpgZ8eYGabZfeMMTeadi23T6HIZ8GjXq5cLmfcEaibVdYltYfhrNab3gDk2rGTL9z0fbHPts+NPO5bTMM3z1jmj372kvywN1fkLHPXyQHBi+Uo//4L/LUiiEZ//in5bKPf0w++s/L5SOf/phcu3WrLFv+KTnvQx+QW374b3Ln/qvN8WdtObOzot+JqI/jMzPmWf+jlx7bUE9Dv8cee0wOHDhgZgvOzs6a/fR7Dffv32/21RWvvvpqEtjp9xjasPC3v/1t8v2GesmwHteKh15KrJcUu49fPjUlf7V4qWy4Muq3u+2KKzeabWFoyGXJrhLLCCCAAAIIIIAAAggg0KhAuwLDSx47Vnegp+HezB+jz4Z5/X3+jfmGyta2Vftof8AUhWJuRqhtOHf1uNQ3p67anpbZ78AmOfdcP6TTNrltLHN0zqYaA8OcEupd1f7xzG9p1YGhDY/ss53tll9s/tq8GXr5e/prSwWDpdb7R0ev8sJKXaePsBwbSOaVk3eZtDVxnzVgdcPQvNl+7v7VLGs79ZEXGOa1NSwz71Lp8Lg8p3CfZrxuR2B45mwUFj49/YR8e/s6eeCBb8uOb62TWz7wd3LbX79frnvfB+XqTw7J1d/4onz2S5+W4c8NyRc+c7Fc9FcrZPXKlfKduzfJtoevltse3paEeTeMfUvWfvGLJhy8avQaQ6HfV3jBBRea7yPUFdddd508+OCD8vTTT8v09LRcc3UUvm269lr52f6fyVcuu0wOPfus+d7DwcFBU8Z139wsc3PzJij86Ec/ai5V1g1XXXWV+b5DXbaBojmgCf85duxYcrMVtzgNBMPQ0IaF+hw+9MYuWhYPBBBAAAEEEEAAAQQQQKAZAu0KDD/80NGGQj295LjUo5HLkTWMrOXGJ17AZGbZuTPjwnDPzoDLmRmoodumA2aGm505mH9ZbVimKkTrkv21LC9A9Ov1gjwT9pWYsehtc/vlykeXA3tluptN8/zZh+6+Juy0MxN1QzBTMelHsD4tQ/u2WsYPuHWEbU0vWQ6DTb++TbKpTZckv3x8RsIJQS5bWwPDvLDNbUyp5TDQs8FZqfV55eQFYfUEhlq2BoFh3WE4Z1/b0LAIgWHeZcuhVZ5TuE8zXrczMPzF8/vlizcvl5t3jsqP9vxQPv6PS+Wi9/6tfPQfz5evf+Orctdjd8vmG66Qa4ZXypXn/q3c/F/eLz9af4U88ugOGfr238nX77gu6fK99/xQ1l++Xnbs+L5s3fods/6uu3bKlVdeJbt+uEt0duD1mzcn+2tgeNutt8mvfvUrueGGG8z6X/ziF3LTTTfJr3/9a7nsssvke9/7nnmtGx9++GH55je/KZvjMjZt2pTcxbhdgaG2ww0NdbahBoh5YaHuS2BohpX/IIAAAggggAACCCCAQJME2hUYvve+5xsKDDXYy7v5SSM3O7GXJX/w/iNVa9YSGB7Y5MzCMwGY8zoO55IgzLwOgy9tVl5gqDnbahM4mobrsUlgGISJ4szeC9qgZXiho3NZcMnLnE0Zee20hAdkU9KWuJ32dXDsifFN0aXEwXrRNttjVED7mryOw9DgddIP019ntqOWnewbBYnhvulr24fWPOvn/FKhYdWBYXhDjGoubw27kxdG2UAt3Nd9HV6aa2cAhqGdDRLdY+1y3ncI1hsY2jL1EmWdNZl3IxcbGOplwfoIZwXqeq2/lh9rFZaldeU9wsunqxmzhXpJ8uTh/5Qv3bBaPrx6hbz3gvPkU5d8Ui78xKCsuvRzctvWG+XmK/9Ndnzy0/Li574iz/zFh+X7f7FIvvpvF8g3fzhiaG1Yt+22m+X5w4flqqtG5Ytf/LK5XHjdusvk7rvvkZGRr5kZhV/+0pdNyKffZXjkyBHZdO0m0cuSL730UnM58x133CE/+9nPTDioly7rTVJ0VqE+vva1r8ndd98tl1xyibkhiYaH+/bta8llyXmXJLvnkQ0Ny4WFuj+XJLtqLCOAAAIIIIAAAggggECjAu0KDDWUswFdI8+feOR3ojdB0Z9GvrfQbUOrAkN/bILgzwv5dE8Ns5xAMTk4OC5eXzIw9AKyaGcNOU0wGdaZvA5DRj0uv169wUhN35fohoHm2Jw+uvsk/XYWvO3ZdmUskhTW9iOuM+lvWrYXAKerW7Z05w/ulm9eH01wciupOjDMC5JsgOUWaJd1WzijLe+mJ/odfuUeeZcx23LDwFAvAy71yGt/I4Fh+J2B+lpnUIYhnYZ5ui0vsCznV6ofur7awDAvyCxXp7YzDGdLhZHl2lfNtnbMMNR22JuVfGP75+TyOz4tG/7jq/KhC94vt958s9x4w/XyD+cukqv/+ZPy7X/4mNzwwUF5bmSTTH/4EvmP9/yl7Lx3s6za9j55/sWnky7tn9gnJ149ISdOvCoP7X7IXIb85JO/MNt/+pOfmu8l1NmEOstw39595mYg2ld96N2Sx8bGZM+ePeb1wYMHzeXG+t2HGhJqqKgBoj6eeuopEzY+8cQTcuONNyaXKNvg0uzU4H9K3fTELVZDw1IzC+1+3PTESvCMAAIIIIAAAggggAACzRBoV2Col/26IV2Rllt3SXJ0B197ybE+J1lWJrxqUmBoQrngkuOkXr8Oc3mwaVA2hLOBYWb2nRfelT4DTdn20mNn5mIUjEbtS8ouUWZ+Gdm2uoGhWU7qtQ5RYOjuZ1ve7sBQ6w0/+2sOUHVgqOGanTVnnzVcsqGb7Zg+ayhlgycNBN2QKu/SXL1RSBjAaTnXP5i9Q7IGcvaRV5YNE+0++qwzAW17bNv12bY9DB7tDEa3DLusx2iftLy8NucFnLaeMEzUWYZ5Zdg2az153ztYbWCYdwm41umOh+2XGoU3trFWdp9mPrcjMLQ3IdGblFxx+0q5Ydc6uea2r8j7/uGv5eLPfV7W/q9L5ZPv+6Bcd94FsqV/qXxv6T/L76+9SW47d5Hc/NkL5bs/uFLW3vHfZO8v/7fp+unTb5cksHWV3KGGDfamKuEhzaxDy37rrbfMLMawnlpfv/7666asWo9jfwQQQAABBBBAAAEEEEAgT6BdgWGjNz1pZcBY901PMkGXH2algZzK+9vMTL3kUlnd7od56VgFx5kNwTo3fHSX00KSJS+ES+qPyksCvLw60hJkUxJAJiudBe2HE4xmjOyuTh8y+5QrwzkuLsoNAt1lW5N9NtuSPkdrOxEYas02NLSXKVcdGOrBeTPWNFRace0LcsXOV8yPhlw2aHKfNUjThwZT7nq7rAHcpd89npRTKrxyA7S8QEzL07bse+Yt86OhY15YqPvZIK+awFCDvbBvWu53971u+qR90yAur902oMtrr+33vU+eMu3VZ3WwLvqsr91HtYGhHhNeSm7LdcdMl+36vGe37mYttyMw1LaeffesafITv/qx/OvYX8kVt66U67ZcI3/+nr+R9yxZIhf8zXly9fs/LDf9P++R+//LgNz3nr+SKz/yl/LDnRtl/ba/k6u/Nyxv/fEPSbd/c+gZeezRR+X48eOy95G95lJhvSRXZxnqHY0nJ6fk6amnzXcZ6t2NX5ielv2P7TczEZ999lk5dOiQuWz5Jz/5iblsWY958cUX5Te/+Y2p45133jHP+r2AGhDqjEJdbubMwqQzIlLpsmR337xlLkfOU2EdAggggAACCCCAAAIINCLQrsDw8iePN2WG4SX7j8n1B2bNjy43I0jUtpV6+AFUEGQF35dn9k3CsiAAjGf+NT7DMArM0u/0i2cxJkFYTvh34kR0R2UN5pL9gh6b9qXfTRj1JX3t7W329S8t1uDN9C0ILKOAMi7nwKZ0hqV74xYTGDrllSsjDF7tdxymsH5gqdtPxPeTNvWEYea56fc4BuNp+lyir56/h1P9i+cOPy/6o4+aAkMNzfouPlQ2XMoLnHRmnQaF9pEXnOUdF67L+w6+cNZeeEy517UGhvX0XY9xH6VC13Lt1G3uzMlaAkMNKxsx0rpb8WhbYBjfKXn6+DNyyTV/K7fe+3X5wZ6t8o1v/7t8/HND8j+WnCcbPnShXP+XS+TGxX8tt332Irnnritlx8P/LqN3DMm1d15ium9nF+79yY/lRw8+KLt3PyTbtn3XbNOA8PH/fFymp1+QPXseNoHiPXffY4JBvfxYtz34wANy8803y5YtW2T//v2iNzMx2x5/XHbs2CG33HKLKavZswgrjZ0GkRpY1vvQ/5G3u831tpXjEEAAAQQQQAABBBBAoDsE2hUY3vHc6zWFe/pdhZc9cVy2HnpNJk/8SY7/Mc05QlndpvvovnqMHltLkKhtK/fwZuUlwVR0hA0J9XJjnaGXBGc2yLKXx8Z3RE4OD0KxSjMM3cua9e7K3iNTVhwq2rpXb5IDcWbm9SXenhRnwjF7GW+JsNBW7O17rrkBSxTM+XVvOqDBaVTWgQPjMr7alh8dkxZn1+u+pcvIzNS0zkkntMQo2LVmGpImYm67db1745c4UHRnWkbj64SZtm2lglfboRqfawoMtWwNoErNWssLvTSssjPs3LbVGhpq0JZ3+W7edwOWake4vpbAUNuu+9cavtk6bN+1D7WGhmFQWktgqPWqdbXtztvPtr2Zz+0KDG2b3znztjz2ix/J1l3Xytfu+Cf57PXnydVbRmTvIw/L2Nc3yr3bt8v2nbfJqk0Xyld3XCRXbl8l33voZvndzFFThJ3hd3T6BTn4zLPyxz/+UZ588klzww+dFfjzn//cfH+hfvegzj7UmYXP/eY5OXr0qBw4cEBOnTplZh3qXZN1VuHU1JTMzMyYsE731/Vvv136kmfbj1Y8z83NmZmGtZatsxP1WB4IIIAAAggggAACCCCAQDMF2hUYvvDm21WFeBr6vXk6unqtkX5qGVpWNcGhtq0nHhqWecFacLflnkAoZidrDgy1Gxp65X1/YBjI6T55IZ+l0DCtUvioAZYGXuUelcJHrSMvWLRhXjWXJNv6qw1MdWahOyvQHm+fNfTLC+dcw1Jl1BoYap3a7rCfbl26rDeGyXOybW7mczsDQzsDTsOt/T/fL09NPSU/enSn3PPAdrn7nrvk+3dsl13375L79twn1/7wWnni10/I/v/cL4d/699Ex5bTTIeilKU2OtNQLzGu9NB99H/ghIWVpNiOAAIIIIAAAggggAAC9Qi0KzDUtlW68cldR07W04Wyx2w99GrZ0LCWG56UragLNprZcl5gmHP5chf0YyE2sa7A0ELoZcb63YQ6Y07DKP3RZV3nXoJs9y/1rMGdhlW2DH3WsFHDq3KBo1ue1mfL0PBLQ0Jtiw0bdbsGbe6PbaPu4663QaJbfrisAZwe47ZZl23oFu6f91r7pnVrX91yKpWh7XPbq8vVPvKstT5roW2qt+xq26D7dSIwfOjh3bLt9q1y5/e+I7feukUeefQRGX9wl4yP3yd3PXiX7Hlsj9x0+01yx8475KatN8q27dvMdw9qe+0MQ30+e/Zdcxmufregfeh6DRTd52jfaL3d5m531+n6Tj+0DTpr8LXXXhO987EGg9pH/dFlXac3ONF9FnJ42ulxoH4EEEAAAQQQQAABBHpdoJ2BoX73YLkZf82YWRiOp5ZZrs6xg/G1uuGBC/K1f6mvvYx6QXa1yzrVUGDYZX2luQUS6ERgqDcc2fmDu+Spn/9Sjr/8stE48fqsPDn5C3nm8DMmBJt/e14OHTkku3bdK/ff/0BymXAvBWR69+STJ0+aYPDYsWOiPxoS6jrdxgMBBBBAAAEEEEAAAQQQaKVAOwPDl986Le+77/ncAG/ZA0da1s1SgaG25fX56GaYLaucghGoQoDAsAokdmm+QDsDw1Kt76UQsJQB6xFAAAEEEEAAAQQQQACBogm0MzDUvuuMvrwAb/X+l1pGo2Xn1dlbswtbxkvBTRAgMGwCIkXULtCJwNAGhPpsLwG2z3nb7Lrae8cRCCCAAAIIIIAAAggggAAC9Qq0OzB88/QZ+eD9RzIB3jeeqv7rv2rt61eeOJ6p7+/vPyJvnU6/+qrWMtkfgWYKEBg2U5OyqhboRGBYdePYEQEEEEAAAQQQQAABBBBAoGMC7Q4MtaMPv3gqE+DpLEC9QUkrfvJmGP7k2B86Zk7FCIQCBIahCK8RQAABBBBAAAEEEEAAAQQQQKBjAp0IDLWzpS5Nzrt0uNnruBS5Y6cbFZcQIDAsAcNqBBBAAAEEEEAAAQQQQAABBBBov0CnAsOz774rFz/2YmamYbPDwbC8L/znS6J180CgSAIEhkUaDdqCAAIIIIAAAggggAACCCCAQI8LdCowVHa9Q/EFDx1tW2iodel3KPJAoGgCBIZFGxHagwACCCCAAAIIIIAAAggggEAPC3QyMFT202fflWumXml5aDg6+XtTVw8PNV0vsACBYYEHh6YhgAACCCCAAAIIIIAAAggg0GsCnQ4MrfeuoyflvF2Hmx4capnj02/YanhGoJACBIaFHBYahQACCCCAAAIIIIAAAggggEBvChQlMFT93715WnQm4JJ7Gw8O/+7ew3LV5O9Nmb05svS6mwQIDLtptGgrAggggAACCCCAAAIIIIAAAgtcoEiBoaV+5U/vyDeffkXed9/zNc84fP/48/KtA7OiZfBAoFsECAy7ZaRoJwIIIIAAAggggAACCCCAAAI9IFDEwNBl//VrcyYAXPXoi/KxH78g/7SRpDsAACAASURBVONHvzVBooaJuvzRH0+Lbrvx4Al55vU591CWEegaAQLDrhkqGooAAggggAACCCCAAAIIIIAAAggggEDrBQgMW29MDQgggAACCCCAAAIIIIAAAggggAACCHSNAIFh1wwVDUUAAQQQQAABBBBAAAEEEEAAAQQQQKD1AgSGrTemBgQQQAABBBBAAAEEEEAAAQQQQAABBLpGgMCwa4aKhiKAAAIIIIAAAggggAACCCCAAAIIINB6AQLD1htTAwIIIIAAAggggAACCCCAAAIIIIAAAl0jQGDYNUNFQxFAAAEEEEAAAQQQQAABBBBAAAEEEGi9AIFh642pAQEEEEAAAQQQQAABBBBAAAEEEEAAga4RIDDsmqGioQgggAACCCCAAAIIIIAAAggggAACCLRegMCw9cbUgAACCCCAAAIIIIAAAggggAACCCCAQNcIEBh2zVDRUAQQQAABBBBAAAEEEEAAAQQQQAABBFovcM4LL7wg/GDAOcA5wDnAOcA5wDnAOcA5wDnAOcA5wDnAOcA5wDnAOcA5wDmg5wAzDFsfylIDAggggAACCCCAAAIIIIAAAggggAACXSNAYNg1Q0VDEUAAAQQQQAABBBBAAAEEEEAAAQQQaL0AgWHrjakBAQQQQAABBBBAAAEEEEAAAQQQQACBrhEgMOyaoaKhCCCAAAIIIIAAAggggAACCCCAAAIItF6AwLD1xtSAAAIIIIAAAggggAACCCCAAAIIIIBA1wgQGHbNUNFQBBBAAAEEEEAAAQQQQAABBBBAAAEEWi9AYNh6Y2pAAAEEEEAAAQQQQAABBBBAAAEEEECgawQIDLtmqGgoAggggAACCCCAAAIIIIAAAggggAACrRcgMGy9MTUggAACCCCAAAIIIIAAAggggAACCCDQNQIEhl0zVDQUAQQQQAABBBBAAAEEEEAAAQQQQACB1gsQGLbemBoQQAABBBBAAAEEEEAAAQQQQAABBBDoGgECw64ZKhqKAAIIIIAAAggggAACCCCAAAIIIIBA6wUIDFtvTA0IIIAAAggggAACCCCAAAIIIIAAAgh0jQCBYdcMFQ1FAAEEEEAAAQQQQAABBBBAAAEEEECg9QIEhq03XtA1HD9+fEH3r12dw7Fd0tSDAAIIIIAAAggggAACCHSvwPTs6e5tPC0vtEB4bhEYFnq4it04DbmWX3ChPHf4cLEbWvDW4VjwAaJ5CCCAAAIIIIAAAggggEABBKam56Tv4kMSBjsFaBpN6HIBPaf03NJzzD4IDK0Ez3UJaFhIaFgXnXcQjh4HLxBAAAEEEEAAAQQQQAABBBwBGxa6gY6zmUUEGhYIz7H2BYYHD8s5I0dlpuEu1FPAyzL6kYOy45V6ji3uMTMPH5Rzbnk5bmDn+kjY1ZxzBMfmOFJK7wpMjvXJ8PhsxwA6XX/HOk7FCCCAAAIIIIAAAi0VCIOcllbW4sInbjkg53zkgCx/+GSLa6qz+FeOyvKPaBsPy0SdRSSHNbOspNDWLrjnWgsCQw2uDjhBVtyZFgaGJjhzBlNf+ydfM8O0qH9++WUGLDlBol8K/cVIfpKwr8zxZTYVJTDUJjYSdtl/MCKX7g92o/Oxvn7U5zgr48N90tfn/gxLB3OTMmdtEzfNjstwX5+MTTaxTFtUXHaj4dPs+LD09Y1JK5pom9rsZw29KptOypieb5V3FIkt3fMzPEzr7Bsel0pRX6X9Oh3YVarftD/5Pe2u86LZ5xnlIYAAAggggAACCFQn4AY41R1RYS/NZuJcYvRghX2DzdFn9/o+60ZFnZQdI3Em0mAeEjSt5pfR5/Y0n0ksEp9G+hk3p5lliUjj/tUx2XOu+YGhgtxyWEadAM80Sde3aYZhawPD6oBz92qyQZECQ+1vPWGX6YN7XpiAtQlJfu4AtGNlFE4vH6n/H5faHaPA0AthJse6Lqhqx+hUW4cGfcNjYzJcRYhVbZndsp+GWt65lNNw4zM8XENg6IZjUdjYaBib0yypFNjlHdPMdaXrj0N9F1aD1B48v5rpTVkIIIAAAggggMBCF7DBjT436+FN2KkptLNhX/2fdZvVh0bLCcPCegPURttR2/Ht9ddzrumBoZ58msza5wQgE5bZzqaJ7jnJZcP+Nn82nwYyh2VCy7MzGZ2yvZP/I1FbROIZhgft1NIDXngZBYwvp0l33I60LPcXImpbkj6LiHeyueFX0vl4wWlnuqlcX3WvaEZj3gls6k1+weM+Ppz+tSAT0Foz89eENJQz/XTabcodOZo2sYalWsMurdsf37Ayt//OOGhfbnk5Ttijc0jHxB0Ld4xEfOf0Uu7omOUPu+Nvz5u4LcEsUb9cv71Rf7Qsp63+LlW9qs0xJzAUDWXsLENdHpNJEyI6s8LsazPjyQ10JHdWWDQDTOsalvHJaHafnRXmzZxyQxCtY2zSBDl2hplmJtHMu2hGpJ+hDMvw+KQzYzLqQ1q+7ZMyun2MyvSPDYKvnJlutv3+oMR9nLXP7tbI2vYlCb28sp02av9dD2+/eEao2R64hmNSo6O22DV2ZwKasM8ztk5+3/qS88ftvz034vPJGTwzRm5f7WGmz3nnV+pk2mrKisJEp9j4XIz2TfeLC/c8x2QsvCTZPcfz2maKCfrtVF7aqsr6k92G/fMgXu89uW31ZqVWODe0kMBhXAPveIpxvpk7Hn7/0+4H9Q6Pe83lBQIIIIAAAggggEBrBVoRFib5wi1H4/wjzQXEfu4NPmdHn9fdz+XBDEF7XDhr0a53y3OW3RwgzV60bKdNcYbhfl53j6tvBNJsIP1s/7LssJdI23bntMPmMtGzttOWlX7+t30xZeeVlaxLcwzTD7veMdJ66vavD8c7qsmBoZ5E8eDGgU5Sm752QimD6IVd9qSIwNOTIDoxw9du4CM5Zaf7awvikzupP3ptT44oZCoxwDYQTNoatc8/1rZdZObgUZko9V2JQTttiJW2Nb+vti77C2xfZwND91LwwFHrtmNj++S8joKukxLVkfYnGb8aFmoKu0y73Ha7FfnjZNpmxzA+zrNIfplEsudEOr5RH9PX4fib17YePXeS5TiQdF67rU3r1Han5Xv71PCiesfoA3/6Qd+GRTYUiEIYNzQSE07Y7fn7J+XFYVXU9DhccMIXDSSSfU2IZwMozfR0pmP62oQXfc73zOn2oCw3qLJBoS3fDz+ygaF7rNk3KTsIorw+BYOi4Ut8nJZhgxezV9DeybHIUNuZ7jcpY7bB3v7l2hC6Rq+TMrWcWh2TvuswhGMQhHXJvtlzyddJt/tjEbbfOSovMJS0HN3TLctdTsxjT39b5JkYxede8tqY+ed4ss1p3uRYahEFb+lrU58TnJrXiVWF+r063PPD2WAXc9qaXsoe2kav076Ub4dvZsNF65JXlr/N/f20zeUZAQQQQAABBBBAoLUCrQkL48/J8edmL9jS7tjAypt45QZ40efzdKKXc0z8Gdn7bO2UZ4M2/fxu67U5iH0dfba3dTi5UhxERmU0/jlbu2rrNGUmWU88pkm7gzaY/WxAaDMT+zptly3b9Ccsy76u4JVrYXMtN2soV14TTtHmBoYHDzuzxXSgLWIY4Pihmw3ODEoQbJk+6rokpMkJY7zt0eDbky8yyh6jg2j38YO3sK3ha7ft7nIVoxG00wRMrpEW4ezjB1dR+W5b3eVkFqUbViZlRe20/Y1KCtpuTrTDMhrPEK2iNyV3qT7oskVEbYn+AQjOGe+XV/eLfxGTvsVlxO1PvpQ0fG2rMs9+331H+4+e0w732JLluueYu+weXNty9Y5xoJB8N5rOXLMf+rVODRTSEETisCYNHHSfqAyTy4QBj/fa2a9Ed7zwzAvMwrAi+zoTboTHe6/9fmWOddvtLpvu6gxJ1yjtjJZj8z4TICUBURis2mNi/+Qguz4OTO3xZduQdfX64/U76xYFXbY/WpY73nE7ckO3sKxsO5zelA/23B3d5bDfZptfj9fXYP9M2GmdQxPTzTSYc4+LqkyDYLd5/nKZdumObtsq1J+WG5Xp/76lW+3vnr/dbYe7HB3neVVoh7dv2Aftjz0/4yalbtl63VazjAACCCCAAAIIINA6gVYFhl6YpZ+p7VWb2hXzWdcNCO3ndBuG6edc3W5fp1f4RQFXWobJHjLlRV62DVE+YctMP3+bz+d2MpBtY5IHNcvc9i2a5WccbB1Bu732JGGjNbDl2NdpGJkXGNqyqvMKy7ZWaV1ly2sCVVMDQzvwUfATwScQQcBjOmbDIDMgcaeD/UwfzUliT6CcMCY4xg0DI6PsMe4+Xlv0gKA8/3U0aFG/suWWHZOy5cZHOn3NtMvODHTTaGto0ub0xDGlJWW5bbYtjNa5IaIZP/tLYner8bn6kCu/4OiEj8Y6WnZ+gd1/nEJLcw7Zc8T+Q+W81uqMR1qePTczzmFZyT8K9tigXLu93Fjkd7fk2tocK32w94M1G1DY3CVqRFRGFFr45ZnAIQkV/G1JB0yQkt50JQk/wjDDDVz04OB1JtwIj/de+/3KHOuV7bfb71PSC22Qczm07U8Qvjl9dQ1NmXmXEpew89vgty+icb4j0Ot31s13VBfbdue50cDQ9Du1yHi7jO6yNw52g99fvyx3m/bFBqEVZiJ6gWHeOJa5sYr6OmZ2XP12+e6ZbV79tp/Rsxei+5uSc87WGW2O2p/3+6jb3brdZVu0W19muzseQb+tQdQWdxxsyTwjgAACCCCAAAIItEug+aFhEDgFwVg9gWFeBqR5UNWBYdgGm3nYINN+hm8wpyg3Zm7ukNtu2wbzeT8O8ZL2xK+dENWamLwh6J/d5mZmpb3CsoPxszmEyUlsVhE9uzlPub5X2ta8wDAnZDEBjQ1RcgOetFM2vIlCnSCQ8Y7NCem87e2cYRgNWNL2StpBOyv11Zy4yYkYFe6GW+5ywzMM47btcGZeVupOuL22kCs82r5OTf3+2e3xc2gZnn/Ba/OLac/F+HsG7Lhl6vGOTdtjava22TZF+4S/9Pra1mH3rOa5dsdKH+z9YM2GYkmoZxrll2FChiRASQMbe6wbbph9k1Asuvw1KbumoMsPQkyzwuO9136/ygYjNmTJ7ZMzKl750XotN+mPs2t25ma80S3DXS7bBt9fS/L6E5TjB4RmZ2fGpO/iNTksN6rIOTbbDnu8aU/i5wSRztjbfb1nN6CyG4J1Xl/dNmq/nZPN3c8sB3WnQVnpftgm2Gc9Jq3DP86tz+zvtLt8/bb06Dlv33SPqE7/HHPb4S475cUueWWnDsF5pIc7fTBfGRAYhu1y+NNNLCGAAAIIIIAAAgi0RaCpoaF+hs4Jl5LPreazrmY0No+pHFiZz9KlPvdmyovIbGgWhVr2s7StM521aLbbNge5SMP4Wm6SD6R1mnU57bb9jPzSttqrZd1Zl7Z/JgsIyrLl5OYEwb7Zsq1VOlGsbHkNIum517TA0DTUATdtMx2OMYOARxFzkeIwJ01EIxT/dQpk6skp2x38vDBN67dlZtoelGeCveQEjX5pbNujAXJOmIMvS3JZbDhAYblV9dVxik8gr+7EPM8p7WMYTvrtdvpk6gh8w37kvK495NJCwjbbWYDWM9pu+6tHzLxyMqo9tHTPNd3De63lOH3SY51/1DLj7x4b1BP98tv2RU3J/jeoL7tDyTX1OWYDBb+CnABJg5hw5lbyWvd3Q0K3tLCu4LUJI9LLQjOBhBtWaLHB60xAEwZl3mu/X5ljvbLL9Sntnxu0JGudOmfHxyS+l4TOJzMz+cYmZ2V8bFxm7QGurXNstH+1rkHQ45WTdct19IKgWZmNG1jeKRpPP7yyHfOfw3JM8ObVGe/vjYNtu3OOmFXObEpzWDReehMTN7Dy6jTlOtvj10nb3XEwZaYGaU/8cyj3Ozf9BqThaqX600q0h9HM1bAs6xW01fQz+R0MfsdCr0rt8MqO2xGUnZhpm2dn43M5W6/XJV4ggAACCCCAAAIItEWgWaGhDbJsDqKNj3KB+J4C5nNwucAwDBDt5273GIckU160LWyHfR197o8ygCS0jD+7p19R55Rf72LSrnQCmw1STRuS7U6W5eQHYbX57Y9znLCs8LVbWGZb6B2+ruDvll3jsj3nmhYY6rXsbrATtSfqkDkh484nJ2eC4QxSEMrZQUuOMYXmhDFBqJNOpbWBWfYYHVRbbiYwCsvzXkd9cvtqTxDTXv2OvYMlRsMrx+5jBz1ysG2yW22oZi3ceqMQ0LprHw/LjocPJn81yJSl9Sd/UbChV1x/EjzafzQOp02osFRfyGULtf8g2PPACfbMLv725SNHo0A2tDTnk+2T/cVJXyf/EMZTm3XMrGVm/L2y/PEZPRg5lwyFkzaH/bD9Lf1cv2OlD/ZBKGKbYIIEO1PMD7KiwMJui56jUCGnLrec4XGZdGfk6TYbimi9Jtxw6gpee4GQ7h8e7732+5U5Nq/sYIacH5To9xqml9xaJjcYnJwc9y73NcfPTsrkuHtJq1OG1944BMxtQ9bV609QTiXHiHrYucxWv5cxSgy9cvPGROuK2+jmW6lHtOSXE7XfG2t7QBxo2TL1OSzXLys60ASQSbCVV2d8fljP8NzTQ5y+6A1x9C7a4cPUbcuI7+ht25dpV3BOeeXn1e9VFhvZuvRcm7ThXNhW53fE/X7RuLxMu9x+Do/LuHcTHrdePTejMDaVcLfrZdtjEp0q0Xpr4XWFFwgggAACCCCAAAJtFbABjj7X97Cfq4PPqUkuc1B2PHtUlpu8wH6Otp+FnWOS/fXze7yfty76XG8+ayfrbXlRy21+4uYVdl2UVzj72wwjyYrq6332KNs3m0Ok+UCaJ9l2WLt0X9NOm6Ek/YxN4jaXNPD2L+dl21inf7bTVa1xz7WmBYZV1ZzspB13Om3W6yCE65IDWCioQP0hV0E71KFmFcpRQxE35FOTMLDqkFPd1RahT0VoQ92AHNhNArkzZbupA7QVAQQQQAABBBBAICPgBjmZjaxomUA0+ciGh1pNTpDXstrbW3B4jnUoMMwJB00K6w5Ce2GorXaBP/zhD7L8ggtFwy4e9QsUzjEnHDSzvbp5qlER+lSENtR/mnJkFwkQGHbRYNFUBBBAAAEEEECgBgEb6Jx860wNR7FrIwLR7EdncpudIdj0WY+NtLLxY/Wc6rv4kOg5Zh8dCgztd9W5UzoJC+2gdNOzhl08GhcommN0OahzSXI3h4Xx8BShT0VoQ+NnKyUUXYDAsOgjRPsQQAABBBBAAIH6BQgL67er78icS5Lt5cj1FVjYo8Jzq3OBYWGJaBgCCCCAAAIIIIAAAggggAACCCCAAAK9K0Bg2LtjT88RQAABBBBAAAEEEEAAAQQQQAABBBDICBAYZkhYgQACCCCAAAIIIIAAAggggAACCCCAQO8KEBj27tjTcwQQQAABBBBAAAEEEEAAAQQQQAABBDICBIYZElYggAACCCCAAAIIIIAAAggggAACCCDQuwIEhr079vQcAQQQQAABBBBAAAEEEEAAAQQQQACBjACBYYaEFQgggAACCCCAAAIIIIAAAggggAACCPSuAIFh7449PUcAAQQQQAABBBBAAAEEEEAAAQQQQCAjQGCYIWEFAggggAACCCCAAAIIIIAAAggggAACvStAYNi7Y0/PEUAAAQQQQAABBBBAAAEEEEAAAQQQyAgQGGZIWIEAAggggAACCCCAAAIIIIAAAggggEDvChAY9u7Y03MEEEAAAQQQQAABBBBAAAEEEEAAAQQyAuecPXtW2vXz7rvviv7wQAABBBBAAAEEEEAAAQQQQAABBBBAAIFiCpwzNzcn7fiZn5+X06dPy5kzZwgNi3ku0CoEEEAAAQQQQAABBBBAAAEEEEAAAQTknOeee07a8XP48GF5/vnn5ejRozI9PS0vvPACPxhwDnAOcA5wDnAOcA5wDnAOcA5wDnAOcA5wDnAOcA5wDnAOFOwcaMsMQw0HX3rpJTlx4oS8+eabZqYhlyYTVyOAAAIIIIAAAggggAACCCCAAAIIIFA8gbYEhs8++6yZXaih4cmTJ0UvT9bvTeSBAAIIIIAAAggggAACCCCAAAIIIIAAAsUSaEtg+PTTT4uGhjrT8LXXXjPfmUhgWKwTgdYggEApgVkZH+6Tvr7sz/D4bKmDSq6fHOuTscmSmytvmB2X4b5hqaPqymU3ssfkmPQ11LFGKq/v2IbHor5qOaoNAoUdW/P7G/1b0pxfl0kZ6xuTRv5JqXU4Cmtba0fYHwEEEEAAAQQQQKCsQFsCw8nJSTl48KD57sJXX32VwLDskLARAQQKK6Af9ofHpfaYMO1RYx+2NbwsYFio3SMwTAeZpY4LNPZ71rrme+0y4WGjYZ8bGOpy6/998PrQOipKRgABBBBAAAEEEOiwAIFhhweA6hFAoIsEOh4YFtiKwLCBwZmV8bF6guh6j2ugqc06dHKssZm2FdpRzFCrFYG/GxhWQGnS5mLaNqlzFIMAAggggAACCCCQCBAYJhQsIIAAAhUESgWGGpY5lyx7lxp628ZkzL0k2cwwSi91ji5xzgkVknr9cGB2fNipt8TMIj12bNy7rDq9lNovT3sfhgH6Oumb3zEZc/s85l+SXOo4v80lLs/OdRGRsn3RtquB9knbHM/cKlWW7au2O+mHP9vL64MtzxyXU4936viXsafe/vqojcG6eAar75Q3tjUeZ+wmxZabtCk4P5NLW8u4+V3VS+TTcyQpN2eskkvWvTrTc8Dzds4122Y7Ts6mtClemcHvmfhWSRvTo+Mle+5E/Rkb19+dSETb4B2n/XNnG3teeePll91njp2UsaSMaHnc/X1LtsXnfp6zuL/D7nL2mMQtsErGPPAoNR66Pimr3DFx+zP7a/2O69ikHZ/YzWtfn+Nu94vPN9cnaAcvEUAAAQQQQAABBBoXIDBs3JASEECgVwTCkED7bYICJ2gyr21goB/g7bLuHIUG+R+2nQ/7zgdqc1TyAd3ZJzQPjkk2e+0J25Atz/1wH4Yk7mvdzw1Q9LUbArjb0uPcgCRpYYUFp41l+xKFnUlQaErVY0v7u22Odh+TKMjJNintQ149/v6uoW5JXk+OeWbpURVcSo2tnk/lQhP3OGPnj5k5d93jdR/3ddJAZwySdXkLzn5xfem57o+Feqbb9NfID+TS1xX6aJrhlx3+niX+cZPD17Ynut49b/V1qXPat3P6nbTH+TfBVmCCy+B8TLy1DLf+KBxzjZJiSoaEbjtCk/jocIzD18lupcbDOZ/TBpklHTPr5W7KeDvnpTnG+x3VfufZRfWWGh+3PpYRQAABBBBAAAEEmiNAYNgcR0pBAIFeEMj5cJ0GGylA8gHZ+WBstybbdEUcqtiZU2nYFX7wtx+g3fVRyJIem4Ybti7zXLbNfnm6f9q+YDaPnd1kEozscel3GJY7Lipf25wfhMQtL+VSti9u2+Nycvzd8Ur7Gu/vBTFpW62xDSuyx9nj9Vlt0hl3/rF2mx1Pe1w2FIuCFKecXLAajithZ9uXPsdtKzUGtsn2udR+OfVFM0CjA7V/aZcaPGdyxjkdI2vuWHrBnO1IuXM6G2h6gaHWnxlzNxi0dWg/3fXu+GXr94xKOXvnrFNGjom2InNemXaH52Pl8UjHrlTf7Pryv5faHvt7ZY+wbfTXO31LdywRcNsdeEYAAQQQQAABBBBoRIDAsBE9jkUAgd4SyAlB8j7wJmFFzof2ZJv5oB+EB85lr1qu+VDuzUpzPjRr2cnsJJP05c7u8YKNeLTSNjvlxdvS9oXhhjvU2eP8wNDtl3tcuqz1aMiSDR60bPd4p64K/mnbk85kTNK+5wQZTvii+7mzpcofl/YrCgzDAMbdrsvaJ+2/3c8NjuKxrGZstZxwv/C1Ba5g57ewzBh4O5bZL6e+8oGhO+ZeJcmLkudMxd8z65wUlbPgnGd2q1OuO/5ms9s/Zz97aP5z+Dvljl+2fq0zGr4yzs456517JdqU6UduQ8N2+jtlfs/M5tLHZPZ32lauPbpN/42IgsOsT96/bX5LeYUAAggggAACCCDQiACBYSN6HIsAAr0l4IYEtue6Lgl+7KxBG37kfdCPQ7LwOP0QHZYzPCZj4YykeB/zYdqGQSZjKjPD0AvmtE02qCvTPjsbyQ2gbJ/j+twZQCbMidtj2lbiOKcITewys4uiWZdOwOO6GDPbdi3J7UupANCORf7+bujqtlv7k/ZPw5D0dSYA8ToVtcMNG4PNycs0QNN+pH2uemy9sCiePVbqnCh57ro+cdMqnZu2B+X2y6kv7W92xp5rb4vPfc47Z4yD24/seVHdeKRjrHVnzmnH1m+vX19uu83KMFSrMjAs5+ydA+55pMuuSdwqU1bO+qDRfv/8jaXO//C8tUf5v0tZ1/T3zB7hPGt7Y/dK5VQzxk7JLCKAAAIIIIAAAghUECAwrADEZgQQQCARyAlBzDYTaqWXPDq5gn46di5XHJPxZNZQcHmguTFJGhqJvVGDF7y5gUAUYtlLId0bNCTt1QXTZg0e0/a5H9DNh/zkckq/fXq4CU2S7dmwrlT9+cdFwYo9xgtInUZ7bXJdKvRF6/Tsbf+d9rt9NwHWuD8+6Q0g3LYOy/h4Gm7m1uO0Pxm7pN44oPHOBT/gTbzMeFc5tu74VDquynPXhi4lx8DrZ5lzOKc+NzCMgmF/lmliELtFY+mOgzsrM2iIZxuex75nX16QZorz6xrzbuTjbxseH/dnd2p/k/Hu82f/Jk2tMzC04b0t3/2dKBkY2j9epL/3ye+GZ+Wfh0lT3XPLG4/o34SkLPeA8Bj7b1dg4/5bpeeZ+ztZ8nfH1BOMoy3f+pRqVNBGXiKAAAIIIIAAAghUJ0BgWJ0TeyGAAALdKZAT3HRnR2z4OS6zXdsBGt5VAhqsEUJ11ZDRWAQQQAABBBBAAIHmCRAYNs+SkhBAAIHiCRAYFm9MaFF3CBAYdsc40UoEEEAAeD4NkQAAIABJREFUAQQQQACBlggQGLaElUIRQACBgggQGBZkIGhG1wkQGHbdkNFgBBBAAAEEEEAAgeYJEBg2z5KSEEAAAQQQQAABBBBAAAEEEEAAAQQQ6HoBAsOuH0I6gAACCCCAAAIIIIAAAggggAACCCCAQPMECAybZ0lJCCCAAAIIIIAAAggggAACCCCAAAIIdL0AgWHXDyEdQAABBBBAAAEEEEAAAQQQQAABBBBAoHkCBIbNs6QkBBBAAAEEEEAAAQQQQAABBBBAAAEEul6AwLDrh5AOIIAAAggggAACCCCAAAIIIIAAAggg0DyBJDB89NFHZdeuXRV/JiYmZG5urqafyclJOXjwoExPT8urr75qjj179mzzekFJCCCAAAIIIIAAAggggAACCCCAAAIIINAUgXNeeeUVE+Ddeeedcu2111b8uffee2sKCzVcJDBsylhRCAIIIIAAAggggAACCCCAAAIIIIAAAi0XSGYY1jprsJb9CQxbPo5UgAACCCCAAAIIIIAAAggggAACCCCAQFMECAybwkghCCCAAAIIIIAAAggggAACCCCAAAIILAwBAsOFMY70AgEEEEAAAQQQQAABBBBAAAEEEEAAgaYIEBg2hZFCEEAAAQQQQAABBBBAAAEEEEAAAQQQWBgCSWA4OzsrL7/8csUf3a+W7y/kpicL40ShFwgggAACCCCAAAIIIIAAAggggAACvSGQ3CX58ssvl4suuqjij95JmcCwN04OeokAAggggAACCCCAAAIIIIAAAggg0HsCyQzDWkPAWvbnLsm9d2LRYwQQQAABBBBAAAEEEEAAAQQQQACB7hQgMOzOcaPVCCCAAAIIIIAAAggggAACCCCAAAIItESAwLAlrBSKAAIIIIAAAggggAACCCCAAAIIIIBAdwoQGHbnuNFqBBBAAAEEEEAAAQQQQAABBBBAAAEEWiJAYNgSVgpFAAEEEEAAAQQQQAABBBBAAAEEEECgOwWSuyRfeumlsnTp0oo/69ev5y7J3TnWtBoBBBBAAAEEEEAAAQQQQAABBBBAAIGKAswwrEjEDggggAACCCCAAAIIIIAAAggggAACCPSOAIFh74w1PUUAAQQQQAABBBBAAAEEEEAAAQQQQKCiAIFhRSJ2QAABBBBAAAEEEEAAAQQQQAABBBBAoHcECAx7Z6zpKQIIIIAAAggggAACCCCAAAIIIIAAAhUFCAwrErEDAggggAACCCCAAAIIIIAAAggggAACvSNAYNg7Y01PEUAAAQQQQAABBBBAAAEEEEAAAQQQqChAYFiRiB0QQAABBBBAAAEEEEAAAQQQQAABBBDoHQECw94Za3qKAAIIIIAAAggggAACCCCAAAIIIIBARQECw4pE7IAAAggggAACCCCAAAIIIIAAAggggEDvCBAY9s5Y01MEEEAAAQQQQAABBBBAAAEEEEAAAQQqChAYViRiBwQQQAABBBBAAAEEEEAAAQQQQAABBHpHgMCwd8aaniKAAAIIIIAAAggggAACCCCAAAIIIFBRgMCwIhE7IIAAAggggAACCCCAAAIIIIAAAggg0DsCBIa9M9b0FAEEEEAAAQQQQAABBBBAAAEEEEAAgYoCBIYVidgBAQQQQAABBBBAAAEEEEAAAQQQQACB3hEgMOydsaanCCCAAAIIIIAAAggggAACCCCAAAIIVBQgMKxIxA4IIFBJYHpiSmYq7cT2MgIzsnvVgPQvWS8Tc2V2a8emqS0y2N8vA0Pb5FCn29KO/lIHAggggAACCCDQIYFOv4fudP0dYqdaBBCoUoDAsEoodkOgmQJTW/pl1e6TTSpySkZX7ZZmlVZ7ow7JloFB2TFd+5EL9Qgd3/5+/Vku2w4FvZybkPVmm27fIlNmcxwYDqyRvZ0bSJGZ3bJmYIms2nFIyAqDceMlAggggAACCCBQjcDJ3bIqea+n7/cGZNnQOtmydzp4f9Xp99Cdrr8aTPZBAIFOChAYdlKfuntWoKmB4aEtsryjgWHPDmPJjqeBYb8sDxLDuYn1cZjoBoYli2IDAggggAACCCCAQDcJmMDQ/lE4avjc9IRsGRqQwS3Rn4q7qTu0FQEEeleAwLB3x56ed1DADwxPyu5Vq2T39CHZsW5QluhfJJcMyrod7tQ0Z5v5K+V62TsjMje1WVYNLpH+gWUyNDQkQ0M75JDE5c3MyMTokCkvms04JVv6V4k/sVH37Rfvvcv0bhkdWiYD2o6BZbJql506OCdT29bJ4BINuvplyeDmeHZctty5qW2yTtull7YuWyPbptz5arr/ZpmamUjqGVg2JKMT/kXNWsaaZQNRXUOjsts2Q8fNOba/f4kMrtN+F+cRBYarZNWqfukf2uVcrj0nE+t13ZAMmb882zeT0Tj0Z8bH7dNJx1//Uq0mqevJ3aukv3+97J2ekm1r4vFbMiSjeqLo49A2Wa51euGyrTeeCTm1JQoz/RNCdo8OybIB+xfyYCzcJrKMAAIIIIAAAgj0ukBOYBiRTMnm5QOyOckMg/fQZd/flngfru/dvPd2IhLWX7LcoH5tpPs5QN9Hem/Aq3sPH5VR4nNAybb0+klD/xEopgCBYTHHhVYtcIFsYKjfGbdZJuzlqHP6hiK9nHVq84Cs2uUEajMn00saMm8UNARaLkNDq2RLJqirEBjq5bIDg85xczIXZ1KHtg3KwJrdafh10oZVwZuNQ9tkcNDvy5bB5cGbowFZsm6XJHnXzC5Z1e98f58pY4vY5s9N75BVA3b7jOwa0vJs/SJzMxauGCdOFBiul23bNMQbkmTo4suRh3btki01BoZToxqeDsjQuh2ye/cWWWWC27TsKDCMw9yh9TK6bigKffvt5eKHZNty3e6cA/aSmeXbosA1ExiqtQ2I18k6G2gPrEr7VAxyWoEAAggggAACCBRDIAzsnFbN7BqS/iQxdN9Dl39/W/J9eOZzQBgYlivXrV9E9H3qkjWyK32DLrvXDMiq3fYziO5f4T18XEZyyMkJGV0+GH9FT7m2OEgsIoBAYQQIDAszFDSklwTyAsPwOw3dfaZG+/3A0MXKvFGIZo0NZb5UMHhTYMqI9rUTyvRNzIB94dYhU7J5wAmagm3uzEUTbvrTGEWmRqV//UQcckZvNvxq/HZMbRmQ0eSvr1rZSdm7pj9el32z4TWnAC+iwHCV7J7aZWYSDsWJYXQ5soZ8aqBBXJUzDG2w585WVNP+frFlJ4Hhur1JmKznje6zJv5ixEPblpvX9lyzx9gyJAwMp7ZEoaNTrz0m/zwpAD5NQAABBBBAAAEEOilQJjA07wWTGYHue/Ny72/LvA/PfA6oHBimNG79IrmfA2Z2yZD9w7JUfg+v7xOT95VxRYe2DMTryvUxbRVLCCBQHAECw+KMBS3pIQE3DNQwLHNZsIh4+8xNyZahJbJkaL3smAi+MDnzRiG/PDH/kw9DP39fr053PMq88fHL9ctLivCO99+cRPu4x0XLGnSFPzbokuldsm7ZElm2ZovsnirW7ELtTxIYntQ3RvYyYHs5sl6irAY1BIY2yMsx6Y+TVxvkpX8Ftu1wbrCjb/q0DBMqzsneddqGdJZiGBjaMm0dZqwOxSFi8mY3GWUWEEAAAQQQQAABBLz3vT5H6cBQLwcu8f62THnmvVv4nizcv1S5wWeD/M8B7vt2d9n2y30Pn773DN/DJ+8lS7bFlsczAggUSYDAsEijQVt6RsD/H7L/P1qL4O8TrdUvTN6hl5oOrk8vX24oMNS786bfYZhXp6k5fONhG2me3TcP+X3xv0vF3d8W5B7nLtvt+c8np3bLllVLZMB8d2P+Pp1Yq4720t9oVt8q2T0zJaPJjEA1qCMwXLVNJqamZMr9iS8bseFeEqomwaUTGEocYOrl3zPx3Zqd2YMEhp04W6gTAQQQQAABBBaUQJn3zfq+cGCL/ebtvPfEIpn3t2XKyw0MZ/QuzfYqllQ2U26LAkP3vWhau7+UbYu/nVcIIFAMAQLDYowDregxAT+Yyw/I/H18IH2zkfzPuKHAMAqx7OXBuZcimKp1v3B2om2T/2ZHLydO2pbsMir9a/ZKNBfQ3z/axTfQy5rDyxlsUdnnaKac7UN2e/vXuIGhvdnIqlXu9xnWGBiaN4r90r/c3mgm26fqAkP9HmxtR79s3rzZPK/bm34XZBgY6mtz8xsnVLTHDyTfv5NtC2sQQAABBBBAAIGeFSgZ8E3J6ED6HeX+VTqhlvv+tsz78MznAP2LsX5tTTYwjGrwy3W/Vkjf42W+ckavThnYEt9csPJ7ePMdjf73CoUdc167bXFWs4gAAoURIDAszFDQkF4S8MNAPyyzDv4+dq0+n5S965fI+onkbiSy3AuS8suLLn0ekDXJtxDPyfSONTIwkM4wlJN7Zc3AkHdX45n45iaHtgzK8vV705uezNkbrwRvHvSGJctH0xmQejn1oPudhMH+pmtBm7WMgTWy61AaZs3NzMSBo2uhX9B8SLYN2Rt7BNs69NILDPWvt+YOw+4dk2sMDM1swUET8A0MrZPN27bJtm2jsmbZmuSu1zbIc8PaqB3uDEP12ivrkkub14mbF2YCQ5kxX3atAaNeDj+6Prrrdn+//fLqDgFTLQIIIIAAAgggUFSBnMBwZmqXjA4NyKD3F+6898Rxp4L3tyXfh2tdA2skfXs/LTvWDMhAqcDQKzeo39z8cJXsCG56kv4RP9jfNDV4D2/KGJTNyZ0c9aPLtMykb+nTUfPakq5mCQEEiiNAYFicsaAlPSTgh4HB/2hjh3SfOZnYPCTLbOi0ZFDW7TiU3NhCZE6mtsRBzhK9221+eabYmQkZHVpmZo0NLBuS0YlpmRh1AkPdaXp3sk//wDIZ2jUdt2hOpratk0Fzd95+WaJ3Qjb/88++eZg7tEPWDS6JAq5la2TLlL27mhaV3T/vexznDu2S9UNRGf39S2Rw3bb4rsnTsmvVoCyJQy/Tj71u+XFzO/jkB4b6fS56h+N+Wb7NvQSlhkuSTV/mZGrHehlaFpVlxiYxSWcOVgwMJf4uRfUL/wJsvyvRezM7LbtH7fk3IMuGRmW3PSU6aEzVCCCAAAIIIIBAIQXslSHJH2iXyOCq9bIj873b7nviSu9vS70PF5mZGI3fH0bv0yamJ2Q0CQzLlevWH0vO7E0/BywZkvW77HtX3Z6zf97njpkJ2bIm+rzR369tWi/RW/VybSnkSNIoBHpegMCw508BABBAAAEEEEAAAQQQQAABBBBAAAEEEEgFCAxTC5YQQAABBBBAAAEEEEAAAQQQQAABBBDoeQECw54/BQBAAAEEEEAAAQQQQAABBBBAAAEEEEAgFSAwTC1YQgABBBBAAAEEEEAAAQQQQAABBBBAoOcFCAx7/hQAAAEEEEAAAQQQQAABBBBAAAEEEEAAgVSAwDC1YAkBBBBAAAEEEEAAAQQQQAABBBBAAIGeFyAw7PlTAAAEEEAAAQQQQAABBBBAAAEEEEAAAQRSAQLD1IIlBBBAAAEEEEAAAQQQQAABBBBAAAEEel6AwLDnTwEAEEAAAQQQQAABBBBAAAEEEEAAAQQQSAUIDFMLlhBAAAEEEEAAAQQQQAABBBBAAAEEEOh5AQLDnj8FAEAAgWYK/H8PrpVe+WmmG2UhgAACCCCAAAIIIIAAAggUR4DAsDhjQUsQQGABCPRKWKj95IEAAggggAACCCCAAAIIILAwBQgMF+a40isEEOiQAIFhh+CpFgEEEEAAAQQQQAABBBBAoGkCBIZNo6QgBKoTeOONN4QfDDgHOAc4BzgHOAc4BzgHOAc4BzgHOAfeqO5DFHshgEDbBQgM205OhQgggAACCCCAAAIIIIAAAggggAACCBRXgMCwuGNDyxBAAAEEEEAAAQQQQAABBBBAAAEEEGi7AIFh28mpEAEEEEAAAQQQQAABBBBAAAEEEEAAgeIKEBgWd2xoGQIIIIAAAggggAACCCCAAAIIIIAAAm0XIDBsOzkVIoAAAggggAACCCCAAAIIIIAAAgggUFwBAsPijg0tQwABBBBAAAEEEEAAAQQQQAABBBBAoO0CBIZtJ6dCBBBAAAEEEEAAAQQQQAABBBBAAAEEiitAYFjcsaFlCCCAAAIIIIAAAggggAACCCCAAAIItF2AwLDt5FSIAAIIIIAAAggggAACCCCAAAIIIIBAcQUIDIs7NrQMAQQQQAABBBBAAAEEEEAAAQQQQACBtgsQGLadnAoRQAABBBBAAAEEEEAAAQQQQAABBBAorgCBYXHHhpYhgAACCCCAAAIIIIAAAggggAACCCDQdgECw7aTUyECCCCAAAIIIIAAAggggAACCCCAAALFFSAwLO7Y0DIEEEAAAQQQQAABBBBAAAEEEEAAAQTaLkBg2HZyKkQAAQQQQAABBBBAAAEEEEAAAQQQQKC4AgSGxR0bWoYAAggggAACCCCAAAIIIIAAAggggEDbBQgM205OhQgggAACCCCAAAIIIIAAAggggAACCBRXgMCwuGNDyxBAAAEEEEAAAQQQQAABBBBAAAEEEGi7AIFh28mpEAEEEEAAAQQQQAABBBBAAAEEEEAAgeIKEBgWd2xoGQIIIIAAAggggAACCCCAAAIIIIAAAm0XIDBsOzkVIlC/wJ+tPSj8YFCEc6D+s5gjEUAAAQQQQAABBBBAAAEEii5AYFj0EaJ9CDgCRQiKaAOBpZ4DPBBAAAEEEEAAAQQQQAABBBauAIHhwh1berYABQjrCOuKcg4swF8vuoQAAggggAACCCCAAAIIIBALEBhyKiDQRQJFCYtoB8FlF/3a0FQEEEAAAQQQQAABBBBAAIEaBQgMawRjdwQ6KUBQR1BXlHOgk78H1I0AAggggAACCCCAAAIIINBaAQLD1vpSOgJNFShKWEQ7CC6bemJTGAIIIIAAAggggAACCCCAQKEECAwLNRw0BoHyAgR1BHVFOQfKn6lsRQABBBBAAAEEEEAAAQQQ6GYBAsNuHj3a3nMCRQmLaAfBZc/98tFhBBBAAAEEEEAAAQQQQKCHBAgMe2iw6Wr3CxDUEdQV5Rzo/t8meoAAAggggAACCCCAAAIIIFBKgMCwlAzrESigQFHCItpBcFnAXw+ahAACCCCAAAIIIIAAAggg0CQBAsMmQVIMAu0QIKgjqCvKOdCO8506EEAAAQQQQAABBBBAAAEEOiNAYNgZd2pFoC6BooRFtIPgsq4TmIMQQAABBBBAAAEEEEAAAQS6QoDAsCuGiUYiEAkQ1BHUFeUc4HcSAQQQQAABBBBAAAEEEEBg4QoQGC7csaVnC1CgtWHRcZn4k8ipI8eltfX4od+GI2faXmc7+7dQ61qAv150CQEEEEAAAQQQQAABBBBAIBYgMORUQKCLBFoaPt37lpx6ZV6O/Okt2bDWD/VaWa8bGOqyvPJ6WwPLVvat6WXrGMm87Gzj+JTqQxf92tBUBBBAAAEEEEAAAQQQQACBGgUIDGsEY3cEOilQKrxpxnoN6448eVB2vnJGJu6tIjB8ct7s32jdbmDYaFkcX8W4NSls7OTvAXUjgAACCCCAAAIIIIAAAgi0VoDAsLW+lI5AUwVaF4i9LkfszLUn5zOXCO98xemGzkB8ct5ZISY4zAR/OhvOma1oZg8mR6WhpHtcuJzsrgu2LDPLLt2SXkL9ejQ70rYtM1Mx2j7h9sXdp8ZyS/UnM0a2PabJ6exAPf7IEZ0xmD40sP2ztc5Y2HBPy9C2BqbeuNjxW3tQTNlPRpeYi6TWmbbZ8ut4TlvNEgIIIIAAAggggAACCCCAwEITIDBcaCNKfxa0QDMDH68sG0iZ4MgPrEww5gZrcbgUhVLpjDZ9nYZ3BzPhVqn63OPcZXf/DUfmS8x6dNuqy1LmkuZoexTKabvLfWdjLeUelD/z/FKTMOBzX2tfxQn5TBlxKOo7aDvj0C8IDH2j1D8quzVBoa1zQf+i0TkEEEAAAQQQQAABBBBAoMcFCAx7/ASg+90lYMOaZj/7M9UikyhYc8KqYBaahlJp+BbNaisXGEYhluMdh5BuOOYuJ30MZzwGMwHT0M0N+ZzQLml3znY36Kux3FL9Sdodz/RzehwvRrMMs32NZ0hqe91gsNTyWr183C/d+mfLzvNobJ1fM68QQAABBBBAAAEEEEAAAQQWkgCB4UIaTfqy4AXcMKp5y05QZcO1JEhrUmCo5dlLirWOpHw/aMwEXRqWebMbNfRzZ865IaC7nBeG5WxP2lFjuWX6445Lpj/WNw4TbcAXHeOPg/0uSS0jCWad8FDXuzeIcetyl932NHN5wf+y0UEEEEAAAQQQQAABBBBAoIcFCAx7ePDpevcJNDPwsWXlh0tpuBYGU6WOC/czr51LbN1wy8yMqzjD0A/QTL0amIWX8Sav0zbbNvrPul2cy6adS5JrLDfsq9sfr05TrhtwpkGmllEuMIxC1fn0uyWDmYdaZ3q805fcMDKt12ufE2DWur77fntoMQIIIIAAAggggAACCCCAQLUCBIbVSrEfAgUQqDXUqbx/6RmEbiBlAjHbfztT0IRh0cpoBlwUyNndTh15K7oJiQmlokDLbjM3+6gQGHp1mgPTS3ltOfLKWzLxJ3sjkWoCw3k54l7G68xeNCGgLbhiuaX7kzHX2YjuI6ff0TFhQBp7Om30LlU2N0exBZ+RiSPpzWqyYSSBoZXiGQEEEEAAAQQQQAABBBBAoLIAgWFlI/ZAoDACmTCqgRlivVdWpUCx+aHaQjYuzC8FDUEAAQQQQAABBBBAAAEEEGi6AIFh00kpEIHWCSzkAKr1fSMwbKZx685ySkYAAQQQQAABBBBAAAEEEOi0AIFhp0eA+hGoQaCZgU/vlUVg2Mwxr+G0ZVcEEEAAAQQQQAABBBBAAIEuEyAw7LIBo7m9LdDMwIeyuAS5kXOgt38T6T0CCCCAAAIIIIAAAgggsLAFCAwX9vjSuwUm0EjAw7EEhM08BxbYrxbdQQABBBBAAAEEEEAAAQQQcAQIDB0MFhEoukAzAx/KIkBs5Bwo+u8K7UMAAQQQQAABBBBAAAEEEKhfgMCwfjuORKDtAo0EPBxLQNjMc6DtJz8VIoAAAggggAACCCCAAAIItE2AwLBt1FSEQOMCzQx8KIsAsZFzoPGzmRIQQAABBBBAAAEEEEAAAQSKKkBgWNSRoV0I5Ag0EvBwLAFhM8+BnNOTVQgggAACCCCAAAIIIIAAAgtEgMBwgQwk3egNgWYGPpRFgNjIOdAbv3H0EgEEEEAAAQQQQAABBBDoTQECw94cd3rdpQKNBDwcS0DYzHOgS3+FaDYCCCCAAAIIIIAAAggggEAVAgSGVSCxCwJFEWhm4ENZBIiNnANF+Z2gHQgggAACCCCAAAIIIIAAAs0XIDBsviklItAygUYCHo4lIGzmOdCyk5yCEUAAAQQQQAABBBBAAAEEOi5AYNjxIaABCFQv0MzAh7IIEBs5B6o/a9kTAQQQQAABBBBAAAEEEECg2wQIDLttxGgvAggggAACCCCAAAIIIIAAAggggAACLRQgMGwhLkUjgAACCCCAAAIIIIAAAggggAACCCDQbQIEht02YrQXAQQQQAABBBBAAAEEEEAAAQQQQACBFgoQGLYQl6IRQAABBBBAAAEEEEAAAQQQQAABBBDoNgECw24bMdqLAAIIIIAAAggggAACCCCAAAIIIIBACwUIDFuIS9EIIIAAAggggAACCCCAAAIIIIAAAgh0mwCBYbeNGO1FAAEEEEAAAQQQQAABBBBAAAEEEECghQIEhi3EpWgEEEAAAQQQQAABBBBAAAEEEEAAAQS6TYDAsNtGjPYigAACCCCAAAIIIIAAAggggAACCCDQQgECwxbiUjQCCCCAAAIIIIAAAggggAACCCCAAALdJkBg2G0jRnsRQAABBBBAAAEEEEAAAQQQQAABBBBooQCBYQtxKRoBBBBAAAEEEEAAAQQQQAABBBBAAIFuEyAw7LYRo70IIIAAAggggAACCCCAAAIIIIAAAgi0UIDAsIW4FI0AAjUKzE/K2Pl90te3UnYeq/FYdkcAAQQQQAABBBBAAAEEEEAAgaYIEBg2hZFCEECgGQKz48PS17dIVo+TFjbDkzIQQAABBBBAAAEEEEAAAQQQqEeAwLAeNY5BoG6BWRkf1hl01f6MyWTddZU5cHKsYhuGx2fLFNCCTfMTsmFRn6wYm5T5FhRPkQgggAACCCCAAAIIIIAAAgggUJ0AgWF1TuyFQJMETsnkzq2ydav7s1FWx5fhjnjrdZ990pK5dnFgeP7qjUFb0nbtnDzVpD5XU8y8TI6dL4tWj7emv9U0gX0QQAABBBBAAAEEEEAAAQQQQMAIEBhyIiDQcQE767BFswnz+hcHhm2fRZjXFtYhgAACCCCAAAIIIIAAAggggEChBAgMCzUcNKY3BQgMe3Pc6TUCCCCAAAIIIIAAAggggAACxRQgMCzmuNCqnhKoJjCM9xkel/xvFqymDAe1xhmGk2N90nf+VnlGRGYntsvIyqWyyHwP4yJZOrhWtu475n3v4Kk9a813JI7sK3VZ8ynZN6Lf47hW9phdKrR/dkK2jwzLisXxdz8uXiHDI9tlIh9DTh3ZI2NrB2Xponj/RUtlcHhEto4/I6Va5OiwiAACCCCAAAIIIIAAAggggEBPCxAY9vTw0/liCFQIy0wjCxAY9o3I9p2rZdGipbJ6g/2uww0ybEK84M7Gp/bIWg0UR/blB3R2+9o98fbSBqcmNsoKLWvxShnZGNe7ca0Mahi4aFDGJv1bpMxPjpn9Fw2ulY3Jd0JukLUrFiehZzHGnVYggAACCCCAAAIIIIAAAgggUEwBAsNijgut6imB0mFZylCEwFBnGW6UiXCK3vykbNSbtixyv4NxXiY2uDMI057okp2BuGHChn0lDGb3yGoNBleMSZALipyalLEVWu+IpBMZZ2XP6nQ2pF8rrxBAAAEEEEAAAQQQQAABBBBAoBpwvqBjAAAgAElEQVQBAsNqlNgHgZYKlAjLvDpbExj2mcuK48t2vWU3/BMxlyT39Umpm6Q8M7ZI+vqGZdy5RHh+YqO5bHltdM2x05tTsmetBn0bJckLJd/g2M5B6es7X7bqtdA5D1vHyp32XtIEhjlMrEIAAQQQQAABBBBAAAEEEECgJgECw5q42BmBVgjkh2V+Ta0JDM9fvVG2Jpft2suM9Xmf2AhO2xEFhqWDu9nx4UxgKDIpYzo7MPzexdlxGe7rk0Vjk04X8wzi8K9vo7h7OgeJzE/IBg06V+9Jvttxds9qE1QuGtwgOydnve9W9I7lBQIIIIAAAggggAACCCCAAAII5AoQGOaysBKBdgrkhWVh/a0JDEvNGAxrjwJDfwahu09+YCjyzNbzpa9vpSQTAEXk2M6VObMG8wyeka16qXN8sxW3vnR5UsY0MAxCydmJrfF3K8bffbh9nxwLL6VOC2EJAQQQQAABBBBAAAEEEEAAAQQcAQJDB4NFBDojkBeWhS3pzsBQntkq5/f1SXrJ8DHZuTIvBMwzqD8wjPTmZXZyXMZW2zs6r5CRfe68ydCY1wgggAACCCCAAAIIIIAAAgggoAIEhpwHCHRcIC8sCxtVKTCMw7U+/7sHw1KS15Njot9f2OoZhiJxQDi4M7rE+dhOGfQCRNuiPIP6Lkm2JXrPsxMytlK/Z3GFbD/ibeEFAggggAACCCCAAAIIIIAAAggEAgSGAQgvEWi/QF5YFrYi3mfRmOTe/yP+XsC+wgWG9hLkQXNZcnQTE/8S5ain+QbR5cuLZGN6dxQPJnvTE2+z/yKe7VhtSOofzCsEEEAAAQQQQAABBBBAAAEEekeAwLB3xpqeFlYgPywLmztp7kR8vmycnA82nZKJjfpdgXq346LNMBSRU3tkbV+fDO7cIzsH+6Rv7R7Jfp1gCYNT+2REb5yyYkyy3Z6UsRV6t+UR2ZctMDASmd83Yow2lAgfMwewAgEEEEAAAQQQQAABBBBAAIEeFSAw7NGBp9tFEigRloVNPDYuqzU861sswxvsHY03yOqli2TR4JiMjdQeGJa+S/JW2TmZpnD13vQk6sIp2bNWbz6yWBb39cnaPWm5aRdLG8xPjsmg9nvxShnZGPd744isXKz9XSFjXpI4K3vWDsrwiN79eafsmZiQfePbZePISlP3otXj3t2f0/pZQgABBBBAAAEEEEAAAQQQQAABK0BgaCV4RqBjAqXDsrBJ80f2yNjaQVlqgsM+WbR0pYxsn5BZsXckrm2GYTQrUYO37I976W5jgaHI/MSGuI4Nkj/Br4LB7IRsHxmWFSYk1PBwhQyPbJcJ7bj3mJdj+8Zk7WBq1Ne3SJYOrpUNOyMnb3deIIAAAggggAACCCCAAAIIIIBARoDAMEPCCgQQQAABBBBAAAEEEEAAAQQQQAABBHpXgMCwd8eeniOAAAIIIIAAAggggAACCCCAAAIIIJARIDDMkLACAQQQQAABBBBAAAEEEEAAAQQQQACB3hUgMOzdsafnCCCAAAIIIIAAAggggAACCCCAAAIIZAQIDDMkrEAAAQQQQAABBBBAAAEEEEAAAQQQQKB3BQgMe3fs6TkCCCCAAAIIIIAAAggggAACCCCAAAIZAQLDDAkrEEAAAQQQQAABBBBAAAEEEEAAAQQQ6F0BAsPeHXt6jgACCCCAAAIIIIAAAggggAACCCCAQEaAwDBDwgoEEEAAAQQQQAABBBBAAAEEEEAAAQR6V4DAsHfHnp4jgAACCCCAAAIIIIAAAggggAACCCCQESAwzJCwAgEEEEAAAQQQQAABBBBAAAEEEEAAgd4VIDDs3bGn5wgggAACCCCAAAIIIIAAAggggAACCGQECAwzJKxAAAEEEEAAAQQQQAABBBBAAAEEEECgdwUIDHt37Ok5AggggAACCCCAAAIIIIAAAggggAACGQECwwwJKxBAAAEEEEAAAQQQQAABBBBAAAEEEOhdAQLD3h17eo4AAggggAACCCCAAAIIIIAAAggggEBGgMAwQ8IKBBBAAAEEEEAAAQQQQAABBBBAAAEEeleAwLB3x56eI4AAAggggAACCCCAAAIIIIAAAgggkBEgMMyQsAIBBBBAAAEEEEAAAQQQQAABBBBAAIHeFSAw7N2xp+cIIIAAAggggAACCCCAAAIIIIAAAghkBAgMMySsQAABBBBAAAEEEEAAAQQQQAABBBBAoHcFCAx7d+zpOQIIIIAAAggggAACCCCAAAIIIIAAAhkBAsMMCSsQQAABBBBAAAEEEEAAAQQQQAABBBDoXQECw94de3qOAAIIIIAAAggggAACCCCAAAIIIIBARoDAMEPCCgQQQAABBBBAAAEEEEAAAQQQQAABBHpXgMCwd8eeniOAAAIIIIAAAggggAACCCCAAAIIIJARIDDMkLACAQQQQAABBBBAAAEEEEAAAQQQQACB3hUgMOzdsafnCCCAAAIIIIAAAggggAACCCCAAAIIZAQIDDMkrECguwVmx4elr69Phsdnu7sjtB4BBBBAAAEEEECgqQLHxodlUd9iGdl3KlvusXFZvahP+havlZ1H5rPbWdMigVkZH+6Tvr5h4e17i4gpFgEE6hIgMKyLjYMQaExgckzfFIQ/YzLZWLHmaALDJiBSBAIIIIAAAgj0lEDmvdniFTK8YVyO5ORqzYA5sm+rbN13rBlF1VRGFBguktV7gj8sz0/K2IpFMqh97sWs8NQeWWvfm6/dIy0a9hJj1Z7AsOZz7tQx2bd9RIZXLI4+tyxaKit79fwoMXKsRmChCxAYLvQRpn+FFLBvShevGJTBQfuzXZ5pQmsJDJuASBEIIIAAAggg0FMC4XuzFYvjP+yu3ClNj/XmJ2SjzuQba8afintqmFrW2VN71ppQbNGiRR2Y6deGwLCecy4OUfXzytoNG2RtHBwu2jghvZgpt+zko2AECixAYFjgwaFpC1fAvikt+T7x1BEZ37BSluqbyb7FsmLtVpnw/hA8KxNb14p9M7to6UoZ2RO9nU0Cw+17ZPvqpbJI/1q6eKVscP+KfWpSto8MJ8f3LV4ha7dOtvmvqQt3fOkZAggggAACCHSXQOa92fw+GTEzzuLLRGfHZdi8dq4IyayLg5+RPXJkcqusXqrhU58sXrlB4rdpIqcmZetwPGPLzmgbHhd9m2fb4H6tTGbd/DHZN7ZWBuOy+3JnfVXxPtG59nX+yLhsWBm/Z8yUV0WfumWon9kug4v6ZPGGfcF7XhvYjcj4+AYzZit3ujFxvH1wpzzzzPZ4XBfJ0tXb5ZkkObNO++TUsX2yYaWOcXqunJrcmgRu2ffdtv5h2b5vp6w1YxuWPy//h737eYkja8A9nv8iS5dZZhNwkUVgNjKrZOcuQmCSRQYMhCYoNNIwaHDRLoS4MCEOhEQIIRhuyJ2Bq0FCZJBJQyTowhcN6bbTOkZjEnU6i+dyqupUn6qutlujTqvfgcH+UXV+fE69vDVPn1Pnw8s7utkejFPLOf10OaNnznTQyDh633frwbvPO15zZuiWpyptM/9NkXk2H/psb4cdlOz1/usf3vV6VIaddiKAwN4FCAz3bseZCOxZwN78JQeGH/T4sh8U/nLnmZ49uOnd3LScu60p7/+zP+tlt38D6gWF3eam8bxu+1/KBobmF9Lzl7uVudnuh4Ytl1W593mne5d+0q+Ze7p377ZuXvJ/Rb/5x+EuwNgzICcigAACCCCAAAL7KFB1bxYGhr/KW71rwxInBAoDlPAzG/z493GXuzO62e7fs7VceqB5094PL3Wv+7K/xPNyt+7du6d7j/0fbW0bdgwM9Vl/3Dyvy923vXMzl/3yf75n16k0dp8Y1vHhsS57waX5gfpmGGqd+8XOrGygT/s4DgdZ1OeX3YG77VtQmzXofqnPn4OgODKz1Bqc07nz5v45E4bB58w5XjHBMefa1R7cV9vAcHsq49+LmzD25k1dtkFyOFPPlt8iEwBHys9UZvOZWZDm3v62uWYyl/0yf74XrFB6p3s/m+vukm7eNvf3po2X5F0WO1xztm3n2m/qwbNnuhOE2dHAVNLneT2+aULQS7rzxgkRD3LAKBsBBP5zAQLD/3wIaMBJFLA3hJHnGNr08M0d/wbAuUH48Ljdu8HJmFDQ3rCeywQBYlTQBoYt4fNXtvWy2w8Eq55XY099c9u/gbJtsJ/zFwEEEEAAAQQQOAEC9t7MPi7GX+XRojAQsvdfYThopmbFZx1Wgp/wR9jtKWW8QC4IHo3lmzuJ9122DWGYV2PWYWQ4PgRtCGYphm2qc59o63hzxw8cKwGR7cM5+beF9n2LduxTpFHN+2b53Tstx/KuD4/9ANc3MYGruW9ud35orxh0vwxODp952C1//5jKMZduv3Rm4NnPz4U/7ss8L9IL9+wmJ/aYFtUuP276IbZRyhvd8a6zS7r9MrIsyT8x8Zqz9Tp9tddruxOqBpvhnGu/raSi4y3jPQIIHB8BAsPjM5b05AgJ2BtCe1PqPcfwgf/LcBj42WUqzl/vRsb+H769MYz1257/y7PKUgpbn705NL8S/mGWs9iHGNs6CAxjmrxFAAEEEEAAgZMgYO+V7I+5535q1817U5Xgpyoc3Ckw/EWV2zAb5Nhw6EcDw2VNmY0owqWp/o/CLfa+sOH7RBMq2cCoJQgH/ZF+F4SI/n2jPaZOn47CRWLHMHK/+0GP241hZSWOvZeuzNp0DMIsLh7Y2WOc8M0zSRh/LeuPX/1xi4ayzjWiePlm6fADdf/SHjyyKBj3cGflbb27Z1cVtejcT7/qnvs8I3tdRPpu22bLcv9WllO/u/dzLEA9CoNNGxFAYD8ECAz3Q5EyENilgL0pjfx/dlCGvUn5KfNYU1NTkX/fmZ9E7f/h2xvDWN32/DAcrPp12i55PqfLd/7Quw+f9fklMwxjjLxFAAEEEEAAgRMksNO9mcdgwyZ3hqGd3Rd+ZkMjN/ixoYzzmb2Xi90I2jZE7uFu+yGO/9m2pm77MwIvdT/W1PyyPs8/9p+taO8Lbdn2fWwMo/eJtr0NBoZhWJbQp1g9zfj2w7NfvVU8lSBQ0rt7+tn+cB7/Gy73tU7OGFYFeknHGIUkq8YCQz/I9Ovcnrrtr0C61K3HU/NaNkuEfzHXhtsm6fO7P3THPsO8xdkN214XkWuu0rZ7L6P/zTE1VXmOYTOOJW1CAIHDESAwPBxnakEgImBvCCP/n22PsEuSf3mWvCvfh8dqNzc0saUm9pnE0RtBv1Bbn3+zaW8OulVZVeHvDMdufXYQ+IsAAggggAACJ0nA3isl3psZiOU/9KsXKCXcP+01MHQeP2OqsDP72h94Tzs0nwTPpWuRfw9nQ6lLqhwSBF42INzlfeJOS5L952PbOt1gyt5Lup8199Xy4dlNnffun52l4V5eaGbPmRl57fJW/LT7f/0l6T/7zwB0ZmLWXjKc5ORdOMHS4aQlyXZWoz3XWZIcBtT+kmd7f3+pMvDBtZE8BuHzGu0FbQPDyDVn6/1Zt3d6LuH2st69W2Zn5Oa+xGkdAgciQGB4IKwUisDOAjvflH7Qs1/9X4/P/5LxH4Z9u1uXz9ulAeZXSf/7cNOTS+eDG0nzOJ1fvBufyK/Td9xfp+3N5zldNpue3L6p9vPn/F8t7U3Fzs3nWwQQQAABBBBA4FgJ7HxvZrpqV2i0yGwQcTvzq7M0tHKP9qxq1ldCuGY32Wg5r18yt9X9ywNv44pwFpn93Ntp172Hs8/Xa9Glm2bTk4x++Sm4h7OBobfcdRf3icHz6VpazEYqGXXbOi/ZzTRsqOQGUwl9auKrYfvNHX8W4aVuvaw8sccJZG0wWOmEvwy3Ree8e2Nr4G9K4m5ccq5q4xLXyS/P1H/JCytjG5rEN0wJjvHKP++P+7kg4AsDwEs3vU1PMr/8pHPn3BmGb3Tn/CXd9DY0vKdMsHlJGDDWuubCtrUHm6XcU+bXn/RruIt25Zqr+Sz0ChuvEEDgmAkQGB6zAaU7R0Og7k3ptv+MwUvBzULL+Uv6pfuPyozD7Xk9y1wOb1TPX7qpB+/8hzDXDwyl7XcPwt3dzl/O6OWHef/5LQSGR+MCopUIIIAAAgggsK8Cde/NTG0fXioTBGreM+LevNMz71l0uwwMta13D2zgeE4/XX7s76Ac+fy8LmeeaX7K3wwv/CE41oYH7z5rKtOi8BmGpp27vE/cnn+mzOWf/B+PzU6+pt5wYxAblrlB2NEKDP2xdWb42SvHruoJlx7bL7yph37IeM6MbcXgwR/2HjoYnx2dKuV9fnMv3IHa3NffvOfvjO0fEZR/+bHehffo5/TTzcfOOHzQy8zlYJbkT/r1wTt9nso4S5I/6NlN5/mGpo47U5X/dohcW+41J31+80Dddvxbzumn9pu698bf+9m0790D82zE8zvPQqx0lVcIIHCMBAgMj9Fg0hUEEEAAAQQQQAABBBBAAIGKgB8YRmcRbn/+vIsltpXAMJx4VymeVwgggMCxFSAwPLZDS8cQQAABBBBAAAEEEEAAgZMtYJbznjPLfc9fVnf3TbVfOq+WlkvB8wkbsSEwbESJYxBA4PgJEBgevzGlRwgggAACCCCAAAIIIIAAAp7AtuafZXT5J/tsx3bdvPNM7yqrbus4ERjWAeJrBBA4pgIEhsd0YOkWAggggAACCCCAAAIIIIAAAggggAACexEgMNyLGucggAACCCCAAAIIIIAAAggggAACCCBwTAUIDI/pwNItBBBAAAEEEEAAAQQQQAABBBBAAAEE9iJAYLgXNc5BAAEEEEAAAQQQQAABBBBAAAEEEEDgmAoQGB7TgaVbCCCAAAIIIIAAAggggAACCCCAAAII7EWAwHAvapyDAAIIIIAAAggggAACCCCAAAIIIIDAMRUgMDymA0u3EEAAAQQQQAABBBBAAAEEEEAAAQQQ2IsAgeFe1DgHAQQQQAABBBBAAAEEEEAAAQQQQACBYypAYHhMB5ZuIYAAAggggAACCCCAAAIIIIAAAgggsBcBAsO9qHEOAggggAACCCCAAAIIIIAAAggggAACx1SAwPCYDizdQgABBBBAAAEEEEAAAQQQQAABBBBAYC8CBIZ7UeMcBBBAAAEEEEAAAQQQQAABBBBAAAEEjqkAgeExHVi61bwC//vf/8S/GHANcA1wDXANcA1wDXANcA1wDXANcA38r3n/w42WIXDCBQgMT/gFQPcRQAABBBBAAAEEEEAAAQQQQAABBBBwBQgMXQ1eI4AAAggggAACCCCAAAIIIIAAAgggcMIFCAxP+AVA9xFAAAEEEEAAAQQQQAABBBBAAAEEEHAFCAxdDV4jgAACCCCAAAIIIIAAAggggAACCCBwwgUIDE/4BUD3EUAAAQQQQAABBBBAAAEEEEAAAQQQcAUIDF0NXiOAAAIIIIAAAggggAACCCCAAAIIIHDCBQgMT/gFQPcRQAABBBBAAAEEEEAAAQQQQAABBBBwBQgMXQ1eI4AAAggggAACCCCAAAIIIIAAAgggcMIFCAxP+AVA9xFAAAEEEEAAAQQQQAABBBBAAAEEEHAFCAxdDV4jgAACCCCAAAIIIIAAAggggAACCCBwwgUIDE/4BUD3EUAAAQQQQAABBBBAAAEEEEAAAQQQcAUIDF0NXiOAAAIIIIAAAggggAACCCCAAAIIIHDCBQgMT/gFQPcRQAABBBBAAAEEEEAAAQQQQAABBBBwBQgMXQ1eI4AAAggggAACCCCAAAIIIIAAAgggcMIFCAxP+AVA9xFAAAEEEEAAAQQQQAABBBBAAAEEEHAFCAxdDV4jgECDAjkNnbmmF2sNHn4sD1vTi2tnNJQ7lp2jUwgggAACCCCAAAL/ocD2mzu6dOmO3mz/h42gagQQONECBIYnevjp/PEW2FJuoEOt114oOder9/1OOgSG0o8FhlsLL9TX0abWM2d0prVNnUM5FSPkRU31daitNfj+fk5bzvf1zzcH73KMF57q1oXGQtDiVJ862lp15kyr2jrvKxdtnF7YtnvfDykX7ZzTkxovZx/pVvsFnTlzRhc6+vRiwT3OXH9nvO/M9/6/QyK7dY14jQACCCBwEgW25//QnZuXdL6lRS0tLbrzplph+dkv+vneu8oXn9/oQfdl/XTOP+eXZ8uV73h1cAKf3+ieM1bnL/2i7j8++PVtv9GdX29r6vPBVU/JCCCAQD0BAsN6QnyPwEEIbOV0/1YsZInX08gx8XPC9wt6eqtNHT096kgMDOt9HxZU4wWB4Y8FhkU97RtSLkxy1zTR06r2R5VUbPZ+u9qHbEi4pqmBdrXfnw3Go/750u7GeCs3oI6OHvU0Mmty9r7a24fCkHBtakDt7fcVtu5pn4YqndPaRI9a2x+p0rsal5X9eGtKPRc69SIIGbcWnqrzQo+mbCi5NqHO1qGwPnsafxFAAAEEEDjJAtvv7ujSuV/1+N1OKdMHPb78s8K8cPkP/Xrukm6/XBYT2Q7z6pnXg0vn9Ouz+cB9W58/vNObDzuN3WG2j7oQQAABicCQqwCBQxfIaag9mBXlhC6RZmzFjol8Wf/N2kSf+iaK0toLXUsIDOt9X1XD1qwedfqz4VrbOnU/N6X7F6NLkrdy99XpzThLmhHmlmjCxj5N5B7Fjl/T7KNbar9gbC6oo28iMuNua/aRetwZee6Mu9yQzpi1wbO2TDPbbM2bodfR0SH/33ZdiCyjXnBmwZn6XtQJtIqa6OvQBTOj7UKH+l7k9KInNhvPmzXoz4rznWzC5fa/xmvTh3CschpqvaUJ93Qzlq07zKKLnC/tboxnvQB7dkvKDcX6ZJqbG1BrayWwyw216la0cXpxrXWH5dm7C5jXXlzTxTAc9b1MndfsGvga13UNWT5GAAEEEEDgBAiYIPCcMlN1Yr8Pj9V++bH8eWzbmrp9TpcfB7PaToBS03Rx+Zl+abmjhAmgfhPf3FHLL8/EXM+mGTEagsCJFCAwPJHDTqf/W4GchjrMUs4aoaEbFp45o9aOHUKieh2pF6zU+94r3yy9bVWnne5llrkOdai11QkMYzPOthYe6ZoTMEWb6S8nbe18EQaCxafXdKa1VZ2PFoJlt0W96HQCIlPA2oIWwgBtQY86nIDKhGUdHbp2q1JmtE4TevV5y7P9SWtbmuq5oM6ntj6p+KLT+b7qbOWGLjoz/szxt3Sh1QnXYrPitDalvovtiuVe1QUHn2xN3FLrQLCotvhC1y5WZuz5h+wcukXOd2tpaIwrJyQGhrOPdO2abU9RL65drOqXOS8M9CrF+a+2JnSrdaDhJcO5gTPqCacT+kWYENELhc3b2fu6GIar8cp4jwACCCCAwAkUMDMFW27XDqACknf3fnYCwne6c+4XPSMv/A8umHe69/PPyrysMaOQwPA/GBOqRACBuACBYVyE9wgcikCN0HA/w0LTj3phUb3vTRnFp+qIz2wz4ZgzW8/M/uqLPEBuTROdZ2KfWVgTfDlhn1fHC1070xcJlCIBkT3V+RsJqExgeKZHU8730Zc59bV26Kl9jl5Sn1TU047qIMwvJ6c+p7/+Z7O6f7ESGJr2doQVBEcMtVZ9Fm2XfTeroXYnXIzNFvSP2umZibHzbbHmbyNj7ByfGBg630vJweVO4zU75C6njhSW8KZGP12T2SG1Xrjgz/Y0zzhsv6WhKTu4CUXyEQIIIIAAAsddwAuYHujls4wu//STfjp/Tj/9ek9vInmUCalu6g/7mTfL7bb+eHNPv5pzfjqn85czejZfZ5bicbc8pP5tzz/WzfMtOn+5Ww9ezssOi1c9geEhjQLVIIDATgIEhjvp8B0CByoQDw2v6ZpdqvyjMwttu+uFRfW+N+W4QY0tNxIa+QFPOGPSzpw8U2vGWULgZNpxJjqTMh5AbS1MaOhWh9rb270lxmbpcjijLbGNYWOVG7gYDe5qHB8JISun+6FbrH3xZxiac5MMwllxbnmR10VN3GpzZnDWMq8RpCnhfLf8RsbYOX6/A8PixC21ObNJnapqvKzRzxpj5hWyNqWB9lbZCZo1CuZjBBBAAAEEjq+ACZha/GcR2k5+/qNb58Llx9L21G2du/lHJZjyAsNz+vVxJazafndPl8/dVr2VzbYO/v6owLaW3zzTnV9/0rnzv+jBuyCsJTD8UVjORwCBfRAgMNwHRIpAYO8CsdAwCNt+aBmy25h6YVG9701ZiUGNG/rVCHjcdkReu+cGX9QLDM2S54t9mgo3CfGftddQYJgb0MWOp+HyZ6/GxD7FynTbnNC+pMAwbI977o6vi5rq6VBHfN2yqa/WkuTIRLoa57t1NjLGzvH1A0Mz3tUzMf2wNdI4Fad61NFhlzI7lTgvvWA4DJn90NiUlbgkeYdEsOguWXbK5yUCCCCAAAInQiAxYHqjOy2/6g/vQXj+8wojzzhMfI7esp79ck53nE2UT4RfE3QyEvAmjmcTNJImIIDAiRIgMDxRw01nm1MgGhruW1hoOlsvLKr3vSkjcfludIlubqDRpbemwN0HhvHZhpJ5BmEjMwxzGkh6jqDpd3yZtbckuVVDdqvfyMUS7a//lVnCXFmSXHzaoTPRddmREqrf+GGfeY5i9T+NbHqy0/lOiY2MsXN4/cDQBKv1Nz3xwsLOp3U2knEqdl6a8d5x0xPnWPvS+LcmD549hL8IIIAAAggcXwHzDMOf7ymS821PKdPSLe8xeZ9fqrtq5qB5hqGzRNnT+aDH7c4uysdXrPl65ga4BIbNNz60CIETKEBgeAIHnS43o4AfGu5rWGi6WS8sqve9R2WCseimJwuPOqs3PWnt1FOzzW7wz1axKGdCoP14T4Gh2bDkTMejMHxamxpQR6uzKUrNGYO1np1nAsdWXQs3WQk2PYnPRHRbPdAa2fTEtKE9vulJa7sG3GmQawsqVkic0oKwL9xIxvkqeDl7v92pb01TA25f6p8fltjQGIdHJ++SHNn0xN90pN3Z4duzaK/MJBusWZ0AACAASURBVPTDwh02oKlUl/wqtoHM1sJTdV6o7NJczE05G+BIW7NP1dnqPAMyuVQ+RQABBBBA4BgLbGsqc16X770Llhx/1vzjX3W++6X3/vMfN/XzvUic6Fl8eHxZl7r/CHZNlpZf3talS7Hg8Rir/Wdd+/BGL+eX9dk+LnJ7WS9vX9K521PyPiIw/M+GhooRQKAiQGBYseAVAsdPoF5YVO97K7KV0/3ONrWaZyu2dWgoN6sXnc4uyfJDm56OC8Fz/C6o/dZ95RLDst3PMJSKmurr8De5aG1T5/2cFiZ6dn6G4dqEOs+0qq2jw3vmYUfw91E4g7Coib4OtbWaZw9eUEfPU4Vf2X5H/i7ohW3DhXb1PF3wZtoNuZu9FKc0FDid8eru0UR0la5fogk4w2W40WcfVsrbUu5+p9++1jZ19E1VllU3dH7Q+EbHODg8cYZhbkAXYrteb+Xuq7PN7PZtjPtU2XPEjG+0T2FfK52LyCa+WXihvuB6MpuaVMZNWssN6Va7c61d69OLyhbaicXxIQIIIIAAAsdf4IP+yFzWT+da1NJyXpczz+TvX2KWGdeaNfhZ7x7c1KXz5pykjVKOv9p/0sMPf6j7l0s632LcW3Tup3bdvDclb/W4aRCB4X8yLFSKAAJRAQLDqAfvEEAAAQQQQAABBBBAAAEEEEAAAQQQONECBIYnevjpPAIIIIAAAggggAACCCCAAAIIIIAAAlEBAsOoB+8QQAABBBBAAAEEEEAAAQQQQAABBBA40QIEhid6+Ok8AggggAACCCCAAAIIIIAAAggggAACUQECw6gH7xBAAAEEEEAAAQQQQAABBBBAAAEEEDjRAgSGJ3r46TwCCCCAAAIIIIAAAggggAACCCCAAAJRAQLDqAfvEEAAAQQQQAABBBBAAAEEEEAAAQQQONECBIYnevjpPAIIIIAAAggggAACCCCAAAIIIIAAAlEBAsOoB+8QQAABBBBAAAEEEEAAAQQQQAABBBA40QIEhid6+Ok8AggggAACCCCAAAIIIIAAAggggAACUQECw6gH7xBAAAEEEEAAAQQQQAABBBBAAAEEEDjRAgSGJ3r46TwCCCCAAAIIIIAAAggggAACCCCAAAJRAQLDqAfvEEAAAQQQQAABBBBAAAEEEEAAAQQQONECBIYnevjpPAIIIIAAAggggAACCCCAAAIIIIAAAlEBAsOoB+8QQAABBBBAAAEEEEAAAQQQQAABBBA40QIEhid6+On8URT43//+J/7FgGuAa4BrgGuAa4BrgGuAa4BrgGvgOFwDR/G/yWgzAidBgMDwJIwyfUQAAQQQQAABBBBAAAEEEEAAAQQQQKBBAQLDBqE4DAEEEEAAAQQQQAABBBBAAAEEEEAAgZMgQGB4EkaZPiKAAAIIIIAAAggggAACCCCAAAIIINCgAIFhg1AchgACCCCAAAIIIIAAAggggAACCCCAwEkQIDA8CaNMHxFAAAEEEEAAAQQQQAABBBBAAAEEEGhQgMCwQSgOQwABBBBAAAEEEEAAAQQQQAABBBBA4CQIEBiehFGmjwgggAACCCCAAAIIIIAAAggggAACCDQoQGDYIBSHIYAAAggggAACCCCAAAIIIIAAAgggcBIECAxPwijTRwQQQAABBBBAAAEEEEAAAQQQQAABBBoUIDBsEIrDEEAAAQQQQAABBBBAAAEEEEAAAQQQOAkCBIYnYZTpIwIIIIAAAggggAACCCCAAAIIIIAAAg0KEBg2CMVhCCCAAAIIIIAAAggggAACCCCAAAIInAQBAsOTMMr0EQEEEEAAAQQQQAABBBBAAAEEEEAAgQYFCAwbhOIwBBBAAAEEEEAAAQQQQAABBBBAAAEEToIAgeFJGGX6iAACCCCAAAIIIIAAAggggAACCCCAQIMCBIYNQnEYAgjsj8BqblIzG/tT1vErpaTx/pRGZo5fz+gRAggggAACCCCAwH8k8PdHnepeVnFfq/+kvisFPVrav0KLzws6NfipwQL3v36v4ojVd639taKpdadJSyvqvJHXqSt5tWRXVZz/Ry/mt5wD9u/l7jz2r15KQsAKEBhaCf4icMwFynMPlE71a7xUv6Obi2PKdu0+uJoZSSmVcv7tSqt/8Ilyq7bOVY1nUxp63UyJ4apyo1mlu4J2e22eVME2+VD/EhgeKjeVIYAAAgggcNwENhc1lu1SaodfH0vj/UqPzjk9X9X0SEap/nE1cJvonHdwL6cG/UBm4O33hEq+y37f93fC13v4aOFhXvtV1h6qP/hTIiGYtPWqqIvPv/xgvfsf2O0uINv/+j2QiNVXPe3J69rEt8Dqm1785r7/rtnf82q522jIuTvy3XnsrmyORqARAQLDRpQ4BoGjLrA5o5FMr3oz9QPD1ekRZTJDGtrDTDcTGPa7iWS5pOnhtFLZSTVTROgO5+IT077nWtwsex+XNwuan1n8j9pLYOiODa8RQAABBBBAYBcCq9MayWQ0NNS/Q2BY0FhvWqPzQblBwNg7NKhMkwWGHT1LOp1dVdXcrfKqbl3Nq+3GfoV8fih0cgLDf5UbyhMY1vqfViQwjB90QCFlvJrgPYFhDRg+PjQBAsNDo6YiBP4rgU3NjGSUHZ/ReH+dwLA8p9HBUc1tSCb8i/84Xc4NK5UaUq0JglWBoenyzIhSqQfyf8eOBWLmu5GcCq+H1RvM8OvqHdZr5+ftcuG1RrJpdXkzF7uUGR7X4qa1nNFIakQzm3N60t/lzW4c+b+jSqdHZe+D/SPNzXFKwzk/FLRnS7H2VL5wXpkZiP016pc25sY02OvXnUp1qX80p3BCpde/GW3OPVG/178R2dXGq7lRZdPBeV1pjUybTgXteV3pT6orreyTOYVddlrGSwQQQAABBBBAwBcoa250UKP+TVztwHBxTJnesXAlRWl8SEOTBZVL4+pvssDw4sOSOq8UNRG7fVv7c0ln767oUXcsMPy2pkfZgs5c8WcntmWXNWsnhum7FiaKarvqf3fqal4dv3/SltZ0vzvvndNyPa8LN/LqnPgqyQRDHzX17ZOGuvM6fcXW9U25h0thOaevFjTwlzne/8cEPGbmXlhX0jJgE0gNftLW25LavfZ81JR3uln++jH4LK+WG0U9cpe6mqWwKb8tZjlsa09JOa9/SSHWl6hPGIJ91cRgQa1X8zp91e/vhd+D2XHv/1FfT14tiX6S1isWfr//0cB1d0my3/6O675x3MYaVf7+q4U/K2Nixmvq8VJsSfJXTd2tNaZJ/a6ULvnnmr56y4evf5SdKLj2tqRrjmX73VWt2VNDK/OB4/h+WbZvprxTwXLsqlAvdh2e6S5p1it752tHasAjVnb0Gpcauv5sP/mLQAMCBIYNIHEIAkdZYHNmRJmsWWJiwqg6gaHT0aTAUPNj6u8f1Vzsxs2eVhUYlleVG0krHf6MHQvovDCxS9mx+WBGX1mF5/1KDb6uzPDbWNR8yVa4oelhdxajCQx71duf1fOCPSb45dxdaVMYU296NAgtbWv9v/OjaaWHpyshX/Rred+P5IL2bGj+SbR95dK8FjeCusuLetLrBK2mf7296s8+V9g8U/78qNKpSpvLm6va8BJB3yeVGdH0alDmRk4jaWcmQKx9vEUAAQQQQAABBCICwQ+Wkc+CN3OjafWOJTx4pRkDw+frmsjm1fFnJZAzIZBZInp/3glyvL599ZaKtj9cC4KfbS08Luh097IWzPfvS2q7XtTEerDEufxVCyt27mK8LHOCCaPyaute0qP324Ge+bOt4uy61uxt53xJbSZYDI4wgc3ZVEEXB1crxzhney9NIGWO6VnWQtlZcj1bUuv1j5ry2vhda7MlXbyypBfe8/M2dD+V162/bAK6rbX3X4PZl0nBWaxPkRBM3pLuqiXJ6+vKLdm+ftOLrDsL0S+v/bFdM/TNK+O0+wxDr/1FvVj51+/x+qr6rps2W+coxNbfH3U27K8Zo2V1mHAvfIbhd+Xu5tVqLL1Tv2n294JO/7YSvE/qt63DP/d0aPyvtlasl7S1tKbZ9aCd5TUNpUwgHIxFxCrm6F0Xbkjqh3SVNvvXoddm7xrZ1tpKZcx2unbqe9S5xuW3pe71Z4n4i0ADAgSGDSBxCAJHVsBbijwYzAjch8CwDoQJDCPPMEx1KftkxgnjkgLDyqw7r3hzw2pmDdaoyzx3p/JcHhMYpjTkzc6rnOAdM5yTvZdbHMvEntVTOVb2WT9dGQ0+ma6Ef94hpvxhTduCzGer48rGP3OKi4SmXiA6pGjzyspFQk/n5GCGYWRZtzdJ0w1J3eN5jQACCCCAAAIIxARqBoZzGk1nNWkzH/e0pgwMv0hvSzqbKvmhn2mvCf6897Egx3zuBHd+19Z1/0ZeA2Z613xJF9zA0O27O4ss/NwPDK+9Sg67wsNiAZI32+yGnVFWOSryygRSJgi0OZL3pf9cxs5XNrAzH/rhqP+Z35dKYOiWmBScxXwiIViNwNAtMgifwiDM+MV911d0LQwMt71wNx5CmmclngoDPreC5ONNQBjW6dnGZpiuLKs9nHWa1O+gDrNsPWybW2/ya/NMzLDtEauYY2y8TWmRGYaJ12FynX4obcPHBjwSy3aucduWetdfrebwOQIJAgSGCSh8hMDxENj0ZvcNhuuHDycwjIRd5Q3Nj2XV5c1wNKoJgWF8+UssMCyv5vRksF+ZdFqZTEYZs7Q3XCttAr2EWZMbk16o569AntdoOqOxxZ1HtVya0fiIWXrcpX67BNhrSzwENe8rdW7MT2okm1E6aJ/ZPCU0MDfs8f7FDSLNivkE30VCyMjxvEEAAQQQQAABBGICNQJD79EytZ4r3ayBodY0cD2v++/9PppAyZ9xGAtyIiFPxaMSBG1p9uGSzlzNq31wWVPhTDpzbKws7/RaYdQ3zf75UR038moNljC3OMFUJDyqNCP6KrGtfhv8pa7BsulgabANsrbmS94MvDPdH/Xo7y/Osx2T2hrrU6zOiovTtJVVDf1W0IWgXxfc2X6x8/2z3Hpj9dlil5Z1MR40et8lHx/x886NWrhLgaOBm60w+FuzXvO9mb254i2/tmNoli1bZ0X6Gm+n22e/rkibI+fG2qSdrp14PY2X7Y5lpC3x6nmPwB4ECAz3gMYpCBwFgc3ciNLu0t7YkmRvFl64o3H1jD4TUoW5XIMdTg62TKhnl9TGArGkQM0NDDdeazDVryfzG+FsweoZhpXwrtJMfxafF5aa5b/Os3oqx9R4tTqpwVSvvNU6bluSDjdlp80zFytTECMGSf0jMEyS5DMEEEAAAQQQ2C+BxMDQvzcajiybcCps2sBQMjsYn/V2of2kget2iW4sYKkR1Lhhitfb8hdNPf+oi2bTlN/XgtAtVpZ3YHUwZIImE1iezf6jYriUOHpcQ4FNYluT2uCMT/hyW8W/l9VnnquYKsn/cTzaBv/QL3rkLbMNTozVWeUSzBYcmq0s/470JXa+X6pbb4321wzuko+P1FnzXIvh1m8/C/7udK5dOu2ExhGPSF/j7ayuM9LmyLlum+pdO/F6/HMbKdtte+R4t3peI7BHAQLDPcJxGgLNLmCCq+jyYOd9A0ng/gWGub0HhgmBm3mmYN0ZhmZw5ka9wDQ3mq7M+Gto0JxQs5zTcKr27MRoeGkK39DrwXozDMux5zC6jXLqdj6OhJDO57xEAAEEEEAAAQSqBJICQ+9H2OEgYKo6Q2riwFBB+DPxqqiWcNfkWMCSGBD5yzX73ib0d31FHeHMt1hZ3uHVwVDiTMTIstzY8tSEar2PEkMlf0nqhYfeAwtrnel87u7snNDW8j/qDDdqkaKz5hKWJCe0KbI8OGlJsleHXVLrL6kOZ+kFLfWWJPcsq+i03H+ZvATXhMPhkmRvWbF5XmXVycEHCf22h0baZj/0/1aHat+851+GbY9YxK+N6joj5SU5edXGyzGbyNRf0h3xaOAaj7Ql2m3eIbAnAQLDPbFxEgJHUcCEUUmz8ZL7khgY7nrTE39JcirctTgWiCUEgt4Nq32GodnJzzwvMHjWzsb8mLKNLEn2umSWIqeVrvWsHu+YgmamF7W6aWcIllWaHlY6Vbmh9gLK7Jjmw41NNlUolLwZj+XpYaV6n2jRO72s1elhZVL1AkOpPPdA6fSgxu1OKOVVlbxNTmI+wdAQGCZfo3yKAAIIIIAAAgkCCYHhxmS29vOcTRHNHBgGz/IzOxUPvLWbhMQDGH9DiIu/xzY9cZ9/GFJ9l9klt+26fdZgEBg9/hIekbzc1Q+5zMxE75/yV29jEHfjj4YCm0gg5VRpZr5dKeh+OMvPbGyyrqK9TXUONTsWD6TyGvLCNN/C3ZDE2xxkh8DQmyk5uFpZ1uwFXUW9cDZciW5A4m+6Ul2HDQwl2Zl7sU1POms8B3Lrr6JOu5uerPyjW2aH5dimJ6fNbtDhBiWbWnhvl2NXh3cVom3lhvI6+5vdWOa7tla+eBvReCFmqqRZz/VfFV8VdeHKPi1J1hdvU562u5+CTW/+1db7r1pT/Wunvkf9a7yh66+CxCsE6goQGNYl4gAEjovAjweG5dyIulJDwSYq1S4m2IrOauxSOjuq3Ko9NhaI1QsMtam5J+a5gqbcLmWGx7WYG1U6nCFZ4xmGQXVms5PIjsu2GeHfgiYH+2WeO+i3u0sZr73undmG5sYG/WcnmnZ0pZUdnQt2TS7p9XAmbF//aE6Lk4OVGY1J/QvqXs2NKpvu8uvtSmvYS0VjPsGxBIbhgPECAQQQQAABBOoJVAWG5v4irdG5HU5s6sBQ8sOUknJhF+KBoaTyhp5mCzoTPPuv7beScnZjkfmSLpowKvjuTKqop++DXXIlbc0HO/Resc9IrBFGLa2o84ZfzumrBQ38taanv1VCs4YCm1qBoXm23tuSrgXlm7a29pQ05U06XNP97rxagvabujv/dHavMe1K5WVCVe+7iTUvzOz7OwCL12l2MA7qafGWe28p97tjl13W7F8lnQ3DO0krqxowS6GDOvpefdKjnkrfvWcDvi2pI3A27eh75Yaw4eAFL7Y0+7yoNvOsRNPX30qaffVRp9069U25h0vhMaeu5tVhwjivhBpjFFbzVVN3CzLPJzTlt1w3gaj58otnYy3b765q9s+l/XmGoSn+25oeOdfhGRNOms/rXDtSAx47XeN205OIX4jBCwT2JEBguCc2TkIAgeYX2NBkNqVh/+Euzd9cWogAAggggAACCCCAAAIIIIBAkwgQGDbJQNAMBBDYX4ENs+lLuBR6f8umNAQQQAABBBBAAAEEEEAAAQSOswCB4XEeXfqGwEkUMMtwUil1ZczuxScRgD4jgAACCCCAAAIIIIAAAggg8GMCBIY/5sfZCCCAAAIIIIAAAggggAACCCCAAAIIHCsBAsNjNZx0BgEEEEAAAQQQQAABBBBAAAEEEEAAgR8TIDD8MT/ORgABBBBAAAEEEEAAAQQQQAABBBBA4FgJEBgeq+GkMwgggAACCCCAAAIIIIAAAggggAACCPyYAIHhj/lxNgIIIIAAAggggAACCCCAAAIIIIAAAsdKgMDwWA0nnUEAAQQQQAABBBBAAAEEEEAAAQQQQODHBAgMf8yPsxFAAAEEEEAAAQQQQAABBBBAAAEEEDhWAgSGx2o46QwCCCCAAAIIIIAAAggggAACCCCAAAI/JkBg+GN+nI0AAggggAACCCCAAAIIIIAAAggggMCxEiAwPFbDSWcQQAABBBBAAAEEEEAAAQQQQAABBBD4MQECwx/z42wEEEAAAQQQQAABBBBAAAEEEEAAAQSOlQCB4bEaTjqDAAIIIIAAAggggAACCCCAAAIIIIDAjwkQGP6YH2cjcOgC6+vr4l8MuAa4BrgGuAa4BrgGuAa4BrgGuAaOwzVw6P9BRYUIINCQAIFhQ0wchAACCCCAAAIIIIAAAggggAACCCCAwMkQIDA8GeNMLxFAAAEEEEAAAQQQQAABBBBAAAEEEGhIgMCwISYOQgABBBBAAAEEEEAAAQQQQAABBBBA4GQIEBiejHGmlwgggAACCCCAAAIIIIAAAggggAACCDQkQGDYEBMHIYAAAggggAACCCCAAAIIIIAAAgggcDIECAxPxjjTSwQQQAABBBBAAAEEEEAAAQQQQAABBBoSIDBsiImDEEAAAQQQQAABBBBAAAEEEEAAAQQQOBkCBIYnY5zpJQIIIIAAAggggAACCCCAAAIIIIAAAg0JEBg2xMRBCCCAAAIIIIAAAggggAACCCCAAAIInAwBAsOTMc70EgEEEEAAAQQQQAABBBBAAAEEEEAAgYYECAwbYuIgBBBAAAEEEEAAAQQQQAABBBBAAAEEToYAgeHJGGd6iQACCCCAAAIIIIAAAggggAACCCCAQEMCBIYNMXEQAggggAACCCCAAAIIIIAAAggggAACJ0OAwPBkjDO9RAABBBBAAAEEEEAAAQQQQAABBBBAoCEBAsOGmDgIAQQQQAABBBBAAAEEEEAAAQQQQACBkyFAYHgyxpleInA0BVZzmpzZ+OG2r+YmtQ/FNNCOksb7UxqZaeBQDkEAAQQQQAABBBBA4DAE/v6oU93LKu5rXZ/Ud6WgR0v7V2jxeUGnBj81WOD+1+9VHLH6rrW/VjS17jRpaUWdN/I6dSWvluyqivP/6MX8lnPA/r3cncf+1UtJCFgBAkMrwV8EjrlAee6B0ql+jZd26Gh5VbnRrNJdKaVSKXVlBjU2t7nDCdGvZkbMeWmNzkU/t+/87xsP1FbHs0oNvdaPRYarGs+mNPTalrKoscyI9pzpzYx4NsbH/dcPCY9GYLg4liHUtBclfxFAAAEEEDhOApuLGst2KbXDr5el8X6lIzdrq5oeySjVP66dbhMPk2lq0A9kBt5+T6j2u+z3fX8nfL2HjxYe5rVfZe2h+oM/JRKCSVuvirr4/MsP1rv/gd3uArL9r98DiVh91dOevK5NfAusvunFb+7775r9Pa+Wu42GnLsj353H7srmaAQaESAwbESJYxA46gKbMxrJ9Ko3s3NguDn9QEPj89oo+x3emBtVb2pIYdZWx8EEgtlsVqnhnIIiKmeUcxruMm1oPDCsnLyPr1bHlU39YGBY84b6KASGfoC6w39H7CM2RSGAAAIIIIDAoQmsTmskk9HQUP8OgWFBY71pjc4HrQoCxt6hQWVq3t8cWg/Cikwg2NGzpNPZVVXN3Sqv6tbVvNpu7FfI54dCJycw/Fe5oTyBYXi1xV5EAsPYdzqgkDJeTfCewLAGDB8fmgCB4aFRUxEC/5XApmZGMsqOz2i8f+fAsLqF0QCsnBtWaocA0QSG/WNjGk4NazqWGG5MZpUendTzyJLdDc2NDao3mNGY6urXaG41bIb5BTzyC/nmosaHe9Xlze7rUmZ4XIvOBEhzfP94SaXXw8qYMr0bX6cP88/Vn+lSKtWldCajTGZIr6dHlU6Pyt43+5Wbm+mUhnOxTpgvzQzDmjfUTl1BLzYXxzXs1ZlSUv8yT6b1ejgT9ql/NKdSYVLDvaadwTmx9dT1yux9Pq+5J3amaJfS2SfyJ4rO63m/X1dX2vQ/o6HXFe8QnhcIIIAAAgggcMQEypobHdTo3IZ/r1Lrl8HFMWV6x1QIelcaH9LQZEHl0rj6a97fHD6FCQwvPiyp80pRE7HbsbU/l3T27ooedccCw29repQt6MwVf3ZiW3ZZs3ZimL5rYaKotqv+d6eu5tXx+ydtaU33u/PeOS3X87pwI6/Oia+SFwx91NS3Txrqzuv0FVvXN+UeLoXlnL5a0MBf5nj/HxPwmJl7YV1Jy4BNIDX4SVtvS2r32vNRU97pZvnrx+CzvFpuFPXIXepqlsKm/LaY5bCtPSXlvP4lhVhfoj5hCPZVE4MFtV7N6/RVv78Xfg9mx73/R309ebUk+klar1j4/f5HA9fdJcl++zuu+8ZxG2tU+fuvFv6sjIkZr6nHS7ElyV81dbfWmCb1u1K65J9r+uotH77+UXai4Nrbkq45lu13V7VmTw2tzAeO4/tl2b6Z8k4Fy7GrQr3YdXimu6RZr+ydrx2pAY9Y2dFrXGro+rP95C8CDQgQGDaAxCEIHGWBzZkRZbJmiYkJs3YbGM5pNN2rMXtXOT+m/v5RzcVu3KyPFxiOLyo3nFJ20i4BNt9uaDKb0dhiPFArqzS/GM5oLC8+Ua8z+y8aGG7o9WCXsmPzwRLlsgrPs0r1Pw+Xz3hLbHp71T+SC8uU129nVqO5IXbqkIJf2t1l1IUx9aZH5X5k+7irwHDjtQa7snpe8MHKq681nK78qu/1L5XWSC6w2shpJJ1SKj2s16v+ORu5EaXd9jZUZkYj06vBLM8N5UbSSodTCeJjEPaMFwgggAACCCBwHATMj5s1AsO50bR6wxs7p7PNGBg+X9dENq+OPyuBnAmBzBLR+/NOkON146u3VLT94VoQ/Gxr4XFBp7uXtWC+f19S2/WiJtaDJc7lr1pYsXMX42WZE0wYlVdb95Ievd92oLZVnF3Xmr0Xni+p7YoN/PzA5myqoIuDq5VjnLO9lyaQMsf0LGuh7Cy5ni2p9fpHTXlt/K612ZIuXlnSC+/5eRu6n8rr1l82Ad3W2vuvwezLpOAs1qdICCZvSXfVkuT1deWWbF+/6UXWnYXol9f+2N7ff/PKOO0+w9Brf1EvVv71e7y+qr7rps3WOQqx9fdHnQ37a8ZoWR0m3AufYfhdubt5tRpL79Rvmv29oNO/rQTvk/pt6/DPPR0a/6utFeslbS2taXY9aGd5TUMpEwgHYxGxijkmzDCMBob+dei12btGtrW2Uhmzna6d+h51rnE1eP1ZIv4i0IAAgWEDSByCwJEV8JYiDwZLincfGJbGs+oabPwZgn5gWJLmRpV2fr2WCeC89/XCqhmNOM9ZjASGpgw3OPMGxTyPMBbAZZ5oMTJgsTqrAkPJq8dZRm2e8Rd9to9TYOIzDO0S52hdptzMryoZ7gAAIABJREFUWLQ1cw9S4WdevbFf83Mjle/9WqtNdltmNOSMttHpGS8RQAABBBBA4DgI1AwMzQ/BWUV+07X9bcrA8Iv0tqSzqZIf+pm2muDPex8LcsznTnDnd2td92/kNWCmd82XdMENDG2/vb+xsrzP/MDw2qvksKtyejS08sKjG3ZGWeWoyCsTSJkg0OZI3pf+cxk7X9nAznzoh6P+Z35fKoGhW2K0Df43sT5FQrAagaFbZBA+heGd8Yv7rq/oWhgYbnvhbjyENM9KPBUGfG4FycebgDCs0wvnYjNMV5bVHs46Tep3UIdZth62za03+bU3o9U+0zFiFXOsFxgmXofJdfqhtJ2h2YBHYtnONW7HrN71V6s5fI5AggCBYQIKHyFwPAQ2vZllg+EDCE1Q1PgMw82ZB8qYzUGcJb/1XMLAUPORmYnzo+lgxmE8rNrQ/OSIspm00t4S2bS6agWGNZYCV+oMgr+qX9RjdSYEhtqYVDY1LH8Fsmm7mQ1Zo7c12uEfHa3LtM3dGCV8HbQxEogG1bn98T+KBoZ7KZPAsMZY8jECCCCAAALHUaBGYOg9WiY7mbyZXLMGhlrTwPW87r/3B8oESv6Mw1iQEwl5KoNaCYK2NPtwSWeu5tU+uKypcCadOTZWlnd6rTDqm2b//KiOG3m1BkuYW5xgKjrbrNKOyKvEtvpt8Je6Bsumg6XBNoTbmi95M/DOdH/Uo7+/OM92TGprrE+xOisuTstWVjX0W0EXgn5dcGf7xc73z3LrjdVni11a1sV40Oh9l3x8xM87N2rhLgWOBm62wuBvzXrN92b25oq3/NqOoVm2bJ0V6Wu8nW6f/boibY6cG2uTdrp24vU0XrY7lpG2xKvnPQJ7ECAw3AMapyBwFAQ2zVLWyOzAaGDohVXhTr92hpzfs02z2Yl5vt8ut8pzw67CWG8wS8/8mu3OcqwsDzZBYnr4tUp2WYei4VgkUKsR1Ll1Ro4PByka4ikpMFTZW0bthavzsdmRYTnBixrt8L+N1uW2LV6MeZ/U3upzoibV30dLTiqTwDBqxDsEEEAAAQSOtUBiYOjf6wzHHzJtIZo2MJTMDsZnvV1oP2ngul2iGwtYagQ1bpjidbX8RVPPP+qi2TTl97UgdIuV5R1YHQyZoMkElmez/6gYLiWOHtdQYJPY1qQ22MFx/26r+Pey+sxzFVOl4MfuaBv8o7/okbfMNjg3VmeVSzBbcGi2svw70pfY+X6pbr012l8zuEs+PlJnzXOth1u//Sz4u9O5dum0ExpHPCJ9jbezus5ImyPnum2qd+3E6/HPbaRst+2R493qeY3AHgUIDPcIx2kINLuACZbCGW1hMBh8VjULr9IbPywc1vQe9sKIhFlBMDc9PayucLmvG6i5r4P6zfP5as0wTAz6zJLklB4EDxtMDMvqPsMwqNssox58rdxo2ts4pSISe7WLwNCEpqnh6eodo4Mik9obMfSOiwaGeymTwDA2hrxFAAEEEEDgOAskBYbePZZdTZHQ+SYODBWEPxOvimoJd02OBSyJAZG/XLPvbUJ/11fUEc58i5XlHV4dDCXORIwsy/WfIVdZUptQr/koMVTyl6ReeOg9sLDGie7H7s7OCW0t/6POcKOW6jrdkMkrNaFNkeXBSUuSvTrsklp/SXU4Sy9oqrckuWdZRbfp3uvkJbgmHA79vGXF5nmVVScHHyT02x4aaZv90P9bHap9855/GbY9YhG/NqrrjJSX5ORVGy/HbCJTf0l3xKOBazzSlmi3eYfAngQIDPfExkkIHEUBE9DtvCTZDwtHZPfgqOplQ5ue2GmJZqMTE1CmNRruHuKGhGVND6fU+2TRD9TKq5oezihVKzCU2fQkpf4nsU1PesfCZxYmBXBVm54EoeRz28ywk2YpslkaXePZPva4XQSG8upKa3i6FISGZW2uLqoQPC86qb31AsO9lBkNDAPHagDbQ/4igAACCCCAwFEWSAgMNyaztZ/PbPrazIFh8Cw/s1PxwFu7SUg8gPE3hLj4e2zTE/f5h+GYfpfZJbftun3WYBAYPf4SHpG83NUPuczMRO+f8ldvYxB344+GAptIIOVUaWa+XSnofjjLz2xssq5iuBLHOXb9kwZSeQ15YZpv4W5I4m0OskNg6M2UHFytLGv2gq6iXjgbrkQ3IPE3XamuwwaGkuzMvdimJ501ngO59VdRp91NT1b+0S2zw3Js05PTZjfocIOSTS28t8uxq8O7itC2ckN5nf3NbizzXVsrX7yNaLwQM1XSrOf6r4qvirpwZZ+WJOuLtylP291PwaY3/2rr/Vetqf61U9+j/jXe0PVXQeIVAnUFCAzrEnEAAsdFoF5g6Id5ibMSg405yrkRdaWGgk1Uql3iYZf3rJz0qCo/DLqBobk5fa3hTJc/E7KrX6O5RU0OVkLNqkCtXNDkcK+6vBmTXcoMjmnOecZi1fFeE2N1qqzF54NBGVlNOjMpzWYnqcgy7uo+euFbfMZmyi6zjtcllQuvNdIf9DGVUlfvoCaDXaeT2hs3VGyZtmnRbsuMBoZSefG5Brv82aZZFyChu3yEAAIIIIAAAkdMoCowNPcn7g+4Cf1p6sBQ8sOUknJh0+OBoblB2tDTbEFngmf/tf1WUs5uLDJf0kUTRgXfnUkV9fR9sEuupK35YIfeK/YZiTXCqKUVdd7wyzl9taCBv9b09LdKaNZQYFMrMDTP1ntb0rWgfNPW1p6SprxJh2u6351XS9B+U3fnn3bHYkmmXam8TKjqfTex5oWZfX8HYPE6zQ7GQT0t3nLvLeV+d+yyy5r9q6SzYXgnaWVVA2YpdFBH36tPetRT6bv3bMC3JXUEzqYdfa/cEDYcvODFlmafF9VmnpVo+vpbSbOvPuq0W6e+KfdwKTzm1NW8OkwY55VQY4zCar5q6m5B5vmEpvyW6yYQNV9+8WysZfvdVc3+ubQ/zzA0xX9b0yPnOjxjwknzeZ1rR2rAY6dr3G56EvELMXiBwJ4ECAz3xMZJCCBwGAJJgdrB1evPiBz2dz45uGooGQEEEEAAAQQQQAABBBBAAIEmFyAwbPIBonkInGSBxScZpUcr8xMP0mLDbBITmQ15kLVRNgIIIIAAAggggAACCCCAAALNK0Bg2LxjQ8sQOLECq5NZb5lyV2Z41zs17xrNLNsxS4UPo65dN44TEEAAAQQQQAABBBBAAAEEEDh8AQLDwzenRgQQQAABBBBAAAEEEEAAAQQQQAABBJpWgMCwaYeGhiGAAAIIIIAAAggggAACCCCAAAIIIHD4AgSGh29OjQgggAACCCCAAAIIIIAAAggggAACCDStAIFh0w4NDUMAAQQQQAABBBBAAAEEEEAAAQQQQODwBQgMD9+cGhFAAAEEEEAAAQQQQAABBBBAAAEEEGhaAQLDph0aGoYAAggggAACCCCAAAIIIIAAAggggMDhCxAYHr45NSKAAAIIIIAAAggggAACCCCAAAIIINC0AgSGTTs0NAwBBBBAAAEEEEAAAQQQQAABBBBAAIHDFyAwPHxzakQAAQQQQAABBBBAAAEEEEAAAQQQQKBpBQgMm3ZoaBgCCCCAAAIIIIAAAggggAACCCCAAAKHL0BgePjm1IgAAggggAACCCCAAAIIIIAAAggggEDTChAYNu3Q0DAEEEAAAQQQQAABBBBAAAEEEEAAAQQOX4DA8PDNqRGBHxJYX18X/2LANcA1wDXANcA1wDXANcA1wDXANXAcroEf+o8jTkYAgQMTIDA8MFoKRgABBBBAAAEEEEAAAQQQQAABBBBA4OgJEBgevTGjxQgggAACCCCAAAIIIIAAAggggAACCByYAIHhgdFSMAIIIIAAAggggAACCCCAAAIIIIAAAkdPgMDw6I0ZLUYAAQQQQAABBBBAAAEEEEAAAQQQQODABAgMD4yWghFAAAEEEEAAAQQQQAABBBBAAAEEEDh6AgSGR2/MaDECCCCAAAIIIIAAAggggAACCCCAAAIHJkBgeGC0FIwAAggggAACCCCAAAIIIIAAAggggMDREyAwPHpjRosRQAABBBBAAAEEEEAAAQQQQAABBBA4MAECwwOjpWAEEEAAAQQQQAABBBBAAAEEEEAAAQSOngCB4dEbM1qMAAIIIIAAAggggAACCCCAAAIIIIDAgQkQGB4YLQUjgAACCCCAAAIIIIAAAggggAACCCBw9AQIDI/emNFiBBBAAAEEEEAAAQQQQAABBBBAAAEEDkyAwPDAaCkYAQQQQAABBBBAAAEEEEAAAQQQQACBoydAYHj0xowWI4AAAggggAACCCCAAAIIIIAAAgggcGACBIYHRkvBCCCAAAIIIIAAAggggAACCCCAAAIIHD0BAsOjN2a0GAEE9ltgc1HT04sq73e5B1Few22d0UiqX+Olg2gEZSKAAAIIIIAAAggcGYG/P+pU97KK+9rgT+q7UtCjpf0rtPi8oFODnxoscP/r9yqOWH3X2l8rmlp3mrS0os4beZ26kldLdlXF+X/0Yn7LOWD/Xu7OY//qpSQErACBoZXgLwLHXKA890DpOgFSeTWnJ4P9SnellEql1JXOamS68cRpZiSl/qOYUM09UCr9RIsHeQ1szGtyJBvaprrSyo5ManFzl5U23NY6geFqTqPZtLpSdqz7NThZ2GVjqg8vTw8fzWuguit8ggACCCCAwNET2FzUWLZLqZGZmm0vjfcrPTrnfL+q6ZGMUv3javyuzzn9AF5ODfqBzMDb7wmlf5f9vu/vhK/38NHCw7z2q6w9VH/wp0RCMGnrVVEXn3/5wXr3P7DbXUC2//V7IBGrr3rak9e1iW+B1Te9+M19/12zv+fVcrfRkHN35Lvz2F3ZHI1AIwIEho0ocQwCR11gc0YjmV71ZnaecVYaH9ForqDNYKpdufBc2VRaTxpM0o5sYHjQ41uaVLarS/2jORUC3PJmQbkHvUqlRzSz29CwofbuFBgu6kk6pezzxWCsy9oszGtmcaOhkmsfVNbcgzSBYW0gvkEAAQQQQODgBFanNZLJaGiof4fAsKCx3rRG54NmBAFj79CgMk0WGHb0LOl0dlVVc7fKq7p1Na+2G/sV8vmh0MkJDP9VbihPYFjrf4mRwDB+0AGFlPFqgvcEhjVg+PjQBAgMD42aihD4rwQ2NTOSUXZ8RuP9OweG1S0sabw/JfsjdTk3rFRqSK9r5ErRwNAEVsOazD1Rv52xmBnW+HxJc0/sTLsuZYbHtRiuBTbnjChXmNRwpsuf5WjOcafhzYx4N8Gbc7bcEfm/oa8qN2rLTamrf1S51aBH5pzMWGwG4aLGMkHfzPfhTbLpc6+ez8/piZ2BZ2YDPpmTm+ut5kbVn04rk7Gz9LqUyQzpta0zxCwrN5xSemQmYcnzpqbNd+Gv/FFvW0TENdJWc0Ss3+kRTXsNjQWGJjROpzWS25BK4+pPWTdbS+zv5qLGh3uDGYjBODkAZnaCmU1aej2sjBnf/v+j/zfS68+g7Mook8ko88SdvRArn7cIIIAAAgggsI8CZc2NDmp0bkMK7pUSC18cU6Z3THZNQWl8SEOTBZXNvUF4L5R45qF+aGYQXnxYUueVoibC+0S/CWt/Luns3RU96o4Fht/W9Chb0Jkr/uzEtuyyZu3EMH3XwkRRbVf9705dzavj90/a0prud+e9c1qu53XhRl6dE18lmWDoo6a+fdJQd16nr9i6vin3cCks5/TVggb+Msf7/5iAx8zcC+tKWgZsAqnBT9p6W1K7156PmvJON8tfPwaf5dVyo6hH7lJXsxQ25bfFLIdt7Skp5/UvKcT6EvUJQ7CvmhgsqPVqXqev+v298HswO+79P+rryasl0U/SesXC7/c/GrjuLkn2299x3TeO21ijyt9/tfBnZUzMeE09XvJsKsd81dTdWmOa1O/KmZJ/rumrt3z4+kfZiYJrb0u65li2313Vmj01tDIfOI7vl2X7Zso7FSzHrgr1Ytfhme6SZr2yd752pAY8YmVHr3GpoevP9pO/CDQgQGDYABKHIHCUBTZnRpTJmiUmJozaRWBY3lRheliZzKjm7I3a/Jj6+533MZhIsCUTWKWUyj5XwTu/rMLzfi8EzD6Zl5c5lgt6nnWXMcfPkTZyI0qnBishpbkJ7u1Vf1iu34j50bTSw9NaDeryzkuPKOeFXHMaTWc05s6UNDfM6VF5kVYkhPNDu1RmRNN+YaYRXtgW/hq/8VqDqWFN2+B0Y1rDbhsjLnN6kIrV7X5v6k6Pyv+hf/eBoem3a7y5uhEEm8YyGO/NOY32dikbLhef12g6reHpqnQzaNmGXg92KTsWjJPM2GWV6n8eLlXyljOZcRjJacNeHzL/jeKOp9tRXiOAAAIIIIDAoQjsEBjOjabVO2bjQqc1zRgYPl/XRDavjj8rgZwJgcwS0fvzTpDjdeOrt1S0/eFaEPxsa+FxQae7l7Vgvn9fUtv1oibWgyXO5a9aWLFzF+NlmRNMGJVXW/eSHr3fdqC2VZxd15q995kvqc0Ei8ERJrA5myro4uBq5RjnbO+lCaTMMT3LWig7S65nS2q9/lFTXhu/a222pItXlvTCe37ehu6n8rr1l01At7X2/msw+zIpOIv1KRKCyVvSXbUkeX1duSXb1296kXVnIfrltT+2N7/fvDJOu88w9Npf1IuVf/0er6+q77pps3WOQmz9/VFnw/6aMVpWhwn3wmcYflfubl6txtI79Ztmfy/o9G8rwfukfts6/HNPh8b/amvFeklbS2uaXQ/aWV7TUMoEwsFYRKxijt514YakfkhXabN/HXpt9q6Rba2tVMZsp2unvkeda1x+W+pef5aIvwg0IEBg2AAShyBwZAW8pcg2bGswMDQ3mcFz7VL9o5op2Tui+grRsMgP/+zsRO/s0nP1mqDNKdIET5Xn7CSco7I3C2/QTmv02jcUzKIL2lTOadiGY2Ezo+eZG+SMkxgujmUqM/tMmeGv6n5oF38WY6RvkeNNhclBn99nM5svq/Fa2Vxktl9yOTXrTuy3BbCBYUnjWX+GozNBUJuLY8p2pdSVGdST6cVI6KfCmHqrZiCaGZmVJUzeuGWqn/sYaattCn8RQAABBBBA4PAEzH1K5AbMVm1+QM1q0mY+9mPztykDwy/S25LOpkp+6GfaaYI/730syDGfO8Gd37V13b+R14CZ3jVf0gU3MHT77s4iCz/3A8Nrr5LDrvCwWIDkzTa7YWeUVY6KvDKBlAkCbY7kfek/l7HzlQ3szId+OOp/5velEhi6JSYFZzGfSAhWIzB0iwzCpzAIM35x3/UVXQsDw20v3I2HkOZZiafCgM+tIPl4ExCGdXq2sRmmK8tqD2edJvU7qMMsWw/b5tab/Nqb0Wqf6RixijnGxtuUFplhmHgdJtfph9I2fGzAI7Fs5xq3bal3/dVqDp8jkCBAYJiAwkcIHA+BTeVG0gqDtt3OMFRZq/PPNZhO60E4xXBnmWhYZAMr55xIOOZ/Xh0YVs+CNOFe6kGwvLUqrAtucqsCLnPv64SR86NKh8uSo+GXt3QnFhjG77MjfduYVNYEnzaB25zWcFeNpdpenw8oMEzwrGgb/4yy2bS3oYt9VFHle/OqrNLMuEb6u5Tq6teTuaBDScax2YMRW6fQiJPzOS8RQAABBBBA4JAEagSG3qNlspP+Ko94U5o1MNSaBq7ndf+932ATKPkzDmNBTiTkqXSuEgRtafbhks5czat9cFlT4Uw6c2ysLO/0WmHUN83++VEdN/JqDZYwtzjBVCQ8qjQj+iqxrX4b/KWuwbLpYGmwDeG25kveDLwz3R/16O8vzrMdk9oa61OszoqL07SVVQ39VtCFoF8X3Nl+sfP9s9x6Y/XZYpeWdTEeNHrfJR8f8fPOjVq4S4GjgZutMPhbs17zvZm9ueItv7ZjaJYtW2dF+hpvp9tnv65ImyPnxtqkna6deD2Nl+2OZaQt8ep5j8AeBAgM94DGKQgcBYFNs5R38LVzUxidYegFPnYmYULYZvtYet5bCevshzX+RsOiJgsMZULCYGmwWY4chodeElY1w3DHwNDLKLPqSpnnFprn9WUrYVuVzY8vSc65y3zdMK9uYGg2NplX7oFZfuSux65qpFYnB5WyzzRy63AOdceXwNCB4SUCCCCAAALNJJAYGPrPVB52l3m4bW7awFAyOxif9Xah/aSB63aJbixgqRHUuGGK193yF009/6iLZtOU39eC0C1WlndgdTBkgiYTWJ7N/qNiuJQ4elxDgU1iW5Pa4A6Qfb2t4t/L6jPPVUyVlPNW7UTb4B/5RY+8ZbbBebE6q1yC2YJDs5Xl35G+xM73S3XrrdH+msFd8vGROmueay3c+u1nwd+dzrVLp53QOOIR6Wu8ndV1RtocOddtU71rJ16Pf24jZbttjxzvVs9rBPYoQGC4RzhOQ6DZBUy4Ey4tDoPB4LN4GrZDZyKz+3Y4znzlBkrynmEYmy2YEHBFgycTMqY0knMr2tBkNlWZKZkYZiWEk8FS5qyzFrgw1ustSzZ9ijy/J1JmA8uCtarJbK+SHgHkttx/HWx6Em5s4h7hzwLdedMTf3OWcIm029ayeXZizDgs3jEpz+lBvZmi7ti4r8Py/HbYiZ7RcQsPil0Dlc95hQACCCCAAAKHJJAUGAbPX/YDpoR2NHFgqCD8mXhVVEu4a3IsYEkMiPzlmn1vE/q7vqKOcOZbrCzv8OpgKHEmYmRZbmx5akK13keJoZK/JPXCQ++BhbXOdD53d3ZOaGv5H3WGG7VI0VlzCUuSE9oUWR6ctCTZq8MuqfWXVIez9IKWekuSe5ZVdFruv0xegmvC4XBJsres2Dyvsurk4IOEfttDI22zH/p/q0O1b97zL8O2Ryzi10Z1nZHykpy8auPlmE1k6i/pjng0cI1H2hLtNu8Q2JMAgeGe2DgJgaMoEJ1hWN2DDS3OzKuwaR8wWNbG/Jiyqcpz67TrTU9iYVZCEBUNnvzAsLKJR41NT8Llw5Ve+JuevI5ueuIuGzaHmmfzZQY1mImFfW4IV+N5hNEwtKy5B+loIOsu6a00y3+18VpDXV3KPpmRfSRkebOg3INepdIjmrFLm4PQNW02EvHOLGv19bDSKWcjkUhb/XakB8eDjWWk8mopMHACQ0lm85u0raswo+nFVVWGuqTp4bRSw7lgJ2ez6UlK/XZzGrvpSW9lp+nouFU67I3DSC6yo3TlW14hgAACCCCAwIELJASGG5PZyrObkxrQzIFh8Cw/s1PxwFu7SUg8gPE3hLj4e2zTE/f5h2G/v8vsktt23T5rMAiMHn8Jj0he7uqHXGZmovdP+au3MYi78UdDgU0kkHKqNDPfrhR0P5zlZzY2WVfR3po7h5odiwdSeQ15YZpv4W5I4m0OskNg6M2UHFytLGv2gq6iXjgbrkQ3IPE3XamuwwaGkuzMvdimJ501ngO59VdRp91NT1b+0S2zw3Js05PTZjfocIOSTS28t8uxq8O7CtG2ckN5nf3NbizzXVsrX7yNaLwQM1XSrOf6r4qvirpwZZ+WJOuLtylP291PwaY3/2rr/Vetqf61U9+j/jXe0PVXQeIVAnUFCAzrEnEAAsdFoH5gODeaVabLzkzsUrp/WOPzlSdjl3Mj6krVeFbfvs0w7NeT6XENZ7q8QK4rM6zxxUii5iwfdsdmQ3NPskoH7e/qH9F0yf3evPZnD1Y2OAm+j4Rw9WcYLo71qnd0zlnuLZXnn6g39cDfdTlerXm/Ma/JkUr7zOzP3uFJObz+WZtzepJNq8vMCu1KK/tkTnNjGSXOMPTOWFVutFJuV9ru3hwNDKVNzYyklR6Z0WZhUoP9QR1ePRllR3NB0Bg0vlzQ5HCv3w6z9HpwTPYRh+aIWoGht6O0HbvEWZVB+fxBAAEEEEAAgYMRqAoMzb1NWjv+33JTB4aSH6aUVFmEEg8MzaOZN/Q0W9CZ4Nl/bb+VlLMbi8yXdNGEUcF3Z1JFPX0f7JIraWs+2KH3in1GYo0wamlFnTf8ck5fLWjgrzU9/a0SmjUU2NQKDM2z9d6WdC0o37S1taekKW/S4Zrud+fVErTf1N35Z+UeXaZdqbxMqOp9N7HmhZl9fweXWLxOs4NxUE+Lt9x7S7nfHbvssmb/KulsGN5JWlnVgFkKHdTR9+qTHvVU+u49G/BtSR2Bs2lH3ys3hI1f7luafV5Um3lWounrbyXNvvqo026d+qbcw6XwmFNX8+owYZxXVI0xCqv5qqm7BZnnE5ryW66bQNR8+cWzsZbtd1c1++fS/jzD0BT/bU2PnOvwjAknzed1rh2pAY+drnG76UnEL8TgBQJ7EiAw3BMbJyGAwMEIxEOug6nlx0o1N929el4VRuY0ssOzIKN1+uFdKjsmNwuNHsM7BBBAAAEEEEAAAQQQQAABBP4bAQLD/8adWhFAIFHgKASGG3o91KXs80KwfNd0ZEPzY1l1RTaZSeyg82EQGmYeRJYkOwfwEgEEEEAAAQQQQAABBBBAAIH/RIDA8D9hp1IEEEgWOAqBoXkg4JzGBjPq6kork+lSV1fCkt7kDvIpAggggAACCCCAAAIIIIAAAk0vQGDY9ENEAxFAAAEEEEAAAQQQQAABBBBAAAEEEDg8AQLDw7OmJgQQQAABBBBAAAEEEEAAAQQQQAABBJpegMCw6YeIBiKAAAIIIIAAAggggAACCCCAAAIIIHB4AgSGh2dNTQgggAACCCCAAAIIIIAAAggggAACCDS9AIFh0w8RDUQAAQQQQAABBBBAAAEEEEAAAQQQQODwBAgMD8+amhBAAAEEEEAAAQQQQAABBBBAAAEEEGh6AQLDph8iGogAAggggAACCCCAAAIIIIAAAggggMDhCRAYHp41NSGAAAIIIIAAAggggAACCCCAAAIIIND0AgSGTT9ENBABBBBAAAEEEEAAAQQQQAABBBBAAIHDEyAwPDxrakIAAQQQQAABBBBAAAEEEEAAAQSSM4knAAAgAElEQVQQQKDpBQgMm36IaCACCCCAAAIIIIAAAggggAACCCCAAAKHJ0BgeHjW1IQAAggggAACCCCAAAIIIIAAAggggEDTCxAYNv0Q0UAEogLr6+viXwy4BrgGuAa4BrgGuAa4BrgGuAa4Bo7DNRD9rx3eIYBAswgQGDbLSNAOBBBAAAEEEEAAAQQQQAABBBBAAAEEmkCAwLAJBoEmIIAAAggggAACCCCAAAIIIIAAAggg0CwCBIbNMhK0AwEEEEAAAQQQQAABBBBAAAEEEEAAgSYQIDBsgkGgCQgggAACCCCAAAIIIIAAAggggAACCDSLAIFhs4wE7UAAAQQQQAABBBBAAAEEEEAAAQQQQKAJBAgMm2AQaAICCCCAAAIIIIAAAggggAACCCCAAALNIkBg2CwjQTsQQAABBBBAAAEEEEAAAQQQQAABBBBoAgECwyYYBJqAAAIIIIAAAggggAACCCCAAAIIIIBAswgQGDbLSNAOBBBAAAEEEEAAAQQQQAABBBBAAAEEmkCAwLAJBoEmIIAAAggggAACCCCAAAIIIIAAAggg0CwCBIbNMhK0AwEEEEAAAQQQQAABBBBAAAEEEEAAgSYQIDBsgkGgCQgggAACCCCAAAIIIIAAAggggAACCDSLAIFhs4wE7UAAAQQQQAABBBBAAAEEEEAAAQQQQKAJBAgMm2AQaAICCCCAAAIIIIAAAggggAACCCCAAALNIkBg2CwjQTsQQAABBBBAAAEEEEAAAQQQQAABBBBoAgECwyYYBJqAAAKHIbCpxelpLZYPoy7qQAABBBBAAAEEEECgSQT+/qhT3csq7mtzPqnvSkGPlvav0OLzgk4NfmqwwP2v36s4YvVda3+taGrdadLSijpv5HXqSl4t2VUV5//Ri/kt54D9e7k7j/2rl5IQsAIEhlaCvwgcc4Hy3AOlU/0aLzXa0ZLGsymlRmYaPUEzIyn1N15Bw+Xuz4FzepBK68ni/pRGKQgggAACCCCAQNMJbC5qLNu14/1babxf6dE5p+mrmh7JKNU/roZvE52zD+Ll1KAfyAy8/Z5Q/HfZ7/v+Tvh6Dx8tPMxrv8raQ/UHf0okBJO2XhV18fmXH6x3/wO73QVk+1+/BxKx+qqnPXldm/gWWH3Ti9/c9981+3teLXcbDTl3R747j92VzdEINCJAYNiIEscgcNQFNmc0kulVb6bxwLA0nlVvb++ON5xxluYODOOt5T0CCCCAAAIIIHCMBFanNZLJaGiof4f7t4LGetManQ/6HQSMvUODyjRZYNjRs6TT2VVVzd0qr+rW1bzabuxXyOeHQicnMPxXuaE8gWGt/+lHAsP4QQcUUsarCd4TGNaA4eNDEyAwPDRqKkLgvxLY1MxIRtnxGY33NxgYlsaVzTzQ3PRI5IaznBtWKjWk1xvJfYkGhjMaSY0oV3it4d4upVIppbp6Nfza/+3a/LqdGp5WZIVweVrDzizIzcVxDWfsuf0aza2GFZvzzWzG0uthZbpS4a/i5n2vee/Vl1b2yZw2vbNMe6L9X82NKptOLl/auf1ekSWnb6kupbNPNOdXFraTFwgggAACCCCAwMELlDU3OqjRuQ1pJnr/Fql7cUyZ3jEVgg9L40MamiyoXBpXf5MFhhcfltR5paiJyM2itPbnks7eXdGj7lhg+G1Nj7IFnbniz05syy5r1k4M03ctTBTVdtX/7tTVvDp+/6Qtrel+d947p+V6Xhdu5NU58VWSCYY+aurbJw1153X6iq3rm3IPl8JyTl8taOAvc7z/jwl4zMy9sK6kZcAmkBr8pK23JbV77fmoKe90s/z1Y/BZXi03inrkLnU1S2FTflvMctjWnpJyXv+SQqwvUZ8wBPuqicGCWq/mdfqq398Lvwez497/o76evFoS/SStVyz8fv+jgevukmS//R3XfeO4jTWq/P1XC39WxsSM19TjJc+mcsxXTd2tNaZJ/a6cKfnnmr56y4evf5SdKLj2tqRrjmX73VWt2VNDK/OB4/h+WbZvprxTwXLsqlAvdh2e6S5p1it752tHasAjVnb0Gpcauv5sP/mLQAMCBIYNIHEIAkdZYHNmRJmsWWJSajAwNEuRM3owV66+4ZwfU3//qMxXSf9UB4YpdWXHNB8EjOXCc/WnBv3AcWNS2dSwpp2yytPDSmUn5R2+8VqDXVk9L/gHlFdfazhd+UXcW07T26v+kZw2bBmFMfWmR5SzgWZ5VYVVm+DFAsP5UaXTw5peDcrfyGkkndZIzj1+h/bL/4V+pFKZVgurQTiZpMNnCCCAAAIIIIDAIQjsEBjOjabVO2bjQqctzRgYPl/XRDavjj8rgZwJgcwS0fvzTpDjdeOrt1S0/eFaEPxsa+FxQae7l7Vgvn9fUtv1oibWgyXO5a9aWLFzF+NlmRNMGJVXW/eSHr3fdqC2VZxd15q995wvqc0Ei8ERJrA5myro4uBq5RjnbO+lCaTMMT3LWig7S65nS2q9/lFTXhu/a222pItXlvTCe37ehu6n8rr1l01At7X2/msw+zIpOIv1KRKCyVvSXbUkeX1duSXb1296kXVnIfrltT+2N9nfvDJOu88w9Npf1IuVf/0er6+q77pps3WOQmz9/VFnw/6aMVpWhwn3wmcY/v/27ua1qezx47j/RZcuXbp06dKlS5eCC2fhQjeXIUKQgETIIl100UUEI4gWhjJ0UQQXFYrUnxQJ2EW7yBcrJI1pjS2tbTUuPj/OuQ855+amibEz04f3wJDk5t7z8Lr3yzfz6Xn4qdrjhq4YS3vpvlafNjXxcCv6nNXvuI7w2onE+IcOt2Iv6XBjW6s7UTu725oOTCAc3QvPKuVonws3JA1Dul6bw+fQttk+I9+1vdW7Z0c9O8M9hjzjCtsy9PmLiXhFYAQBAsMRkDgFgVMrYKciRwHdiIGhmYpciOepHPGDM8skKzD0l0A0oWWg8NiuFsuBKkli2NVyJVB5MfwhYgLBwpy/4ODasyA5ZkcoFmblnWH+au4Ghl4j3cCwq1qlf71FG1hOLYWBpR1hGLc1Lsht/7rmCiZgjH84xefwigACCCCAAAII/IcCA3+/rWkmX1b0U8tv4IkMDPekD21dDtph6GdabII/+zkV5JjjTnAXdm5HT+41NGmGd9XbuuoGhl7vU2XZ78LA8I832WFX73I/tLKjze7FI8p6Z3nvTCBlgsA4R7Jfhusy3n0TB3bmYBiOhsfCvvQCQ7dEvw3hN6k+eSHYgMDQLTIKn5IgzPilfXe29EcSGH634W46hDRrJV5IAj63guzzTUCY1GnDudQI061N3UhGnWb1O6rDTFtP2ubWm/3erImZtN2zSjkOCwwzn8PsOsNQOg4fR/DILNt5xuN7Nuz5G9QcjiOQIUBgmIHCIQTOhsCBatW8ppL5wyOMMGzPq5SfUbyszZFTWjKQ+gNDfwqwbGjZC+F2l6Z605LtdOQ43DSDG6NpxWZqsftvlEDawNBPIyUdaH1uSrlcTqXqglba8Z9/TWPdwNAN/pyOmB/LQVXhNi/u+fE5/nUH63OayuWUK1W1sNL2p1fHl/CKAAIIIIAAAgj8mwIDAkO7tEw8kyPdnpMaGGpbk3caevIpbLAJlMIRh6kgxwt5ep3rBUGHWn2+oUu3G7oxtam3yUg6c26qLHv5oDBqX6uvPuvmvYauRFOYLzrBVN/01F5Teu8y2xq2IZzqGk2bjqYGx0HWYb1tR+Bduv9ZL97vOWs7ZrU11adUnT2XXrO01dH0w6auRv266o72S10fXuXWm6ovLnZjU9fTQaP9Lvt8z89e61u4U4H9wC2uMHodWK/53oze3LLTr+N7aKYtx87y+ppup9vnsC6vzd61qTbpqGcnXc/oZbv30mtLuno+IzCGAIHhGGhcgsBpEDioVZVPRsuZFvuBoQ3ckiDOhGRtzZd6U35tHwf84BzU/18NDGVDwnBash3d56xp6JfVX2N2YBid121rZaGqUi5QcbYeBXluAOgHf0npvxgYhtd11V5ZULWUU1CcVd3NKJOCeYMAAggggAACCPxLApm/38LZFb2ZHam2nNjAUDI7GF+2u9B+1eSdeIpuKmAZENS4YYrtcXdPb+c/67rZNOXpdhS6pcqyJ/YHQyZoMoHl5fIXtZKpxP55IwU2mW3NakPqHtmP39V6v6lHZl3FoK2a/d3ptyG8ak8v7DTbqIxUnX0u0WjB6dXe9G+vL6nrw1Ldege0f2Bwl32+V+fAa6M+ZYz2i7/RUdfGU6ed0Njz8Pqabqfb57A2r83etUlrbEh59LOTrmf0st22e21xq+c9AmMKEBiOCcdlCJx0gYEj9ExI2Dcyz+SJZnRdajRf8jk9UjC7937I5wZ08fnpoC7+8bprpyNXwl899uTmXLE3+jC+3Hk9MjCMz7PrJGaPGPTbGl4QrqG4oHBrlVHaH1dkXsMp1lm07lm8RwABBBBAAAEE/lGBrMDQrA0dVKKAKaP2ExwYxuHP6zctXUx2TU4FLJkBUThd89GHjP7ubOlmMvItVZY9vT8YyhyJ6E3LTa9nl1GvOZQZKoVTUq8+twsWDrjQPezu7JzR1u4X3U02aumv0w2ZbKkZbfKmB2dNSbZ1xFNqwynVySi9qKl2SvKDTbXcptv32VNwTTicTEm204rNepV9F0cHMvodn+q1LT4YvvaHavt2/cuk7Z5F+tnor9MrL8vJVpsux2wiM3xKt+cxwjPutcXvNp8QGEuAwHAsNi5C4DQK+CMMR+pB+gfnL296kg4a04GhZKfHTE31/4i1P2zzqizHU327OuisqxktGThKYLi7NqNiPl7nMBUARpueLHmbnpg1Fd1NT4a3P3HcXdNMMa9Zb1HF5FveIIAAAggggAAC/45A+veb+bPmYln5mbXB9Z/kwDBay8/sVDz5Id4kJB3AhBtCXH+a2vTEXf8w6f1PmV1yr92J1xqMAqO/9pIzsqe7hiGXGZlo/+l+sxuDuBt/jBTYeIGUU6UZ+XarqSfJKD+zscmOWlmzV3a+ajJoaNqGaaGFuyGJ3RzkiMDQjnab6vSmNdugq6WXzoYr/gYk4aYr/XXEgaGkeOReatOTuwPWgTx819KEu+nJ1hf9aXZYTm16MmF2g042KDnQx0/xdOz+8K6n+V216YYuP4w3lvmpw609uxGNDTGDtlat6w+13rR09dYxTUnWnt2U59rjr9GmNz90+OmbtjX82RnuMfwZH+n56yHxDoGhAgSGQ4k4AYGzIvD7gWG3VlUumA53Oc5g8UftpQI6e35/YBiuLZg96rHbXAqn+kYjHXPFKS1GG/tlBobrcyrlc8mah7liRYvRLsv+GoZh43fXZlWOz8+VVF1uO70a1v51zZXyysWjMHNFVRabrGPoCPIWAQQQQAABBP4Dgb7A0Pz+yuuovNDONCktyP0l9B+0PKkyPQIuDFPaqiVnpANDSd1d/V1u6lK09t+1h23V4o1F6m1dN2FU9N2loKW/P0W75Eo6rEc79N6K10gcEEZtbOnuvbCcidtNTb7b1t8Pe6HZSIHNoMDQrK33oa0/ovJNW688aOutHXS4rSf3G7oYtd/UffeVs/GeaVfQkAlV7Xevt22Y+eh9BJau0+xgHNVz0U73PlTtqWNX3tTqu7YuJ+GdZNY4nDRToaM6Hr35qhcPen23awN+aOtm5Gza8eiNG8ImNy96c6jV+ZaumbUSTV8ftrX65rMm3Dq1r9rzjeScC7cbumnCOFvCgHuUVPNNbx83ZdYnNOVfvGMCUfPlnrWJLW887mj11cbxrGFoit/f1gvnObxkwklzfMizI43gcdQzHm964vklGLxBYCwBAsOx2LgIAQQQQAABBBBAAAEEEEAAAQQQQACBsylAYHg27yu9QgABBBBAAAEEEEAAAQQQQAABBBBAYCwBAsOx2LgIAQQQQAABBBBAAAEEEEAAAQQQQACBsylAYHg27yu9QgABBBBAAAEEEEAAAQQQQAABBBBAYCwBAsOx2LgIAQQQQAABBBBAAAEEEEAAAQQQQACBsylAYHg27yu9QgABBBBAAAEEEEAAAQQQQAABBBBAYCwBAsOx2LgIAQQQQAABBBBAAAEEEEAAAQQQQACBsylAYHg27yu9QgABBBBAAAEEEEAAAQQQQAABBBBAYCwBAsOx2LgIAQQQQAABBBBAAAEEEEAAAQQQQACBsylAYHg27yu9QgABBBBAAAEEEEAAAQQQQAABBBBAYCwBAsOx2LgIAQQQQAABBBBAAAEEEEAAAQQQQACBsylAYHg27yu9QgABBBBAAAEEEEAAAQQQQAABBBBAYCwBAsOx2LgIAQQQQAABBBBAAAEEEEAAAQQQQACBsylAYHg27yu9QgABBBBAAAEEEEAAAQQQQAABBBBAYCwBAsOx2LgIAQQQQAABBBBAAAEEEEAAAQQQQACBsylAYHg27yu9OsMCOzs74l8MeAZ4BngGeAZ4BngGeAZ4BngGeAbOwjNwhv/Tja4hcKoFCAxP9e2j8QgggAACCCCAAAIIIIAAAggggAACCByvAIHh8XpSGgIIIIAAAggggAACCCCAAAIIIIAAAqdagMDwVN8+Go8AAggggAACCCCAAAIIIIAAAggggMDxChAYHq8npSGAAAIIIIAAAggggAACCCCAAAIIIHCqBQgMT/Xto/EIIIAAAggggAACCCCAAAIIIIAAAggcrwCB4fF6UhoCCCCAAAIIIIAAAggggAACCCCAAAKnWoDA8FTfPhqPAAIIIIAAAggggAACCCCAAAIIIIDA8QoQGB6vJ6UhgAACCCCAAAIIIIAAAggggAACCCBwqgUIDE/17aPxCCCAAAIIIIAAAggggAACCCCAAAIIHK8AgeHxelIaAggggAACCCCAAAIIIIAAAggggAACp1qAwPBU3z4ajwACCCCAAAIIIIAAAggggAACCCCAwPEKEBgeryelIYAAAggggAACCCCAAAIIIIAAAgggcKoFCAxP9e2j8QgggAACCCCAAAIIIIAAAggggAACCByvAIHh8XpSGgIIIIAAAggggAACCCCAAAIIIIAAAqdagMDwVN8+Go8AAggggAACCCCAAAIIIIAAAggggMDxChAYHq8npSGAwEkWOFjX8vK6ukPbeKD15WWtDz9xaEmcgAACCCCAAAIIIIDAfyrw/rMu3N9U61gb8VWPbjX1YuP4Cm3NN3Vh6uuIBR5//bZiz+qntt9t6e2O06SNLd2919CFWw1dLHfUqn/Ry/qhc8Lxvf01j+Orl5IQiAUIDGMJXhE44wLdtWfKByUttI/q6IqqQaDA+7eqlaMuSX+3W9ditax8Lionl1e5uqj1g/SJ/8HntWcK8rNaH1r1mp4Fec0OP3FoSb99QntBpeAX74FbaXdZldKCvNuedcy9hvcIIIAAAgggcDoFDtY1V84pqA7+9dZeKCk/s+b0r6PlakFB+veCc8a//fbtVBjITH74mVH1T8XfP3qf8fUYhz4+b+i4yhqj+n/+Ei8Ekw7ftHR9fu836z3+wO7XArLjr9+CeFbf9PeDhv54vR9Z7evlQ/fzT60+beji41FDzl8j/zWPXyubsxEYRYDAcBQlzkHgtAscrKhaKKpYGBIYdhZUDp7J/Qn5S11vL6qcy6k0U1PzIBye1z1oqvasqCBf1cpJCA1/qUMn4OTfDAxtUJz6D4CsYyegpzQBAQQQQAABBH5HoLOsaqGg6enSEYFhU3PFvGbqUUVRwFicnlIh9Xvhd5ryu9eaQPDmgw1NlDvqG7vV7ejP2w1du3dcIV8YCp2fwPCHatMNAsNBD6kXGKZP+odCynQ10WcCwwEwHP7XBAgM/zVqKkLgvxI40Eq1oPLCihZKQwJDE04d8WOxW6soCKa1tJvVl65qlUD56krGlN8DLZvvkr9mm5GMJkBc02wpZ0c0hn8I76g2U1I+X1AhHx4PcgUVppfUMVV2m1pyRi/mChUtJEMX21ooFTVfX9NsOa+cGSVpRjfOrinJKVeqvb+ed5Y0XSioEP9r6kv6btrXszJ/iS/O17U2G4+czClfntVaUrDUqc2olM+rUIjqDnIqFKa1ZBvue3WbS6rGbTTnVRYGj8AcFhgerGuhUgz7myqrs1xV0Tqatpi+zmo541gYEIf21i1VjmRsjUdbS5WCrau08H+ayTv/wRF1sTlXVFCpZTwDvgGfEEAAAQQQQOA4Bbpam5nSzNquZH7vDBphuD6nQnFOzajq9sK0pheb6g75DXicLR2lLBMYXn/e1t1bLb1OLRGz/WpDlx9v6cX9VGC4v60X5aYu3QpHJ14rb2o1Hhimn/r4uqVrt8PvLtxu6ObTrzrUtp7cb9hrLt5p6Oq9hu6+/ibJBEOf9Xb/q6bvNzRxK65rX7XnG0k5E7ebmnxnzg//MQGPGbmX1JU1DdgEUlNfdfihrRu2PZ/11l5upr9+jo41dPFeSy/cqa5mKmwQtsVMh73yoK2a7V9WiLXn+yQh2De9nmrqyu2GJm6H/b36NBod9+mLHj1o6GKmn6SdnkXY7y+avONOSQ7bf/NOaJy2iY16rz/08VXvnpj79favDWvTO+eb3j4edE+z+t27UgqvNX2104fvfFY8UHD7Q1t/OJY3Hne0HV+aWJkDjuOnTcV9M+VdiKZj94V6qefw0v22Vm3ZRz870ggeqbL9Z1wa6fmL+8krAiMIEBiOgMQpCJxmgYOVqgplMyU1Dn2O6E19RvkkNMs4rz6nUmlGa6kfbuGZZhpvQXODpvGaH6/5GYV/0DaBXFHFUlnzzV5hu0tTCirLivPI3eWKgqml5LO0q/V6Owmj7PdJe03/AgWFqpY7UZm7NVXdUMsNDL3uhYFmaT6euNsfGAZBQdXlTlT3rmrVvPLxn+d3lzQVVLTca7gqwdSAYFXS7rrq7bjfuzZMLQ2aK35kYLirpamcynP1yKir5nxZQWm+NwU5q88Zx+ozeeWrtaicXdVnS469sc2rWCypWttN/E042AuBDWg0amHsIareTeEDAggggAACCIwjYP5/fkBguDaTV3Eujgudwk9iYDi/o9flhm6+6gVyJgQyU0Sf1J0gx3bjm50qeuP5dhT8fNfHv5qauL+pj+b7T21du9PS651oinP3mz5uxWMX02WZC0wY1dC1+xt68em7A/VdrdUdbcc/4+ptXTPBYnSGCWwuB01dn+r0znGutm9NIGXOebCpj11nyvVqW1fufNZb28af2l5t6/qtDb206+ft6knQ0J/v4gT0u7Y/fYtGX2YFZ6k+eSGY7JTuvinJOzuqbcR93dfLsjsKMSzvxl/xj919W8aEu4ahbX9LL7d+hD3e6ejRHdPm2NmHOHz/WZeT/pp7tKmbJtxL1jD8qdrjhq4YS3vpvlafNjXxcCv6nNXvuI7w2onE+IcOt2Iv6XBjW6s7UTu725oOTCAc3QvPKuVonws3JA1Dul6bw+fQttk+I9+1vdW7Z0c9O8M9hjzjCtsy9PmLiXhFYAQBAsMRkDgFgVMrYKcix8HVCIGhWeMvl4tGqwXK5cuqLjWTgOhIBxtslbWQMaLOXucFXyaQCzS97AzRk/mDeCAvOPOuyajd+z4MDL3r02VmBGWm1AMTTBbnnLUNMwLDJJiM2uGW5b4PO2vDywG/1fs6YkYwDvphL6+PqUubcyr2rW+4rrmCM/Kvr20WxRlNaco0/a1oOf7xaw7Z6enxsdC2kF7U0batolp8nRm1kJ8Zf0p7qnt8RAABBBBAAIExBMz/92f+CFnTTL6sxTjzcYs2/5+e/q3jfv8vv7cjDM0aex/auhy0w9DPtMEEf/ZzKsgxx53gLmzujp7ca2jSDO+qt3XVDQy9/qTKst+FgeEfb7LDrt7lfmhlR5vdi0eU9c7y3plAygSBcY5kvwzXZbz7Jg7szMEwHA2PhX3pBYZuiX4bwm9SffJCsAGBoVtkFD4lQZjxS/vubOmPJDD8bsPddAhp1kq8kAR8bgXZ55uAMKnThnOpEaZbm7qRjDrN6ndUh5m2nrTNrTf7ffK8ma89q5TjsMAw8znMrjMMpePwcQSPzLKdZzy+Z8Oev0HN4TgCGQIEhhkoHELgbAgc2FFwU8n84RECQzPrtxunP1K3vaxKPlAlSYSOkLHh0a8Ehr0pv3Gpu4tlO8IwjhFNkJebdkYYdjuqzU6pVMgrb6fYmmnL8YYgYaiV/n3shZBZ4dmBGYVYTI2MzAgM+wvuhW67iyqbwK3XcFVyg6ZuS91OTbNTJRXsFOaCCmaDmHT5McpRgWFWf0YJSdPX2TrSm92Yz/E9yrY1Iz4Xy73nw4xSLAwcYhp3iFcEEEAAAQQQ+EcFBgSGdmmZ8qIzc8NpxUkNDLWtyTsNPfkUttUESuGIw1SQ44U8vX71gqBDrT7f0KXbDd2Y2tTbZCSdOTdVlr18UBi1r9VXn3XzXkNXoinMF51gqm96aq8pvXeZbQ3bEE51jaZNR1OD4xDusN62I/Au3f+sF+/3nLUds9qa6lOqzp5Lr1na6mj6YVNXo35ddUf7pa4Pr3LrTdUXF7uxqevpoNF+l32+52ev9S3cqcB+4BZXGL0OrNd8b0Zvbtnp1/E9NNOWY+ffCgwzneK2HfXsjOAxoGz3Xnp+cbW8IvAbAgSGv4HHpQicZIGDWlV5bzqvHxjaUW3Jbshx6Nbfo/Z8cXCY5Z3+q1OS4zDKLaStBbOzn1m30ASC3jqBZvptoNJsXbtxpumFadmh1tGBYRiqFvtCrl8MDCW1F8rK2XULTdvLmnUXOHS7aKcvlzRb703tHXuEYTr4i+o5us8ZIww9R7ex8ftsW/Ot/Y8P+5zVNWOC14xZTnEpvCKAAAIIIIDAvyCQGRiGa01XvOkETltObGAomR2ML9tdaL9q8k48RTcVsIwQptjedvf0dv6zrptNU55uR6Fbqix7ohuGxU7hNNfL5S9qJVOJ/fNGCmwy25rVhrhe9/W7Wu839cisqxi0ozsyKD4AABu7SURBVFkefhvCs/f0wk6zja5N1emGTPaMaLTg9Gpv+rfXl9T1YaluvQPaPzC4yz7fq3PgtVGfMkb7xd/oqGvjqdNOaOx5eH1Nt9Ptc1ib12bv2qQ1NqQ0YffgZyddz+hlu2332uJWz3sExhQgMBwTjssQOOkCJjQKkkAw9X7QaLaMTq3PFRQ8G2VRumjTk2RjE7ewMJhL1vyzU2AzAsPOosrOQtxuCeG02dQ1Zs3F3xhhaEPVZF1Ft7ZfDQw7WiyPGJZlhHxmZN5YIwwzgz4zJTlQcssy6rOLobvTjro1VY5af9Kufxko+7Ex05umtFQbsv6ly8t7BBBAAAEEEPjnBLICw2i95YGTRk5wYBiHP6/ftHQx2TU5FbBkBkThdM1HHzKod7Z0Mxn5lirLnt4fDGWORPSm5abXs8uo1xzKDJXCKalXn9sFCwdc6B52d3bOaGv3i+4mG7X01+mGTLbUjDZ504OzpiTbOuIpteGU6mSUXtRUOyX5waZabtPt++wpuCYcTqYk22nFZr3KvoujAxn9jk/12hYfDF/7Q7V9u/5l0nbPIv1s9NfplZflZKtNl2M2kRk+pdvzGOEZ99rid5tPCIwlQGA4FhsXIXAaBfwRhlk9aK4saz3eMERd7dbnVA6c9fCO3PTEbOaxpOlcTuXZFcV7enQPmqo9KyrIm12R41r9QC4+qu6anuX9cDNXincjDoOwSryzyG5dc2Y04riBoVnf0d0QJWmEeeO3L3MEoBfEdbX2LO8HtLlS9ihDs86fs0GKNR53SrKcUZe2/dGmJ+56jCZUzVdVS+zNOj79x2xoWZ5TPR6+2T1QsxlvMDN4hKGp1m6Yks+rnLkokgfLBwQQQAABBBD4pwUyAkOz7Iu/UVmqESc5MIzW8jM7FU9+iDcJSQcw4YYQ15+mNj1x1z9MuvxTZpfca3fitQajwOivveSM7OmuYchlRibaf7rf7MYg7sYfIwU2XiDlVGlGvt1q6kkyys9sbLKjVjyzxjnV7Fg8GTQ0bcO00MLdkMRuDnJEYGhHu011etOabdDV0ktnwxV/A5Jw05X+OuLAUFI8ci+16cndAetAHr5racLd9GTri/40OyynNj2ZMLtBJxuUHOjjp3g6dn941yP6rtp0Q5cfxhvL/NTh1p7diMaGmEFbq9b1h1pvWrp665imJGvPbspz7fHXaNObHzr89E3bGv7sDPcY/oyP9Pz1kHiHwFABAsOhRJyAwFkRGB4YtmtVlfMmhDOhXU75UkUL9d7K2N1aVblg8Np8Vmq3rsVqWXkTgplycnmVq4tadwOrVCAXCq9rrljUzFqvPqmr+mwxGeF4sDarUlRurlDRwnpNMyaItAVkh1qDpud2Fsq2j3bqs10P0Uwlno027Pi1wHB9rqjizJq3JlC3Pqti8CxjA5ADrc2Woo1lcipUFrRuRudlD98zc51Vyhgpmmzu0m1qsVLslTc1J382tNnRuRB+n4s3JMk+tjY3Fa6nGN+3pE/Ztsn/MmwIGm+ukxzlDQIIIIAAAgj8FwJ9gaH5//G8MieBxO070YGhFIYpbdXi9matO9jd1d/lpi5Fa/9de9hWLd5YpN7WdRNGRd9dClr6+1O0S66kw3q0Q++teI3EAWHUxpbu3gvLmbjd1OS7bf39sBeajRTYDAoMzdp6H9r6IyrftPXKg7be2kGH23pyv6GLUftN3XdfOb+ZTbuChkyoar97vW3DzEfvI7B0nWYH46iei3a696FqTx278qZW37V1OQnvJLPG4aSZCh3V8ejNV7140Ou7XRvwQ1s3I2fTjkdv3BA2uXnRm0Otzrd0zayVaPr6sK3VN5814dapfdWebyTnXLjd0E0TxtkSBtyjpJpvevu4KbM+oSn/4h0TiJov96xNbHnjcUerrzaOZw1DU/z+tl44z+ElE06a40OeHWkEj6Oe8XjTE88vweANAmMJEBiOxcZFCCBw7ALmh2pxXu10wbVBO/2lT/yvPpsf4UXN9zdc1WT043/Vtn+n3nCzmtpou2n/O02iFgQQQAABBBBAAAEEEEAAgd8QIDD8DTwuRQCBYxSw05nLmm868y6iace9nZ6Psb5jK2pXS9M5leebTmC2q/pcWTlv05ljq/BkFbRrdpl2pq2frNbRGgQQQAABBBBAAAEEEEAAgTEECAzHQOMSBBD4ZwQO1uY0Vcgply+okMspVyhrptZxgrh/pt7fLvVgTXNTBeVyeRVM+3MFlWdqSpaD/O0KTmIBZtq2mXJeUGWpb3jlSWwwbUIAAQQQQAABBBBAAAEEEBhRgMBwRChOQwABBBBAAAEEEEAAAQQQQAABBBBA4DwIEBieh7tMHxFAAAEEEEAAAQQQQAABBBBAAAEEEBhRgMBwRChOQwABBBBAAAEEEEAAAQQQQAABBBBA4DwIEBieh7tMHxFAAAEEEEAAAQQQQAABBBBAAAEEEBhRgMBwRChOQwABBBBAAAEEEEAAAQQQQAABBBBA4DwIEBieh7tMHxFAAAEEEEAAAQQQQAABBBBAAAEEEBhRgMBwRChOQwABBBBAAAEEEEAAAQQQQAABBBBA4DwIEBieh7tMHxFAAAEEEEAAAQQQQAABBBBAAAEEEBhRgMBwRChOQwABBBBAAAEEEEAAAQQQQAABBBBA4DwIEBieh7tMHxFAAAEEEEAAAQQQQAABBBBAAAEEEBhRgMBwRChOQwABBBBAAAEEEEAAAQQQQAABBBBA4DwIEBieh7tMHxFAAAEEEEAAAQQQQAABBBBAAAEEEBhRgMBwRChOQ+CkCOzs7Ih/MeAZ4BngGeAZ4BngGeAZ4BngGeAZOAvPwEn57yzagQACvgCBoe/BJwQQQAABBBBAAAEEEEAAAQQQQAABBM61AIHhub79dB4BBBBAAAEEEEAAAQQQQAABBBBAAAFfgMDQ9+ATAggggAACCCCAAAIIIIAAAggggAAC51qAwPBc3346jwACCCCAAAIIIIAAAggggAACCCCAgC9AYOh78AkBBBBAAAEEEEAAAQQQQAABBBBAAIFzLUBgeK5vP51HAAEEEEAAAQQQQAABBBBAAAEEEEDAFyAw9D34hAACCCCAAAIIIIAAAggggAACCCCAwLkWIDA817efziOAAAIIIIAAAggggAACCCCAAAIIIOALEBj6HnxCAAEEEEAAAQQQQAABBBBAAAEEEEDgXAsQGJ7r20/nEUAAAQQQQAABBBBAAAEEEEAAAQQQ8AUIDH0PPiGAAAIIIIAAAggggAACCCCAAAIIIHCuBQgMz/Xtp/MIIIAAAggggAACCCCAAAIIIIAAAgj4AgSGvgefEEAAAQQQQAABBBBAAAEEEEAAAQQQONcCBIbn+vbTeQQQQAABBBBAAAEEEEAAAQQQQAABBHwBAkPfg08IIIAAAggggAACCCCAAAIIIIAAAgicawECw3N9++k8Ascv0F4oKaiuHH/BJ7DETm1RK7snsGE0CQEEEEAAAQQQQACBWOD9Z124v6lW/PlYXr/q0a2mXmwcS2G2kNZ8Uxemvo5Y4PHXbyv2rH5q+92W3u44TdrY0t17DV241dDFcket+he9rB86Jxzf21/zOL56KQmBWIDAMJbgFYEzLtBde6Z8UNJCe1hHD7S+WFU5n1MQBAqCqtLx3259UdVyXjn7faBcvqSpuTUdSDoZgeG65gr97fZ6vlKN+mf6GCjIFVSuLmrddGKkfzpaKAeaXvqFxLC7rEppQUNvwUj1cxICCCCAAAIIIJASOFjXXDl35B9vzW+1/Myac2FHy9WCghP0G+XtVBjITH746bQzfvtT8feP3sfHfu/14/OGjqus32vJP3S1F4JJh29auj6/95uVHX9g92sB2fHXb0E8q2/6+0FDf7zej6z29fKh+/mnVp82dPHxqCHnr5H/msevlc3ZCIwiQGA4ihLnIHDaBQ5WVC0UVSwMCwy7WnuWV1CeU323m9nr9kJZQa6kmVpTB/aUrg6addXWw+DsRASGnQWVM4JOr0MmMHR+GHd361qYziuYWtIvRIBekcM+2NDWqXPY+XyPAAIIIIAAAgiMLNBZVrVQ0PT0UbM9mpor5jVTj0qNAsbi9JQKJ+g3igkEbz7Y0ES5o76xW92O/rzd0LV7xxXyhaHQ+QkMf6g23SAwHPQ/LC8wTJ/0D4WU6WqizwSGA2A4/K8JEBj+a9RUhMB/JXCglWpB5YUVLZSGBIbNORWDipYHjbLbXVQ5KGpufXBf+gPDjmozZeVz4Ui+XGlGtY5zfXtJlWI8mjGnfHlWa0n95tpSNJIxp0JlwRsB2F6qqBiVG+TyKs+u6aA+r1LBlJdTvlBQoTCtJbe+uOpUYGgPt+dVdILGg/WFXttyBVUW1u0oyrCIthZKgZLZ16a8ak1Np025YkVL0XDCznJVRTtqM6eCbdeszN/2M/sQt5FXBBBAAAEEEEBgJIGu1mamNLO2K9nfJOn5IVEh63MqFOfUjD62F6Y1vdhUt72g0gkLDK8/b+vurZZep/6Gvf1qQ5cfb+nF/VRguL+tF+WmLt0KRydeK29qNR4Ypp/6+Lqla7fD7y7cbujm06861Lae3G/Yay7eaejqvYbuvv4myQRDn/V2/6um7zc0cSuua1+15xtJORO3m5p8Z84P/zEBjxm5l9SVNQ3YBFJTX3X4oa0btj2f9dZebqa/fo6ONXTxXksv3KmuZipsELbFTIe98qCtmu1fVoi15/skIdg3vZ5q6srthiZuh/29+jQaHffpix49aOhipp+knZ5F2O8vmrzjTkkO23/zTmictomNeq8/9PFV756Y+/X2r43UlORvevt40D3N6nevdCm81vTVTh++81nxQMHtD2394VjeeNzRdnxpYmUOOI6fNhX3zZR3IZqO3RfqpZ7DS/fbWrVlH/3sSCN4pMr2n3FppOcv7ievCIwgQGA4AhKnIHCaBQ5WqiqUzTRYE3AdHRh2zOjBam1gd+335cUjR+ClA8P6TF75yrI60WjE3VpV+XxVNRsKhn/lrtbiMX1ddZqdJJSz11ZrUX27qs+WeiMATbhpykku7ajZiZJG86PXCf4yO5QVGJof0cEzG+Rpd0lTubLm6lEF3abmy4FK8/GE4ozAMMipPFeP2ttVc95pr2lEus6j+pDZaA4igAACCCCAAAJDBI4IDNdm8irOxXGhU85JDAznd/S63NDNV71AzoRAZorok7oT5NhufLNTRW88346Cn+/6+FdTE/c39dF8/6mta3daer0TTXHuftPHrXjsYrosc4EJoxq6dn9DLz59d6C+q7W6o+04xKy3dc0Ei9EZJrC5HDR1farTO8e52r41gZQ558GmPnadKderbV2581lvbRt/anu1reu3NvTSrp+3qydBQ3++ixPQ79r+9C0afZkVnKX65IVgslO6+6Yk7+yothH3dV8vy+4oxLC8G3/FP7z3bRkT7hqGtv0tvdz6EfZ4p6NHd0ybY2cf4vD9Z11O+mvu0aZumnAvWcPwp2qPG7piLO2l+1p92tTEw63oc1a/4zrCaycS4x863Iq9pMONba3uRO3sbms6MIFwdC88q5SjfS7ckDQM6XptDp9D22b7jHzX9lbvnh317Az3GPKMK2zL0OcvJuIVgREECAxHQOIUBE6tgJ2KPKVwmb3hgeFKNVBpdlkLlYJyuZxyQU6lmZriAXrm+2EbmniBYbemSt+6iV0tVwJN2UaZtQbz6gWGrvSKqma0Y/yDzHxlpxpHx0y45waG7qVjBIbdTl1z5UD5Z2syVTbniv19tXXOKJzFkxUYptZNTLcjHRge1Qe3P7xHAAEEEEAAAQRGFRgYGK5pJl/WYpz5uOWdyMBwT/rQ1uWgHYZ+pr0m+LOfU0GOOe4Ed2HXdvTkXkOTZnhXva2rbmDo9t0dRZYcDwPDP95kh13JaakAyY42uxePKOud5b0zgZQJAuMcyX4Zrst4900c2JmDYTgaHgv70gsM3RKzgrOUjxeCDQgM3SKj8CkJwoxf2ndnS38kgeF3G+6mQ0izVuKFJOBzK8g+3wSESZ3WNjXCdGtTN5JRp1n9juow09aTtrn1Zr83U+CTtntWKcfU/TaleSMMM5/D7DrDUDoOH0fwyCzbecbjtgx7/gY1h+MIZAgQGGagcAiBsyFwoFo1HwVzpkejBYZBvqLlcDigSei0OBUkf4n+5cAwHZhFsG6oeLA+pykTTpaqWlhp27DOnmavjTYkiTZXCTdhiUdJHmh9bsoGm6XqglbaTrI4oF7vvpof0065uXxZ1cV4dKAZDBio1LdDjAkx4/ozAsP0VJ50O9KBoY7og9dYPiCAAAIIIIAAAiMKDAgMu7WKgkEzRcxvlvTvmBGr+ydO6wU425q809CTT2EtJlAKRxymghwv5Om1qFfOoVafb+jS7YZuTG3qbTKSzpybKstePiiM2tfqq8+6ea+hK9EU5otOMOWFR71m+O8y2xq2IZzqGk2bjqYGx0HWYb1tR+Bduv9ZL97vOWs7ZrU11adUnT0Xp2lbHU0/bOpq1K+r7mi/1PXhVW69qfriYjc2dT0dNNrvss/3/Oy1voU7FdgP3OIKo9eB9ZrvzejNLTv9Or6HZtpy7Cyvr+l2un0O6/La7F2bapOOenbS9Yxetnsvvbakq+czAmMIEBiOgcYlCJwGgQMz9dfbwMMPDG1olwRm4ci4zJDM/OgsL9hRhnZKsldmv4QbBiodmEWne+fYY121VxZULeUUFGdVN9nfgGv7auy2tbJQVSkXqDhbDwPHUa7tC+/8kjMtdNyBYVRnVh/85vAJAQQQQAABBBAYTSAzMOyqVglU8aZuOMWd2MBQMjsYX7a70H7V5J14im4qYBkQ1Lhhiu1td09v5z/rutk05el2FLqlyrIn9gdDJmgygeXl8he1kqnE/nkjBTaZbc1qg3N/krff1Xq/qUdmXcWgrZr9e7nfhvDUPb2w02yjC1N19rlEowWnV3vTv72+pK4PS3XrHdD+gcFd9vlenQOvjTHc+uNj0etR18ZTp53Q2PPw+ppuZ3+dXpu9a902DXt20vWE145Sttt273y3et4jMKYAgeGYcFyGwEkXsKMBk0AwNVIv2anD74UJBPMzZiuO3j/d5Yq/bmBQUrKMX++05J0fBroBW3xKOCW5vBBPdI6Pm9ddLZajjUTsdObCkRusuFfKbsgSTQk+hsDQ70dUk7vGoR2xmdr0JP2X+XQ7hoSUXh+8zvEBAQQQQAABBBAYUSArMDRrMweVKGDKKOcEB4aKwp/Xb1q6mOyanApYMgOicLrmow8Z/d3Z0s1k5FuqLHt6fzCUORLRm5abmp6aUa09lBkqhVNSrz63CxYOutI57u7snNHW7hfdTTZqkfxRcxlTkjPa5E0PzpqSbOuIp9SGU6qTUXpRS+2U5AebajktD99mT8E14XAyJdlOKzbrVfZdHB3I6Hd8qte2+GD42h+q7dv1L5O2exbpZ6O/Tq+8LCdbbbocs4nM8CndnscIz7jXFr/bfEJgLAECw7HYuAiB0yjgjzDM7MHBsiq5YrjDnjlh16zrl3OmNZsd+AoK8tOaW2nqwP5Vs6uD3Y7a0TTmdNAWbnqy5G96Mmgn5t01zRTzmo12YTbXBuU51Xej6cbdAzWbzrRlpxO7azMq5mdlL7U/io8ONvs2IHHKsm+jMmZTm54Uky2ix5iSXJ9xNnxJVyh5fej/miMIIIAAAggggMBwgYzAcHex/4/CXkEnOTCM1vIzOxVPfog3CUkHMOGGENefpjY9cdc/TDr8U2aX3Gt34rUGo8Dor73kjOzprmHIZUYm2n+63+zGIO7GHyMFNl4g5VRpRr7daupJMsrPbGyyo1b0M9g50+5YPBk0NG3DtNDC3ZDEbg5yRGBoR0pOdXrTmm3Q1dJLZ8MVfwOScNOV/jriwFBSPHIvtenJ3QHrQB6+a2nC3fRk64v+NDsspzY9mTC7QScblBzo46d4OnZ/eNcz+q7adEOXH8Yby/zU4dae3YjGhphBW6vW9Ydab1q6euuYpiRrz27Kc+3x12jTmx86/PRN2xr+7Az3GP6Mj/T89ZB4h8BQAQLDoUScgMBZERghMJTUbS6qUsyF6/vlCqosrCe7FocSXXVqMyoXonOCQLl8Sc+i7YrTgaEZNbg2W1Y+F45yNGsVLscbDWtdc6W8cvFIyFxRlcVmbx1Dc+3clArRtUEur/LMWrgL8fqcSnmnDcWKFpvxL6qu1uenonLLWswazDhstF+GxdTcmmMxRmCoXdWqhbBduRmtHdmHs/Lc0Q8EEEAAAQQQ+FcF+gJD85slr9QkEr9JJzowlMIwpa1a0up0YGh+uO3q73JTl6K1/649bKsWbyxSb+u6CaOi7y4FLf39KdolV9JhPdqh91a8RuKAMGpjS3fvheVM3G5q8t22/n7YC81GCmwGBYZmbb0Pbf0RlW/aeuVBW2/toMNtPbnf0MWo/abuu6+c3WtMu4KGTKhqv3u9bcPMR+8jsHSdZgfjqJ6Ldrr3oWpPHbvyplbftXU5Ce8kbXU0aaZCR3U8evNVLx70+m7XBvzQ1s3I2bTj0Rs3hE1uXvTmUKvzLV0zayWavj5sa/XNZ024dWpftecbyTkXbjd004RxtoQB9yip5pvePm7KrE9oyr94xwSi5ss9axNb3njc0eqrjeNZw9AUv7+tF85zeMmEk+b4kGdHGsHjqGc83vTE80sweIPAWAIEhmOxcRECCCCAAAIIIIAAAggggAACCCCAAAJnU4DA8GzeV3qFAAIIIIAAAggggAACCCCAAAIIIIDAWAIEhmOxcRECCCCAAAIIIIAAAggggAACCCCAAAJnU4DA8GzeV3qFAAIIIIAAAggggAACCCCAAAIIIIDAWAIEhmOxcRECCCCAAAIIIIAAAggggAACCCCAAAJnU4DA8GzeV3qFAAIIIIAAAggggAACCCCAAAIIIIDAWAIEhmOxcRECCCCAAAIIIIAAAggggAACCCCAAAJnU4DA8GzeV3qFAAIIIIAAAggggAACCCCAAAIIIIDAWAIEhmOxcRECCCCAAAIIIIAAAggggAACCCCAAAJnU4DA8GzeV3qFAAIIIIAAAggggAACCCCAAAIIIIDAWAIEhmOxcRECCCCAAAIIIIAAAggggAACCCCAAAJnU4DA8GzeV3qFAAIIIIAAAggggAACCCCAAAIIIIDAWAIEhmOxcRECCCCAAAIIIIAAAggggAACCCCAAAJnU4DA8GzeV3qFAAIIIIAAAggggAACCCCAAAIIIIDAWAIEhmOxcRECCCCAAAIIIIAAAggggAACCCCAAAJnU4DA8GzeV3p1ggX+97//iX8x4BngGeAZ4BngGeAZ4BngGeAZ4BngGfjfCf4vN5qGwPkWIDA83/ef3iOAAAIIIIAAAggggAACCCCAAAIIIOAJEBh6HHxAAAEEEEAAAQQQQAABBBBAAAEEEEDgfAsQGJ7v+0/vEUAAAQQQQAABBBBAAAEEEEAAAQQQ8AT+H3XuQRGJOiUiAAAAAElFTkSuQmCC)"
      ]
    }
  ]
}