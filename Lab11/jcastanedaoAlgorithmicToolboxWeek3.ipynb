{
  "nbformat": 4,
  "nbformat_minor": 0,
  "metadata": {
    "colab": {
      "name": "jcastanedaoAlgorithmicToolboxWeek3.ipynb",
      "provenance": [],
      "collapsed_sections": []
    },
    "kernelspec": {
      "name": "python3",
      "display_name": "Python 3"
    },
    "language_info": {
      "name": "python"
    }
  },
  "cells": [
    {
      "cell_type": "markdown",
      "metadata": {
        "id": "WI4eGNqWi0h5"
      },
      "source": [
        "#Week 3: Greedy Algorithmics\n",
        "\n",
        "Integrantes:\n",
        "\n",
        "- Juan Diego Castañeda Oviedo\n",
        "- Sebastian Camilo Casas Rojas\n",
        "- Daniel Santiago Gaitan Gaitan"
      ]
    },
    {
      "cell_type": "markdown",
      "metadata": {
        "id": "OezDfW6PkL9j"
      },
      "source": [
        "##3-1: Money Change"
      ]
    },
    {
      "cell_type": "code",
      "metadata": {
        "colab": {
          "base_uri": "https://localhost:8080/"
        },
        "id": "trpInJP7iu6p",
        "outputId": "ac5144c4-a1ac-4b80-8208-ccfc1d11d640"
      },
      "source": [
        "%%writefile ex3_1.py\n",
        "\n",
        "n = int(input())\n",
        "\n",
        "c = 0\n",
        "\n",
        "for i in [10, 5, 1]:\n",
        "    if n>=i:\n",
        "        q = n//i\n",
        "        c = c + q\n",
        "        n = n%i\n",
        "        if n == 0:\n",
        "            print(c)\n",
        "            quit()"
      ],
      "execution_count": null,
      "outputs": [
        {
          "output_type": "stream",
          "text": [
            "Writing ex3_1.py\n"
          ],
          "name": "stdout"
        }
      ]
    },
    {
      "cell_type": "code",
      "metadata": {
        "colab": {
          "base_uri": "https://localhost:8080/"
        },
        "id": "szietYRKk43i",
        "outputId": "c09f5fc0-e3a5-4bd6-cf74-91eadc46ef8c"
      },
      "source": [
        "!python ex3_1.py"
      ],
      "execution_count": null,
      "outputs": [
        {
          "output_type": "stream",
          "text": [
            "2\n",
            "2\n"
          ],
          "name": "stdout"
        }
      ]
    },
    {
      "cell_type": "code",
      "metadata": {
        "colab": {
          "base_uri": "https://localhost:8080/"
        },
        "id": "2-tLAqLhk5Gy",
        "outputId": "69420757-ebb5-40f2-f9d2-e61ea4cc11a3"
      },
      "source": [
        "!python ex3_1.py"
      ],
      "execution_count": null,
      "outputs": [
        {
          "output_type": "stream",
          "text": [
            "28\n",
            "6\n"
          ],
          "name": "stdout"
        }
      ]
    },
    {
      "cell_type": "markdown",
      "metadata": {
        "id": "WEvo_zo6kXfp"
      },
      "source": [
        "##3-2: Maximum Value of the Loot"
      ]
    },
    {
      "cell_type": "code",
      "metadata": {
        "colab": {
          "base_uri": "https://localhost:8080/"
        },
        "id": "NIjthmJ_kfMT",
        "outputId": "cec5149c-c33d-4e0d-b643-024d5a7b6abf"
      },
      "source": [
        "%%writefile ex3_2.py\n",
        "\n",
        "n, W = list(map(int, input().split()))\n",
        "l = []\n",
        "tv = 0\n",
        "\n",
        "if W == 0:\n",
        "    print(0)\n",
        "    quit()\n",
        "\n",
        "for _ in range(n):\n",
        "    v, w = list(map(int, input().split()))\n",
        "    if v == 0:\n",
        "        continue\n",
        "    l.append((v, w))\n",
        "\n",
        "l.sort(key = lambda x: x[0]/x[1], reverse = True)\n",
        "\n",
        "for v,w in l:\n",
        "    if W==0:\n",
        "        print(tv)\n",
        "        quit()\n",
        "    a = min(w, W)\n",
        "    tv = tv + a*v/w\n",
        "    W = W - a\n",
        "\n",
        "print(tv)"
      ],
      "execution_count": null,
      "outputs": [
        {
          "output_type": "stream",
          "text": [
            "Writing ex3_2.py\n"
          ],
          "name": "stdout"
        }
      ]
    },
    {
      "cell_type": "code",
      "metadata": {
        "colab": {
          "base_uri": "https://localhost:8080/"
        },
        "id": "HKzjHfnjlA1y",
        "outputId": "a9dc6f49-366c-4a4b-ce13-793d69709c58"
      },
      "source": [
        "!python ex3_2.py"
      ],
      "execution_count": null,
      "outputs": [
        {
          "output_type": "stream",
          "text": [
            "3 50\n",
            "60 20\n",
            "100 50\n",
            "120 30\n",
            "180.0\n"
          ],
          "name": "stdout"
        }
      ]
    },
    {
      "cell_type": "code",
      "metadata": {
        "colab": {
          "base_uri": "https://localhost:8080/"
        },
        "id": "aRCwvNJYlBGA",
        "outputId": "184822c6-e8a0-4b8f-9ff7-1c1518d85f00"
      },
      "source": [
        "!python ex3_2.py"
      ],
      "execution_count": null,
      "outputs": [
        {
          "output_type": "stream",
          "text": [
            "1 10\n",
            "500 30\n",
            "166.66666666666666\n"
          ],
          "name": "stdout"
        }
      ]
    },
    {
      "cell_type": "markdown",
      "metadata": {
        "id": "mxfCYO-vkfeJ"
      },
      "source": [
        "##3-3: Car Fueling"
      ]
    },
    {
      "cell_type": "code",
      "metadata": {
        "colab": {
          "base_uri": "https://localhost:8080/"
        },
        "id": "vb2jo2_KkjYy",
        "outputId": "88bd2a82-48ea-425a-9257-84ff92611200"
      },
      "source": [
        "%%writefile ex3_3.py\n",
        "\n",
        "d = int(input())\n",
        "m = int(input())\n",
        "n = int(input())\n",
        "\n",
        "stops = list(map(int, input().split()))\n",
        "\n",
        "stops.append(d)\n",
        "no_stops = 0\n",
        "ld = d\n",
        "cd = 0\n",
        "for i in range(len(stops) - 1):\n",
        "    if (ld == 0):\n",
        "        break\n",
        "    elif ((stops[i + 1] - stops[i]) > m):\n",
        "        no_stops = -1\n",
        "        break\n",
        "    elif ((cd + m) >= stops[i] and (cd + m) < stops[i + 1]):\n",
        "        cd = stops[i]\n",
        "        ld = d - stops[i]\n",
        "        no_stops +=  1\n",
        "\n",
        "print(no_stops)"
      ],
      "execution_count": null,
      "outputs": [
        {
          "output_type": "stream",
          "text": [
            "Writing ex3_3.py\n"
          ],
          "name": "stdout"
        }
      ]
    },
    {
      "cell_type": "code",
      "metadata": {
        "colab": {
          "base_uri": "https://localhost:8080/"
        },
        "id": "zQx-4BuWlJJS",
        "outputId": "41023891-3bb1-45f1-b5b8-6e41dee66c1a"
      },
      "source": [
        "!python ex3_3.py"
      ],
      "execution_count": null,
      "outputs": [
        {
          "output_type": "stream",
          "text": [
            "950\n",
            "400\n",
            "4\n",
            "200 375 550 750\n",
            "2\n"
          ],
          "name": "stdout"
        }
      ]
    },
    {
      "cell_type": "code",
      "metadata": {
        "colab": {
          "base_uri": "https://localhost:8080/"
        },
        "id": "Oq9ABL07lJbi",
        "outputId": "194c955f-5ec9-4512-d472-86342d6e8b1d"
      },
      "source": [
        "!python ex3_3.py"
      ],
      "execution_count": null,
      "outputs": [
        {
          "output_type": "stream",
          "text": [
            "10\n",
            "3\n",
            "4\n",
            "1 2 5 9\n",
            "-1\n"
          ],
          "name": "stdout"
        }
      ]
    },
    {
      "cell_type": "code",
      "metadata": {
        "colab": {
          "base_uri": "https://localhost:8080/"
        },
        "id": "JGxwgGNIn9oX",
        "outputId": "9d2e0e8c-5e28-4e33-e4d2-3e21330d58e0"
      },
      "source": [
        "!python ex3_3.py"
      ],
      "execution_count": null,
      "outputs": [
        {
          "output_type": "stream",
          "text": [
            "200\n",
            "250\n",
            "2\n",
            "100\n",
            "0\n"
          ],
          "name": "stdout"
        }
      ]
    },
    {
      "cell_type": "markdown",
      "metadata": {
        "id": "Y8V2VobDkj2C"
      },
      "source": [
        "##3-4: Maximum Advertisement Revenue"
      ]
    },
    {
      "cell_type": "code",
      "metadata": {
        "colab": {
          "base_uri": "https://localhost:8080/"
        },
        "id": "Z7tUDzQ4kpTa",
        "outputId": "341a7b8d-a24e-4a63-b2c9-4d852b19f689"
      },
      "source": [
        "%%writefile ex3_4.py\n",
        "\n",
        "n = int(input())\n",
        "a = list(map(int, input().split()))\n",
        "b = list(map(int, input().split()))\n",
        "\n",
        "b.sort()\n",
        "a.sort()\n",
        "\n",
        "result = sum([a[i]*b[i] for i in range(n)])\n",
        "\n",
        "print(result)"
      ],
      "execution_count": null,
      "outputs": [
        {
          "output_type": "stream",
          "text": [
            "Writing ex3_4.py\n"
          ],
          "name": "stdout"
        }
      ]
    },
    {
      "cell_type": "code",
      "metadata": {
        "colab": {
          "base_uri": "https://localhost:8080/"
        },
        "id": "hmbq8z92lOAM",
        "outputId": "a3ce096c-3d73-4ca1-a57d-066ff5a85290"
      },
      "source": [
        "!python ex3_4.py"
      ],
      "execution_count": null,
      "outputs": [
        {
          "output_type": "stream",
          "text": [
            "1\n",
            "23\n",
            "39\n",
            "897\n"
          ],
          "name": "stdout"
        }
      ]
    },
    {
      "cell_type": "code",
      "metadata": {
        "colab": {
          "base_uri": "https://localhost:8080/"
        },
        "id": "eQ1I5KuLlOQS",
        "outputId": "68061e40-0954-4221-d365-865c726b28dd"
      },
      "source": [
        "!python ex3_4.py"
      ],
      "execution_count": null,
      "outputs": [
        {
          "output_type": "stream",
          "text": [
            "3\n",
            "1 3 -5\n",
            "-2 4 1\n",
            "23\n"
          ],
          "name": "stdout"
        }
      ]
    },
    {
      "cell_type": "markdown",
      "metadata": {
        "id": "MA7vaWS4kpiM"
      },
      "source": [
        "##3-5: Collecting Signatures"
      ]
    },
    {
      "cell_type": "code",
      "metadata": {
        "colab": {
          "base_uri": "https://localhost:8080/"
        },
        "id": "XDgqETCmksDC",
        "outputId": "1d259e5a-e8ce-40a6-afdb-32432938961c"
      },
      "source": [
        "%%writefile ex3_5.py\n",
        "\n",
        "n = int(input())\n",
        "\n",
        "l = []\n",
        "\n",
        "for e in range(n):\n",
        "    a, b = list(map(int, input().split()))\n",
        "    l.append((a,b))\n",
        "\n",
        "l.sort(key = lambda x: x[1])\n",
        "\n",
        "i = 0\n",
        "coord = []\n",
        "\n",
        "while i < n:\n",
        "    c = l[i]\n",
        "    while i < n-1 and c[1]>=l[i+1][0]:\n",
        "        i += 1\n",
        "\n",
        "    coord.append(c[1])\n",
        "    i += 1\n",
        "\n",
        "print(len(coord))\n",
        "\n",
        "print(' '.join([str(i) for i in coord]))"
      ],
      "execution_count": null,
      "outputs": [
        {
          "output_type": "stream",
          "text": [
            "Writing ex3_5.py\n"
          ],
          "name": "stdout"
        }
      ]
    },
    {
      "cell_type": "code",
      "metadata": {
        "colab": {
          "base_uri": "https://localhost:8080/"
        },
        "id": "eUi1wuetlVgr",
        "outputId": "b4fad5dc-87f7-4477-fe3e-9c772f76d85b"
      },
      "source": [
        "!python ex3_5.py"
      ],
      "execution_count": null,
      "outputs": [
        {
          "output_type": "stream",
          "text": [
            "3\n",
            "1 3\n",
            "2 5\n",
            "3 6\n",
            "1\n",
            "3\n"
          ],
          "name": "stdout"
        }
      ]
    },
    {
      "cell_type": "code",
      "metadata": {
        "colab": {
          "base_uri": "https://localhost:8080/"
        },
        "id": "QSmfxYFtlVuk",
        "outputId": "9d926306-9354-470e-ad98-bde5921e3bcf"
      },
      "source": [
        "!python ex3_5.py"
      ],
      "execution_count": null,
      "outputs": [
        {
          "output_type": "stream",
          "text": [
            "4\n",
            "4 7\n",
            "1 3\n",
            "2 5\n",
            "5 6\n",
            "2\n",
            "3 6\n"
          ],
          "name": "stdout"
        }
      ]
    },
    {
      "cell_type": "markdown",
      "metadata": {
        "id": "XQkPS90NkrRK"
      },
      "source": [
        "##3-6: Maximum Number of Prizes"
      ]
    },
    {
      "cell_type": "code",
      "metadata": {
        "colab": {
          "base_uri": "https://localhost:8080/"
        },
        "id": "FbcSzSXlku9K",
        "outputId": "3cd26457-7c3d-403a-fa5f-39b1ca439e38"
      },
      "source": [
        "%%writefile ex3_6.py\n",
        "\n",
        "n = int(input())\n",
        "\n",
        "W = n\n",
        "p = []\n",
        "\n",
        "if n == 1:\n",
        "    print(1)\n",
        "    print(1)\n",
        "    quit()\n",
        "\n",
        "for i in range(1, n):\n",
        "    if W>2*i:\n",
        "        p.append(i)\n",
        "        W = W - i\n",
        "    else:\n",
        "        p.append(W)\n",
        "        break\n",
        "\n",
        "print(len(p))\n",
        "print(' '.join([str(i) for i in p]))"
      ],
      "execution_count": null,
      "outputs": [
        {
          "output_type": "stream",
          "text": [
            "Writing ex3_6.py\n"
          ],
          "name": "stdout"
        }
      ]
    },
    {
      "cell_type": "code",
      "metadata": {
        "colab": {
          "base_uri": "https://localhost:8080/"
        },
        "id": "HQDU9RJnlZqa",
        "outputId": "26eb2cc8-646d-4a2c-8ab5-a1483b08838c"
      },
      "source": [
        "!python ex3_6.py"
      ],
      "execution_count": null,
      "outputs": [
        {
          "output_type": "stream",
          "text": [
            "6\n",
            "3\n",
            "1 2 3\n"
          ],
          "name": "stdout"
        }
      ]
    },
    {
      "cell_type": "code",
      "metadata": {
        "colab": {
          "base_uri": "https://localhost:8080/"
        },
        "id": "AAK2Dn-qlZ2i",
        "outputId": "c55e9a9e-5127-40a4-becf-5b4c3a28b50d"
      },
      "source": [
        "!python ex3_6.py"
      ],
      "execution_count": null,
      "outputs": [
        {
          "output_type": "stream",
          "text": [
            "8\n",
            "3\n",
            "1 2 5\n"
          ],
          "name": "stdout"
        }
      ]
    },
    {
      "cell_type": "code",
      "metadata": {
        "colab": {
          "base_uri": "https://localhost:8080/"
        },
        "id": "Mm1LsDMylaDa",
        "outputId": "bf5ad195-5c64-4e37-8db5-a319cb807856"
      },
      "source": [
        "!python ex3_6.py"
      ],
      "execution_count": null,
      "outputs": [
        {
          "output_type": "stream",
          "text": [
            "2\n",
            "1\n",
            "2\n"
          ],
          "name": "stdout"
        }
      ]
    },
    {
      "cell_type": "markdown",
      "metadata": {
        "id": "5JtzMmL_kzUD"
      },
      "source": [
        "##3-7: Maximum Salary"
      ]
    },
    {
      "cell_type": "code",
      "metadata": {
        "colab": {
          "base_uri": "https://localhost:8080/"
        },
        "id": "eWDdbXcZkzla",
        "outputId": "2328ab60-22c5-414c-ad03-389d633c0cb7"
      },
      "source": [
        "%%writefile ex3_7.py\n",
        "\n",
        "n = int(input())\n",
        "l = list(map(int, input().split()))\n",
        "\n",
        "res = []\n",
        "\n",
        "while l!=[]:\n",
        "    max_digit = 0\n",
        "    for digit in l:\n",
        "        if int(str(digit)+str(max_digit))>=int(str(max_digit)+str(digit)):\n",
        "            max_digit = digit\n",
        "    res.append(max_digit)\n",
        "    l.remove(max_digit)\n",
        "\n",
        "print(''.join([str(i) for i in res]))"
      ],
      "execution_count": null,
      "outputs": [
        {
          "output_type": "stream",
          "text": [
            "Writing ex3_7.py\n"
          ],
          "name": "stdout"
        }
      ]
    },
    {
      "cell_type": "code",
      "metadata": {
        "colab": {
          "base_uri": "https://localhost:8080/"
        },
        "id": "wr1yEzlGlcJa",
        "outputId": "1435705b-34d6-4584-a916-474556b79872"
      },
      "source": [
        "!python ex3_7.py"
      ],
      "execution_count": null,
      "outputs": [
        {
          "output_type": "stream",
          "text": [
            "2\n",
            "21 2\n",
            "221\n"
          ],
          "name": "stdout"
        }
      ]
    },
    {
      "cell_type": "code",
      "metadata": {
        "colab": {
          "base_uri": "https://localhost:8080/"
        },
        "id": "3w3EBxqalccV",
        "outputId": "e254da29-a18a-40ae-d665-21a3acf709d0"
      },
      "source": [
        "!python ex3_7.py"
      ],
      "execution_count": null,
      "outputs": [
        {
          "output_type": "stream",
          "text": [
            "5\n",
            "9 4 6 1 9\n",
            "99641\n"
          ],
          "name": "stdout"
        }
      ]
    },
    {
      "cell_type": "code",
      "metadata": {
        "colab": {
          "base_uri": "https://localhost:8080/"
        },
        "id": "7N_Gg3iTlcu2",
        "outputId": "5802fb93-2d86-4929-be47-185f89b74f25"
      },
      "source": [
        "!python ex3_7.py"
      ],
      "execution_count": null,
      "outputs": [
        {
          "output_type": "stream",
          "text": [
            "3\n",
            "23 39 92\n",
            "923923\n"
          ],
          "name": "stdout"
        }
      ]
    },
    {
      "cell_type": "markdown",
      "metadata": {
        "id": "oxjyJTdXprvq"
      },
      "source": [
        "##Results:"
      ]
    },
    {
      "cell_type": "markdown",
      "metadata": {
        "id": "dpld4nUYptsw"
      },
      "source": [
        "![image.png](data:image/png;base64,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)"
      ]
    }
  ]
}