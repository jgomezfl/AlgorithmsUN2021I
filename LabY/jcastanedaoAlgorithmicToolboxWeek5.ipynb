{
  "nbformat": 4,
  "nbformat_minor": 0,
  "metadata": {
    "colab": {
      "name": "jcastanedaoAlgorithmicToolboxWeek5.ipynb",
      "provenance": [],
      "collapsed_sections": []
    },
    "kernelspec": {
      "name": "python3",
      "display_name": "Python 3"
    },
    "language_info": {
      "name": "python"
    }
  },
  "cells": [
    {
      "cell_type": "markdown",
      "metadata": {
        "id": "sGRHpilDT3Ga"
      },
      "source": [
        "#Week 5: Dynamic Programming 1\n",
        "\n",
        "Integrantes:\n",
        "\n",
        "- Juan Diego Castañeda Oviedo\n",
        "- Sebastian Camilo Casas Rojas\n",
        "- Daniel Santiago Gaitan Gaitan"
      ]
    },
    {
      "cell_type": "markdown",
      "metadata": {
        "id": "QL1BqG0jT7ia"
      },
      "source": [
        "##5-1: Money Change Again"
      ]
    },
    {
      "cell_type": "code",
      "metadata": {
        "colab": {
          "base_uri": "https://localhost:8080/"
        },
        "id": "nCK8lOq6TOam",
        "outputId": "c10e8a8b-91d3-4a80-826e-945bea1472f9"
      },
      "source": [
        "%%writefile ex5_1.py\n",
        "\n",
        "import sys\n",
        "\n",
        "m = int(input())\n",
        "\n",
        "d = [1, 3, 4]\n",
        "\n",
        "minCoins = [0] + [sys.maxsize]*m\n",
        "\n",
        "for i in range(1, m+1):\n",
        "    for j in d:\n",
        "\n",
        "        if i>=j:\n",
        "            coins = minCoins[i-j]+1\n",
        "            if coins < minCoins[i]:\n",
        "                minCoins[i] = coins\n",
        "\n",
        "print(minCoins[m])"
      ],
      "execution_count": null,
      "outputs": [
        {
          "output_type": "stream",
          "text": [
            "Writing ex5_1.py\n"
          ],
          "name": "stdout"
        }
      ]
    },
    {
      "cell_type": "code",
      "metadata": {
        "colab": {
          "base_uri": "https://localhost:8080/"
        },
        "id": "qx_dUKy4UBGQ",
        "outputId": "1ad9ce6f-a7b3-467a-fd86-baefd6a4f91a"
      },
      "source": [
        "!python ex5_1.py"
      ],
      "execution_count": null,
      "outputs": [
        {
          "output_type": "stream",
          "text": [
            "2\n",
            "2\n"
          ],
          "name": "stdout"
        }
      ]
    },
    {
      "cell_type": "code",
      "metadata": {
        "colab": {
          "base_uri": "https://localhost:8080/"
        },
        "id": "SXitakR6UBRD",
        "outputId": "41e406af-46f1-4a34-b4c2-e6ce632481fb"
      },
      "source": [
        "!python ex5_1.py"
      ],
      "execution_count": null,
      "outputs": [
        {
          "output_type": "stream",
          "text": [
            "34\n",
            "9\n"
          ],
          "name": "stdout"
        }
      ]
    },
    {
      "cell_type": "markdown",
      "metadata": {
        "id": "1yZrCszDUBe6"
      },
      "source": [
        "##5-2: Primitive Calculator"
      ]
    },
    {
      "cell_type": "code",
      "metadata": {
        "colab": {
          "base_uri": "https://localhost:8080/"
        },
        "id": "0qy1dXRIUHez",
        "outputId": "9dc2ffd3-6fef-4861-f280-6e014231803d"
      },
      "source": [
        "%%writefile ex5_2.py\n",
        "\n",
        "import sys\n",
        "\n",
        "def function1(numo, n):\n",
        "    for i in range(2, n+1):\n",
        "        t1, t2, t3 = [sys.maxsize]*3\n",
        "\n",
        "        t1 = numo[i-1] + 1 \n",
        "        if i%2 == 0: t2 = numo[i//2] + 1\n",
        "        if i%3 == 0: t3 = numo[i//3] + 1\n",
        "        min_ops = min(t1, t2, t3)\n",
        "        numo[i] = min_ops\n",
        "\n",
        "    return numo[n]\n",
        "\n",
        "n = int(input())\n",
        "\n",
        "numo = [0, 0] + [sys.maxsize]*(n-1)\n",
        "\n",
        "print(function1(numo, n))\n",
        "\n",
        "\n",
        "nums = [n]\n",
        "while n!=1:\n",
        "    if n%3 ==0 and numo[n]-1 == numo[n//3]:\n",
        "        nums += [n//3]\n",
        "        n = n//3\n",
        "    elif n%2 ==0 and numo[n]-1 == numo[n//2]:\n",
        "        nums += [n//2]\n",
        "        n = n//2\n",
        "    else:\n",
        "        nums += [n-1]\n",
        "        n = n - 1\n",
        "\n",
        "print(' '.join([str(i) for i in nums][::-1]))"
      ],
      "execution_count": null,
      "outputs": [
        {
          "output_type": "stream",
          "text": [
            "Writing ex5_2.py\n"
          ],
          "name": "stdout"
        }
      ]
    },
    {
      "cell_type": "code",
      "metadata": {
        "colab": {
          "base_uri": "https://localhost:8080/"
        },
        "id": "KVOb-9EkUHrC",
        "outputId": "a5b91ee2-f6f8-4cb9-ec64-23fdb600a580"
      },
      "source": [
        "!python ex5_2.py"
      ],
      "execution_count": null,
      "outputs": [
        {
          "output_type": "stream",
          "text": [
            "1\n",
            "0\n",
            "1\n"
          ],
          "name": "stdout"
        }
      ]
    },
    {
      "cell_type": "code",
      "metadata": {
        "colab": {
          "base_uri": "https://localhost:8080/"
        },
        "id": "xCrF7GV7UIyz",
        "outputId": "771538ba-c850-4e21-f992-196a08e0db1f"
      },
      "source": [
        "!python ex5_2.py"
      ],
      "execution_count": null,
      "outputs": [
        {
          "output_type": "stream",
          "text": [
            "5\n",
            "3\n",
            "1 2 4 5\n"
          ],
          "name": "stdout"
        }
      ]
    },
    {
      "cell_type": "code",
      "metadata": {
        "colab": {
          "base_uri": "https://localhost:8080/"
        },
        "id": "W7kLrv2HUJC8",
        "outputId": "cfee9b9a-89cc-4f67-a0b5-ab89d0c17a84"
      },
      "source": [
        "!python ex5_2.py"
      ],
      "execution_count": null,
      "outputs": [
        {
          "output_type": "stream",
          "text": [
            "96234\n",
            "14\n",
            "1 3 9 10 11 22 66 198 594 1782 5346 16038 16039 32078 96234\n"
          ],
          "name": "stdout"
        }
      ]
    },
    {
      "cell_type": "markdown",
      "metadata": {
        "id": "kU2a6CVtUQaG"
      },
      "source": [
        "##5-3: Edit Distance"
      ]
    },
    {
      "cell_type": "code",
      "metadata": {
        "colab": {
          "base_uri": "https://localhost:8080/"
        },
        "id": "g4xThEBvUSqg",
        "outputId": "d5be4c14-e1d8-47ad-9dd5-05b78b6344a0"
      },
      "source": [
        "%%writefile ex5_3.py\n",
        "\n",
        "import numpy\n",
        "\n",
        "s1 = input()\n",
        "s2 = input()\n",
        "\n",
        "ln_s1 = len(s1)\n",
        "ln_s2 = len(s2)\n",
        "\n",
        "Matrix = numpy.zeros((ln_s1+1 , ln_s2+1))\n",
        "for i in range(ln_s2+1):\n",
        "    Matrix[0][i] = i\n",
        "\n",
        "for i in range(ln_s1+1):\n",
        "    Matrix[i][0] = i\n",
        "\n",
        "for i in range(1, ln_s1+1):\n",
        "    for j in range(1, ln_s2+1):\n",
        "        insertion = Matrix[i][j-1]   + 1\n",
        "        deletion  = Matrix[i-1][j]   + 1\n",
        "        mismatch  = Matrix[i-1][j-1] + 1\n",
        "        match     = Matrix[i-1][j-1]\n",
        "        if s1[i-1] == s2[j-1]:\n",
        "            Matrix[i][j] = min(insertion, deletion, match)\n",
        "        if s1[i-1] != s2[j-1]:\n",
        "            Matrix[i][j] = min(insertion, deletion, mismatch)\n",
        "\n",
        "edit_distance = int(Matrix[ln_s1][ln_s2])\n",
        "\n",
        "print(edit_distance)"
      ],
      "execution_count": null,
      "outputs": [
        {
          "output_type": "stream",
          "text": [
            "Writing ex5_3.py\n"
          ],
          "name": "stdout"
        }
      ]
    },
    {
      "cell_type": "code",
      "metadata": {
        "colab": {
          "base_uri": "https://localhost:8080/"
        },
        "id": "2Zils9zwUS3R",
        "outputId": "b2812d90-79b9-4099-e3c2-369e94e94354"
      },
      "source": [
        "!python ex5_3.py"
      ],
      "execution_count": null,
      "outputs": [
        {
          "output_type": "stream",
          "text": [
            "ab\n",
            "ab\n",
            "0\n"
          ],
          "name": "stdout"
        }
      ]
    },
    {
      "cell_type": "code",
      "metadata": {
        "colab": {
          "base_uri": "https://localhost:8080/"
        },
        "id": "JVQTlvPsUUfW",
        "outputId": "a4d13177-efb1-43e5-e7a3-5eb6fc7953be"
      },
      "source": [
        "!python ex5_3.py"
      ],
      "execution_count": null,
      "outputs": [
        {
          "output_type": "stream",
          "text": [
            "short\n",
            "ports\n",
            "3\n"
          ],
          "name": "stdout"
        }
      ]
    },
    {
      "cell_type": "code",
      "metadata": {
        "colab": {
          "base_uri": "https://localhost:8080/"
        },
        "id": "L6Tg_2nHUUxJ",
        "outputId": "de9d7d9b-f2c6-44ee-dddf-7a75c212d582"
      },
      "source": [
        "!python ex5_3.py"
      ],
      "execution_count": null,
      "outputs": [
        {
          "output_type": "stream",
          "text": [
            "editing\n",
            "distance\n",
            "5\n"
          ],
          "name": "stdout"
        }
      ]
    },
    {
      "cell_type": "markdown",
      "metadata": {
        "id": "IrlJjCpDUXOu"
      },
      "source": [
        "##5-4: Longest Common Subsequence of Two Sequences"
      ]
    },
    {
      "cell_type": "code",
      "metadata": {
        "colab": {
          "base_uri": "https://localhost:8080/"
        },
        "id": "FJjDPXiTUZ2s",
        "outputId": "ebd68b59-4407-4190-905a-aa365dfcc995"
      },
      "source": [
        "%%writefile ex5_4.py\n",
        "\n",
        "n = int(input())\n",
        "a = list(map(int, input().split()))\n",
        "m = int(input())\n",
        "b = list(map(int, input().split()))\n",
        "\n",
        "lsm = [[0 for i in range(m + 1)] for j in range(n + 1)]\n",
        "\n",
        "for i in range(1, n+1):\n",
        "    for j in range(1, m+1):\n",
        "        if a[i-1] == b[j-1]:\n",
        "            lsm[i][j] = lsm[i-1][j-1] + 1\n",
        "        elif a[i-1] != b[j-1]:\n",
        "            lsm[i][j] = max(lsm[i-1][j-1], lsm[i-1][j], lsm[i][j-1])\n",
        "\n",
        "print(lsm[n][m])"
      ],
      "execution_count": null,
      "outputs": [
        {
          "output_type": "stream",
          "text": [
            "Writing ex5_4.py\n"
          ],
          "name": "stdout"
        }
      ]
    },
    {
      "cell_type": "code",
      "metadata": {
        "colab": {
          "base_uri": "https://localhost:8080/"
        },
        "id": "NrNtkHinUaDN",
        "outputId": "47ad9927-d778-473d-d48a-89480709339e"
      },
      "source": [
        "!python ex5_4.py"
      ],
      "execution_count": null,
      "outputs": [
        {
          "output_type": "stream",
          "text": [
            "3\n",
            "2 7 5\n",
            "2\n",
            "2 5\n",
            "2\n"
          ],
          "name": "stdout"
        }
      ]
    },
    {
      "cell_type": "code",
      "metadata": {
        "colab": {
          "base_uri": "https://localhost:8080/"
        },
        "id": "5FaXu6QKUaPc",
        "outputId": "c25b465c-510d-4204-8f9f-c5665511f1dd"
      },
      "source": [
        "!python ex5_4.py"
      ],
      "execution_count": null,
      "outputs": [
        {
          "output_type": "stream",
          "text": [
            "1\n",
            "7\n",
            "4\n",
            "1 2 3 4\n",
            "0\n"
          ],
          "name": "stdout"
        }
      ]
    },
    {
      "cell_type": "code",
      "metadata": {
        "colab": {
          "base_uri": "https://localhost:8080/"
        },
        "id": "nytYxh5CUadS",
        "outputId": "8d6dca14-6f38-460c-b0dd-c2ea5197a395"
      },
      "source": [
        "!python ex5_4.py"
      ],
      "execution_count": null,
      "outputs": [
        {
          "output_type": "stream",
          "text": [
            "4\n",
            "2 7 8 3\n",
            "4\n",
            "5 2 8 7\n",
            "2\n"
          ],
          "name": "stdout"
        }
      ]
    },
    {
      "cell_type": "markdown",
      "metadata": {
        "id": "bsRP7Vl9Ub8D"
      },
      "source": [
        "##5-5: Longest Common Subsequence of Three Sequences"
      ]
    },
    {
      "cell_type": "code",
      "metadata": {
        "colab": {
          "base_uri": "https://localhost:8080/"
        },
        "id": "HF9Wss6cUedO",
        "outputId": "98632796-4cab-4f90-8096-57f33ea50262"
      },
      "source": [
        "%%writefile ex5_5.py\n",
        "\n",
        "import sys\n",
        "\n",
        "an = int(input())\n",
        "a = list(map(int, input().split()))\n",
        "bn = int(input())\n",
        "b = list(map(int, input().split()))\n",
        "cn = int(input())\n",
        "c = list(map(int, input().split()))\n",
        "\n",
        "T = [[[0]*(len(a)+1) for _ in range(len(b)+1)] for ex in range(len(c)+1)]\n",
        "for i in range(1,len(a)+1):\n",
        "    for j in range(1,len(b)+1):\n",
        "        for k in range(1,len(c)+1):\n",
        "            if a[i-1]==b[j-1]==c[k-1]:\n",
        "                T[k][j][i] = T[k-1][j-1][i-1] + 1\n",
        "            else :\n",
        "                T[k][j][i] = max(T[k-1][j][i],T[k][j-1][i],T[k][j][i-1])\n",
        "\n",
        "print(T[k][j][i])"
      ],
      "execution_count": null,
      "outputs": [
        {
          "output_type": "stream",
          "text": [
            "Writing ex5_5.py\n"
          ],
          "name": "stdout"
        }
      ]
    },
    {
      "cell_type": "code",
      "metadata": {
        "colab": {
          "base_uri": "https://localhost:8080/"
        },
        "id": "egsmENf3Uepz",
        "outputId": "7f25a3c6-594c-45ae-b494-832ef4c879a1"
      },
      "source": [
        "!python ex5_5.py"
      ],
      "execution_count": null,
      "outputs": [
        {
          "output_type": "stream",
          "text": [
            "3\n",
            "1 2 3\n",
            "3\n",
            "2 1 3\n",
            "3\n",
            "1 3 5\n",
            "2\n"
          ],
          "name": "stdout"
        }
      ]
    },
    {
      "cell_type": "code",
      "metadata": {
        "colab": {
          "base_uri": "https://localhost:8080/"
        },
        "id": "YTDq_gyLUeyE",
        "outputId": "82bbd801-86b0-4a81-ec63-c03235acf1bd"
      },
      "source": [
        "!python ex5_5.py"
      ],
      "execution_count": null,
      "outputs": [
        {
          "output_type": "stream",
          "text": [
            "5\n",
            "8 3 2 1 7\n",
            "7\n",
            "8 2 1 3 8 10 7\n",
            "6\n",
            "6 8 3 1 4 7\n",
            "3\n"
          ],
          "name": "stdout"
        }
      ]
    },
    {
      "cell_type": "markdown",
      "metadata": {
        "id": "50XbKwPjWZ2S"
      },
      "source": [
        "##Results:"
      ]
    },
    {
      "cell_type": "markdown",
      "metadata": {
        "id": "LCczFqEnWbmw"
      },
      "source": [
        "![image.png](data:image/png;base64,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)"
      ]
    }
  ]
}